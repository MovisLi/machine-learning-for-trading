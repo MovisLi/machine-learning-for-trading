{
 "cells": [
  {
   "cell_type": "markdown",
   "metadata": {},
   "source": [
    "# Preparing Alpha Factors and Features to predict Stock Returns\n"
   ]
  },
  {
   "cell_type": "markdown",
   "metadata": {},
   "source": [
    "## Imports & Settings\n"
   ]
  },
  {
   "cell_type": "code",
   "execution_count": 1,
   "metadata": {
    "ExecuteTime": {
     "end_time": "2021-04-15T19:55:39.004078Z",
     "start_time": "2021-04-15T19:55:39.002167Z"
    }
   },
   "outputs": [],
   "source": [
    "import warnings\n",
    "\n",
    "warnings.filterwarnings(\"ignore\")"
   ]
  },
  {
   "cell_type": "code",
   "execution_count": 2,
   "metadata": {
    "ExecuteTime": {
     "end_time": "2021-04-15T19:55:39.621179Z",
     "start_time": "2021-04-15T19:55:39.124560Z"
    }
   },
   "outputs": [],
   "source": [
    "%matplotlib inline\n",
    "\n",
    "import numpy as np\n",
    "import pandas as pd\n",
    "\n",
    "import matplotlib.pyplot as plt\n",
    "import seaborn as sns\n",
    "\n",
    "from scipy.stats import pearsonr, spearmanr\n",
    "from talib import RSI, BBANDS, MACD, ATR"
   ]
  },
  {
   "cell_type": "code",
   "execution_count": 3,
   "metadata": {
    "ExecuteTime": {
     "end_time": "2021-04-15T19:55:39.623839Z",
     "start_time": "2021-04-15T19:55:39.622135Z"
    }
   },
   "outputs": [],
   "source": [
    "MONTH = 21\n",
    "YEAR = 12 * MONTH"
   ]
  },
  {
   "cell_type": "code",
   "execution_count": 4,
   "metadata": {
    "ExecuteTime": {
     "end_time": "2021-04-15T19:55:39.749906Z",
     "start_time": "2021-04-15T19:55:39.748238Z"
    }
   },
   "outputs": [],
   "source": [
    "START = \"2013-01-01\"\n",
    "END = \"2017-12-31\""
   ]
  },
  {
   "cell_type": "code",
   "execution_count": 5,
   "metadata": {
    "ExecuteTime": {
     "end_time": "2021-04-15T19:55:40.383834Z",
     "start_time": "2021-04-15T19:55:40.382005Z"
    }
   },
   "outputs": [],
   "source": [
    "sns.set_style(\"whitegrid\")\n",
    "idx = pd.IndexSlice"
   ]
  },
  {
   "cell_type": "markdown",
   "metadata": {},
   "source": [
    "## Loading Quandl Wiki Stock Prices & Meta Data\n"
   ]
  },
  {
   "cell_type": "code",
   "execution_count": 6,
   "metadata": {
    "ExecuteTime": {
     "end_time": "2021-04-15T19:55:44.647048Z",
     "start_time": "2021-04-15T19:55:44.645120Z"
    }
   },
   "outputs": [],
   "source": [
    "ohlcv = [\"adj_open\", \"adj_close\", \"adj_low\", \"adj_high\", \"adj_volume\"]"
   ]
  },
  {
   "cell_type": "code",
   "execution_count": 7,
   "metadata": {
    "ExecuteTime": {
     "end_time": "2021-04-15T19:55:44.665242Z",
     "start_time": "2021-04-15T19:55:44.650123Z"
    }
   },
   "outputs": [],
   "source": [
    "DATA_STORE = \"../data/assets.h5\""
   ]
  },
  {
   "cell_type": "code",
   "execution_count": 8,
   "metadata": {
    "ExecuteTime": {
     "end_time": "2021-04-15T19:55:49.239706Z",
     "start_time": "2021-04-15T19:55:44.666616Z"
    }
   },
   "outputs": [],
   "source": [
    "with pd.HDFStore(DATA_STORE) as store:\n",
    "    prices = (\n",
    "        store[\"quandl/wiki/prices\"]\n",
    "        .loc[idx[START:END, :], ohlcv]\n",
    "        .rename(columns=lambda x: x.replace(\"adj_\", \"\"))\n",
    "        .assign(volume=lambda x: x[\"volume\"].div(1000))\n",
    "        .swaplevel()\n",
    "        .sort_index()\n",
    "    )\n",
    "\n",
    "    stocks = store[\"us_equities/stocks\"].loc[:, [\"marketcap\", \"ipoyear\", \"sector\"]]"
   ]
  },
  {
   "cell_type": "markdown",
   "metadata": {},
   "source": [
    "## Remove stocks with few observations\n"
   ]
  },
  {
   "cell_type": "code",
   "execution_count": 9,
   "metadata": {
    "ExecuteTime": {
     "end_time": "2021-04-15T19:58:51.241695Z",
     "start_time": "2021-04-15T19:55:49.240874Z"
    }
   },
   "outputs": [],
   "source": [
    "# want at least 2 years of data\n",
    "min_obs = 2 * YEAR\n",
    "\n",
    "# have this much per ticker\n",
    "nobs = prices.groupby(level=\"ticker\").size()\n",
    "\n",
    "# keep those that exceed the limit\n",
    "keep = nobs[nobs > min_obs].index\n",
    "\n",
    "prices = prices.loc[idx[keep, :], :]"
   ]
  },
  {
   "cell_type": "markdown",
   "metadata": {},
   "source": [
    "### Align price and meta data\n"
   ]
  },
  {
   "cell_type": "code",
   "execution_count": 10,
   "metadata": {
    "ExecuteTime": {
     "end_time": "2021-04-15T19:58:51.249517Z",
     "start_time": "2021-04-15T19:58:51.242718Z"
    }
   },
   "outputs": [],
   "source": [
    "stocks = stocks[~stocks.index.duplicated() & stocks[\"sector\"].notnull()]\n",
    "stocks[\"sector\"] = stocks[\"sector\"].str.lower().str.replace(\" \", \"_\")\n",
    "stocks.index.name = \"ticker\""
   ]
  },
  {
   "cell_type": "code",
   "execution_count": 11,
   "metadata": {
    "ExecuteTime": {
     "end_time": "2021-04-15T20:00:14.800393Z",
     "start_time": "2021-04-15T19:58:51.250432Z"
    }
   },
   "outputs": [],
   "source": [
    "shared = prices.index.get_level_values(\"ticker\").unique().intersection(stocks.index)\n",
    "stocks = stocks.loc[shared, :]\n",
    "prices = prices.loc[idx[shared, :], :]"
   ]
  },
  {
   "cell_type": "code",
   "execution_count": 12,
   "metadata": {
    "ExecuteTime": {
     "end_time": "2021-04-15T20:00:14.865929Z",
     "start_time": "2021-04-15T20:00:14.801253Z"
    }
   },
   "outputs": [
    {
     "name": "stdout",
     "output_type": "stream",
     "text": [
      "<class 'pandas.core.frame.DataFrame'>\n",
      "MultiIndex: 2904233 entries, ('A', Timestamp('2013-01-02 00:00:00')) to ('ZUMZ', Timestamp('2017-12-29 00:00:00'))\n",
      "Data columns (total 5 columns):\n",
      " #   Column  Non-Null Count    Dtype  \n",
      "---  ------  --------------    -----  \n",
      " 0   open    2904233 non-null  float64\n",
      " 1   close   2904233 non-null  float64\n",
      " 2   low     2904233 non-null  float64\n",
      " 3   high    2904233 non-null  float64\n",
      " 4   volume  2904233 non-null  float64\n",
      "dtypes: float64(5)\n",
      "memory usage: 122.6+ MB\n"
     ]
    }
   ],
   "source": [
    "prices.info(show_counts=True)"
   ]
  },
  {
   "cell_type": "code",
   "execution_count": 13,
   "metadata": {
    "ExecuteTime": {
     "end_time": "2021-04-15T20:00:14.876541Z",
     "start_time": "2021-04-15T20:00:14.867043Z"
    },
    "scrolled": true
   },
   "outputs": [
    {
     "name": "stdout",
     "output_type": "stream",
     "text": [
      "<class 'pandas.core.frame.DataFrame'>\n",
      "Index: 2348 entries, A to ZUMZ\n",
      "Data columns (total 3 columns):\n",
      " #   Column     Non-Null Count  Dtype  \n",
      "---  ------     --------------  -----  \n",
      " 0   marketcap  2345 non-null   float64\n",
      " 1   ipoyear    1026 non-null   float64\n",
      " 2   sector     2348 non-null   object \n",
      "dtypes: float64(2), object(1)\n",
      "memory usage: 73.4+ KB\n"
     ]
    }
   ],
   "source": [
    "stocks.info(show_counts=True)"
   ]
  },
  {
   "cell_type": "code",
   "execution_count": 14,
   "metadata": {
    "ExecuteTime": {
     "end_time": "2021-04-15T20:00:14.890723Z",
     "start_time": "2021-04-15T20:00:14.878603Z"
    }
   },
   "outputs": [
    {
     "data": {
      "text/plain": [
       "sector\n",
       "consumer_services        440\n",
       "finance                  393\n",
       "technology               297\n",
       "health_care              297\n",
       "capital_goods            227\n",
       "basic_industries         138\n",
       "consumer_non-durables    126\n",
       "energy                   123\n",
       "public_utilities         105\n",
       "consumer_durables         78\n",
       "miscellaneous             69\n",
       "transportation            55\n",
       "Name: count, dtype: int64"
      ]
     },
     "execution_count": 14,
     "metadata": {},
     "output_type": "execute_result"
    }
   ],
   "source": [
    "stocks[\"sector\"].value_counts()"
   ]
  },
  {
   "cell_type": "markdown",
   "metadata": {},
   "source": [
    "Optional: persist intermediate results:\n"
   ]
  },
  {
   "cell_type": "code",
   "execution_count": null,
   "metadata": {
    "ExecuteTime": {
     "end_time": "2021-04-15T20:00:14.898404Z",
     "start_time": "2021-04-15T20:00:14.892363Z"
    }
   },
   "outputs": [],
   "source": [
    "# with pd.HDFStore('tmp.h5') as store:\n",
    "#     store.put('prices', prices)\n",
    "#     store.put('stocks', stocks)"
   ]
  },
  {
   "cell_type": "code",
   "execution_count": null,
   "metadata": {
    "ExecuteTime": {
     "end_time": "2021-04-15T20:00:14.910952Z",
     "start_time": "2021-04-15T20:00:14.899216Z"
    }
   },
   "outputs": [],
   "source": [
    "# with pd.HDFStore('tmp.h5') as store:\n",
    "#     prices = store['prices']\n",
    "#     stocks = store['stocks']"
   ]
  },
  {
   "cell_type": "markdown",
   "metadata": {},
   "source": [
    "## Compute Rolling Average Dollar Volume\n"
   ]
  },
  {
   "cell_type": "code",
   "execution_count": 15,
   "metadata": {
    "ExecuteTime": {
     "end_time": "2021-04-15T20:00:14.999567Z",
     "start_time": "2021-04-15T20:00:14.911892Z"
    }
   },
   "outputs": [],
   "source": [
    "# compute dollar volume to determine universe\n",
    "prices[\"dollar_vol\"] = prices[[\"close\", \"volume\"]].prod(axis=1)"
   ]
  },
  {
   "cell_type": "code",
   "execution_count": 16,
   "metadata": {
    "ExecuteTime": {
     "end_time": "2021-04-15T20:00:15.241975Z",
     "start_time": "2021-04-15T20:00:15.000621Z"
    }
   },
   "outputs": [],
   "source": [
    "prices[\"dollar_vol_1m\"] = (\n",
    "    prices[\"dollar_vol\"]\n",
    "    .groupby(\"ticker\")\n",
    "    .rolling(window=21)\n",
    "    .mean()\n",
    "    .reset_index(level=0, drop=True)\n",
    ").values"
   ]
  },
  {
   "cell_type": "code",
   "execution_count": 17,
   "metadata": {
    "ExecuteTime": {
     "end_time": "2021-04-15T20:00:15.274692Z",
     "start_time": "2021-04-15T20:00:15.242815Z"
    }
   },
   "outputs": [
    {
     "name": "stdout",
     "output_type": "stream",
     "text": [
      "<class 'pandas.core.frame.DataFrame'>\n",
      "MultiIndex: 2904233 entries, ('A', Timestamp('2013-01-02 00:00:00')) to ('ZUMZ', Timestamp('2017-12-29 00:00:00'))\n",
      "Data columns (total 7 columns):\n",
      " #   Column         Non-Null Count    Dtype  \n",
      "---  ------         --------------    -----  \n",
      " 0   open           2904233 non-null  float64\n",
      " 1   close          2904233 non-null  float64\n",
      " 2   low            2904233 non-null  float64\n",
      " 3   high           2904233 non-null  float64\n",
      " 4   volume         2904233 non-null  float64\n",
      " 5   dollar_vol     2904233 non-null  float64\n",
      " 6   dollar_vol_1m  2857273 non-null  float64\n",
      "dtypes: float64(7)\n",
      "memory usage: 166.9+ MB\n"
     ]
    }
   ],
   "source": [
    "prices.info(show_counts=True)"
   ]
  },
  {
   "cell_type": "code",
   "execution_count": 18,
   "metadata": {
    "ExecuteTime": {
     "end_time": "2021-04-15T20:00:15.830659Z",
     "start_time": "2021-04-15T20:00:15.275461Z"
    }
   },
   "outputs": [],
   "source": [
    "prices[\"dollar_vol_rank\"] = prices.groupby(\"date\")[\"dollar_vol_1m\"].rank(\n",
    "    ascending=False\n",
    ")"
   ]
  },
  {
   "cell_type": "code",
   "execution_count": 19,
   "metadata": {
    "ExecuteTime": {
     "end_time": "2021-04-15T20:00:15.867409Z",
     "start_time": "2021-04-15T20:00:15.831445Z"
    }
   },
   "outputs": [
    {
     "name": "stdout",
     "output_type": "stream",
     "text": [
      "<class 'pandas.core.frame.DataFrame'>\n",
      "MultiIndex: 2904233 entries, ('A', Timestamp('2013-01-02 00:00:00')) to ('ZUMZ', Timestamp('2017-12-29 00:00:00'))\n",
      "Data columns (total 8 columns):\n",
      " #   Column           Non-Null Count    Dtype  \n",
      "---  ------           --------------    -----  \n",
      " 0   open             2904233 non-null  float64\n",
      " 1   close            2904233 non-null  float64\n",
      " 2   low              2904233 non-null  float64\n",
      " 3   high             2904233 non-null  float64\n",
      " 4   volume           2904233 non-null  float64\n",
      " 5   dollar_vol       2904233 non-null  float64\n",
      " 6   dollar_vol_1m    2857273 non-null  float64\n",
      " 7   dollar_vol_rank  2857273 non-null  float64\n",
      "dtypes: float64(8)\n",
      "memory usage: 189.1+ MB\n"
     ]
    }
   ],
   "source": [
    "prices.info(show_counts=True)"
   ]
  },
  {
   "cell_type": "markdown",
   "metadata": {},
   "source": [
    "## Add some Basic Factors\n"
   ]
  },
  {
   "cell_type": "markdown",
   "metadata": {},
   "source": [
    "### Compute the Relative Strength Index\n"
   ]
  },
  {
   "cell_type": "code",
   "execution_count": 23,
   "metadata": {
    "ExecuteTime": {
     "end_time": "2021-04-15T20:00:17.415535Z",
     "start_time": "2021-04-15T20:00:15.868286Z"
    }
   },
   "outputs": [],
   "source": [
    "prices[\"rsi\"] = (\n",
    "    prices.groupby(level=\"ticker\")[\"close\"].apply(RSI).reset_index(level=0, drop=True)\n",
    ")"
   ]
  },
  {
   "cell_type": "code",
   "execution_count": 24,
   "metadata": {
    "ExecuteTime": {
     "end_time": "2021-04-15T20:00:23.837323Z",
     "start_time": "2021-04-15T20:00:17.416358Z"
    }
   },
   "outputs": [
    {
     "data": {
      "image/png": "[encoded data removed]",
      "text/plain": [
       "<Figure size 640x480 with 1 Axes>"
      ]
     },
     "metadata": {},
     "output_type": "display_data"
    }
   ],
   "source": [
    "ax = sns.histplot(prices.rsi.dropna())\n",
    "ax.axvline(30, ls=\"--\", lw=1, c=\"k\")\n",
    "ax.axvline(70, ls=\"--\", lw=1, c=\"k\")\n",
    "ax.set_title(\"RSI Distribution with Signal Threshold\")\n",
    "plt.tight_layout()\n",
    "plt.show()"
   ]
  },
  {
   "cell_type": "markdown",
   "metadata": {},
   "source": [
    "### Compute Bollinger Bands\n"
   ]
  },
  {
   "cell_type": "code",
   "execution_count": 27,
   "metadata": {
    "ExecuteTime": {
     "end_time": "2021-04-15T20:00:23.840107Z",
     "start_time": "2021-04-15T20:00:23.838143Z"
    }
   },
   "outputs": [],
   "source": [
    "def compute_bb(close):\n",
    "    high, mid, low = BBANDS(close, timeperiod=20)\n",
    "    return pd.DataFrame({\"bb_high\": high, \"bb_low\": low}, index=close.index)"
   ]
  },
  {
   "cell_type": "code",
   "execution_count": 34,
   "metadata": {
    "ExecuteTime": {
     "end_time": "2021-04-15T20:00:26.383360Z",
     "start_time": "2021-04-15T20:00:23.841271Z"
    }
   },
   "outputs": [],
   "source": [
    "prices = prices.join(\n",
    "    prices.groupby(level=\"ticker\")\n",
    "    .close.apply(compute_bb)\n",
    "    .reset_index(level=0, drop=True)\n",
    ")"
   ]
  },
  {
   "cell_type": "code",
   "execution_count": 35,
   "metadata": {
    "ExecuteTime": {
     "end_time": "2021-04-15T20:00:26.439638Z",
     "start_time": "2021-04-15T20:00:26.384205Z"
    }
   },
   "outputs": [],
   "source": [
    "prices[\"bb_high\"] = ((prices[\"bb_high\"] - prices[\"close\"]) / prices[\"bb_high\"]).apply(\n",
    "    np.log1p\n",
    ")\n",
    "prices[\"bb_low\"] = ((prices[\"close\"] - prices[\"bb_low\"]) / prices[\"close\"]).apply(\n",
    "    np.log1p\n",
    ")"
   ]
  },
  {
   "cell_type": "code",
   "execution_count": 36,
   "metadata": {
    "ExecuteTime": {
     "end_time": "2021-04-15T20:00:27.376121Z",
     "start_time": "2021-04-15T20:00:26.440442Z"
    },
    "scrolled": true
   },
   "outputs": [
    {
     "data": {
      "image/png": "[encoded data removed]",
      "text/plain": [
       "<Figure size 1500x500 with 2 Axes>"
      ]
     },
     "metadata": {},
     "output_type": "display_data"
    }
   ],
   "source": [
    "fig, axes = plt.subplots(ncols=2, figsize=(15, 5))\n",
    "sns.histplot(prices.loc[prices.dollar_vol_rank < 100, \"bb_low\"].dropna(), ax=axes[0])\n",
    "sns.histplot(prices.loc[prices.dollar_vol_rank < 100, \"bb_high\"].dropna(), ax=axes[1])\n",
    "plt.tight_layout()\n",
    "plt.show()"
   ]
  },
  {
   "cell_type": "markdown",
   "metadata": {},
   "source": [
    "### Compute Average True Range\n"
   ]
  },
  {
   "cell_type": "code",
   "execution_count": 37,
   "metadata": {
    "ExecuteTime": {
     "end_time": "2021-04-15T20:00:27.379077Z",
     "start_time": "2021-04-15T20:00:27.377064Z"
    }
   },
   "outputs": [],
   "source": [
    "def compute_atr(stock_data):\n",
    "    df = ATR(stock_data[\"high\"], stock_data[\"low\"], stock_data[\"close\"], timeperiod=14)\n",
    "    return df.sub(df.mean()).div(df.std())"
   ]
  },
  {
   "cell_type": "code",
   "execution_count": 40,
   "metadata": {
    "ExecuteTime": {
     "end_time": "2021-04-15T20:00:29.206072Z",
     "start_time": "2021-04-15T20:00:27.381072Z"
    }
   },
   "outputs": [],
   "source": [
    "prices[\"atr\"] = prices.groupby(\"ticker\", group_keys=False).apply(compute_atr)"
   ]
  },
  {
   "cell_type": "code",
   "execution_count": 41,
   "metadata": {
    "ExecuteTime": {
     "end_time": "2021-04-15T20:00:29.564498Z",
     "start_time": "2021-04-15T20:00:29.207138Z"
    }
   },
   "outputs": [
    {
     "data": {
      "image/png": "[encoded data removed]",
      "text/plain": [
       "<Figure size 640x480 with 1 Axes>"
      ]
     },
     "metadata": {},
     "output_type": "display_data"
    }
   ],
   "source": [
    "sns.histplot(prices[prices.dollar_vol_rank < 50].atr.dropna())\n",
    "plt.show()"
   ]
  },
  {
   "cell_type": "markdown",
   "metadata": {},
   "source": [
    "### Compute Moving Average Convergence/Divergence\n"
   ]
  },
  {
   "cell_type": "code",
   "execution_count": 42,
   "metadata": {
    "ExecuteTime": {
     "end_time": "2021-04-15T20:00:29.567238Z",
     "start_time": "2021-04-15T20:00:29.565333Z"
    }
   },
   "outputs": [],
   "source": [
    "def compute_macd(close):\n",
    "    macd = MACD(close)[0]\n",
    "    return (macd - np.mean(macd)) / np.std(macd)"
   ]
  },
  {
   "cell_type": "code",
   "execution_count": 44,
   "metadata": {
    "ExecuteTime": {
     "end_time": "2021-04-15T20:00:31.732532Z",
     "start_time": "2021-04-15T20:00:29.568085Z"
    }
   },
   "outputs": [],
   "source": [
    "prices[\"macd\"] = prices.groupby(\"ticker\", group_keys=False)[\"close\"].apply(compute_macd)"
   ]
  },
  {
   "cell_type": "code",
   "execution_count": 45,
   "metadata": {
    "ExecuteTime": {
     "end_time": "2021-04-15T20:00:31.786384Z",
     "start_time": "2021-04-15T20:00:31.733339Z"
    }
   },
   "outputs": [
    {
     "data": {
      "text/plain": [
       "count    2,826,749.0\n",
       "mean             0.0\n",
       "std              1.0\n",
       "min            -10.5\n",
       "0.1%            -4.1\n",
       "1%              -2.6\n",
       "2%              -2.2\n",
       "3%              -2.0\n",
       "4%              -1.8\n",
       "5%              -1.6\n",
       "50%              0.0\n",
       "95%              1.6\n",
       "96%              1.7\n",
       "97%              1.9\n",
       "98%              2.1\n",
       "99%              2.6\n",
       "99.9%            4.0\n",
       "max              8.7\n",
       "Name: macd, dtype: object"
      ]
     },
     "execution_count": 45,
     "metadata": {},
     "output_type": "execute_result"
    }
   ],
   "source": [
    "prices[\"macd\"].describe(\n",
    "    percentiles=[\n",
    "        0.001,\n",
    "        0.01,\n",
    "        0.02,\n",
    "        0.03,\n",
    "        0.04,\n",
    "        0.05,\n",
    "        0.95,\n",
    "        0.96,\n",
    "        0.97,\n",
    "        0.98,\n",
    "        0.99,\n",
    "        0.999,\n",
    "    ]\n",
    ").apply(lambda x: f\"{x:,.1f}\")"
   ]
  },
  {
   "cell_type": "code",
   "execution_count": 46,
   "metadata": {
    "ExecuteTime": {
     "end_time": "2021-04-15T20:00:32.296633Z",
     "start_time": "2021-04-15T20:00:31.787126Z"
    }
   },
   "outputs": [
    {
     "data": {
      "image/png": "[encoded data removed]",
      "text/plain": [
       "<Figure size 640x480 with 1 Axes>"
      ]
     },
     "metadata": {},
     "output_type": "display_data"
    }
   ],
   "source": [
    "sns.histplot(prices[prices.dollar_vol_rank < 100].macd.dropna())\n",
    "plt.show()"
   ]
  },
  {
   "cell_type": "markdown",
   "metadata": {},
   "source": [
    "## Compute Lagged Returns\n"
   ]
  },
  {
   "cell_type": "code",
   "execution_count": 47,
   "metadata": {
    "ExecuteTime": {
     "end_time": "2021-04-15T20:00:32.299717Z",
     "start_time": "2021-04-15T20:00:32.297649Z"
    }
   },
   "outputs": [],
   "source": [
    "lags = [1, 5, 10, 21, 42, 63]"
   ]
  },
  {
   "cell_type": "code",
   "execution_count": 48,
   "metadata": {
    "ExecuteTime": {
     "end_time": "2021-04-15T20:00:32.612953Z",
     "start_time": "2021-04-15T20:00:32.300806Z"
    }
   },
   "outputs": [
    {
     "data": {
      "text/html": [
       "<style type=\"text/css\">\n",
       "</style>\n",
       "<table id=\"T_261a2\">\n",
       "  <thead>\n",
       "    <tr>\n",
       "      <th class=\"blank level0\" >&nbsp;</th>\n",
       "      <th id=\"T_261a2_level0_col0\" class=\"col_heading level0 col0\" >percentiles</th>\n",
       "    </tr>\n",
       "  </thead>\n",
       "  <tbody>\n",
       "    <tr>\n",
       "      <th id=\"T_261a2_level0_row0\" class=\"row_heading level0 row0\" >std</th>\n",
       "      <td id=\"T_261a2_row0_col0\" class=\"data row0 col0\" >9.37%</td>\n",
       "    </tr>\n",
       "    <tr>\n",
       "      <th id=\"T_261a2_level0_row1\" class=\"row_heading level0 row1\" >min</th>\n",
       "      <td id=\"T_261a2_row1_col0\" class=\"data row1 col0\" >-87.62%</td>\n",
       "    </tr>\n",
       "    <tr>\n",
       "      <th id=\"T_261a2_level0_row2\" class=\"row_heading level0 row2\" >0.01%</th>\n",
       "      <td id=\"T_261a2_row2_col0\" class=\"data row2 col0\" >-33.40%</td>\n",
       "    </tr>\n",
       "    <tr>\n",
       "      <th id=\"T_261a2_level0_row3\" class=\"row_heading level0 row3\" >0.1%</th>\n",
       "      <td id=\"T_261a2_row3_col0\" class=\"data row3 col0\" >-14.78%</td>\n",
       "    </tr>\n",
       "    <tr>\n",
       "      <th id=\"T_261a2_level0_row4\" class=\"row_heading level0 row4\" >1%</th>\n",
       "      <td id=\"T_261a2_row4_col0\" class=\"data row4 col0\" >-6.52%</td>\n",
       "    </tr>\n",
       "    <tr>\n",
       "      <th id=\"T_261a2_level0_row5\" class=\"row_heading level0 row5\" >50%</th>\n",
       "      <td id=\"T_261a2_row5_col0\" class=\"data row5 col0\" >0.04%</td>\n",
       "    </tr>\n",
       "    <tr>\n",
       "      <th id=\"T_261a2_level0_row6\" class=\"row_heading level0 row6\" >99%</th>\n",
       "      <td id=\"T_261a2_row6_col0\" class=\"data row6 col0\" >6.98%</td>\n",
       "    </tr>\n",
       "    <tr>\n",
       "      <th id=\"T_261a2_level0_row7\" class=\"row_heading level0 row7\" >99.9%</th>\n",
       "      <td id=\"T_261a2_row7_col0\" class=\"data row7 col0\" >17.03%</td>\n",
       "    </tr>\n",
       "    <tr>\n",
       "      <th id=\"T_261a2_level0_row8\" class=\"row_heading level0 row8\" >99.99%</th>\n",
       "      <td id=\"T_261a2_row8_col0\" class=\"data row8 col0\" >39.25%</td>\n",
       "    </tr>\n",
       "    <tr>\n",
       "      <th id=\"T_261a2_level0_row9\" class=\"row_heading level0 row9\" >max</th>\n",
       "      <td id=\"T_261a2_row9_col0\" class=\"data row9 col0\" >10,280.40%</td>\n",
       "    </tr>\n",
       "  </tbody>\n",
       "</table>\n"
      ],
      "text/plain": [
       "<pandas.io.formats.style.Styler at 0x1f31092d010>"
      ]
     },
     "execution_count": 48,
     "metadata": {},
     "output_type": "execute_result"
    }
   ],
   "source": [
    "returns = prices.groupby(level=\"ticker\")[\"close\"].pct_change()\n",
    "percentiles = [0.0001, 0.001, 0.01]\n",
    "percentiles += [1 - p for p in percentiles]\n",
    "returns.describe(percentiles=percentiles).iloc[2:].to_frame(\"percentiles\").style.format(\n",
    "    lambda x: f\"{x:,.2%}\"\n",
    ")"
   ]
  },
  {
   "cell_type": "code",
   "execution_count": 49,
   "metadata": {
    "ExecuteTime": {
     "end_time": "2021-04-15T20:00:32.615958Z",
     "start_time": "2021-04-15T20:00:32.614056Z"
    }
   },
   "outputs": [],
   "source": [
    "q = 0.0001"
   ]
  },
  {
   "cell_type": "markdown",
   "metadata": {},
   "source": [
    "### Winsorize outliers\n"
   ]
  },
  {
   "cell_type": "code",
   "execution_count": 50,
   "metadata": {
    "ExecuteTime": {
     "end_time": "2021-04-15T20:00:34.450931Z",
     "start_time": "2021-04-15T20:00:32.617195Z"
    }
   },
   "outputs": [],
   "source": [
    "for lag in lags:\n",
    "    prices[f\"return_{lag}d\"] = (\n",
    "        prices.groupby(level=\"ticker\")[\"close\"]\n",
    "        .pct_change(lag)\n",
    "        .pipe(lambda x: x.clip(lower=x.quantile(q), upper=x.quantile(1 - q)))\n",
    "        .add(1)\n",
    "        .pow(1 / lag)\n",
    "        .sub(1)\n",
    "    )"
   ]
  },
  {
   "cell_type": "markdown",
   "metadata": {},
   "source": [
    "### Shift lagged returns\n"
   ]
  },
  {
   "cell_type": "code",
   "execution_count": 51,
   "metadata": {
    "ExecuteTime": {
     "end_time": "2021-04-15T20:00:38.383122Z",
     "start_time": "2021-04-15T20:00:34.451760Z"
    }
   },
   "outputs": [],
   "source": [
    "for t in [1, 2, 3, 4, 5]:\n",
    "    for lag in [1, 5, 10, 21]:\n",
    "        prices[f\"return_{lag}d_lag{t}\"] = prices.groupby(level=\"ticker\")[\n",
    "            f\"return_{lag}d\"\n",
    "        ].shift(t * lag)"
   ]
  },
  {
   "cell_type": "markdown",
   "metadata": {},
   "source": [
    "## Compute Forward Returns\n"
   ]
  },
  {
   "cell_type": "code",
   "execution_count": 52,
   "metadata": {
    "ExecuteTime": {
     "end_time": "2021-04-15T20:00:39.173970Z",
     "start_time": "2021-04-15T20:00:38.383932Z"
    }
   },
   "outputs": [],
   "source": [
    "for t in [1, 5, 10, 21]:\n",
    "    prices[f\"target_{t}d\"] = prices.groupby(level=\"ticker\")[f\"return_{t}d\"].shift(-t)"
   ]
  },
  {
   "cell_type": "markdown",
   "metadata": {},
   "source": [
    "## Combine Price and Meta Data\n"
   ]
  },
  {
   "cell_type": "code",
   "execution_count": 53,
   "metadata": {
    "ExecuteTime": {
     "end_time": "2021-04-15T20:00:39.379626Z",
     "start_time": "2021-04-15T20:00:39.174769Z"
    }
   },
   "outputs": [],
   "source": [
    "prices = prices.join(stocks[[\"sector\"]])"
   ]
  },
  {
   "cell_type": "markdown",
   "metadata": {},
   "source": [
    "## Create time and sector dummy variables\n"
   ]
  },
  {
   "cell_type": "code",
   "execution_count": 54,
   "metadata": {
    "ExecuteTime": {
     "end_time": "2021-04-15T20:00:39.701829Z",
     "start_time": "2021-04-15T20:00:39.380450Z"
    }
   },
   "outputs": [],
   "source": [
    "prices[\"year\"] = prices.index.get_level_values(\"date\").year\n",
    "prices[\"month\"] = prices.index.get_level_values(\"date\").month"
   ]
  },
  {
   "cell_type": "code",
   "execution_count": 56,
   "metadata": {
    "ExecuteTime": {
     "end_time": "2021-04-15T20:00:39.941349Z",
     "start_time": "2021-04-15T20:00:39.702642Z"
    }
   },
   "outputs": [
    {
     "name": "stdout",
     "output_type": "stream",
     "text": [
      "<class 'pandas.core.frame.DataFrame'>\n",
      "MultiIndex: 2904233 entries, ('A', Timestamp('2013-01-02 00:00:00')) to ('ZUMZ', Timestamp('2017-12-29 00:00:00'))\n",
      "Data columns (total 46 columns):\n",
      " #   Column           Dtype  \n",
      "---  ------           -----  \n",
      " 0   open             float64\n",
      " 1   close            float64\n",
      " 2   low              float64\n",
      " 3   high             float64\n",
      " 4   volume           float64\n",
      " 5   dollar_vol       float64\n",
      " 6   dollar_vol_1m    float64\n",
      " 7   dollar_vol_rank  float64\n",
      " 8   rsi              float64\n",
      " 9   bb_high          float64\n",
      " 10  bb_low           float64\n",
      " 11  atr              float64\n",
      " 12  macd             float64\n",
      " 13  return_1d        float64\n",
      " 14  return_5d        float64\n",
      " 15  return_10d       float64\n",
      " 16  return_21d       float64\n",
      " 17  return_42d       float64\n",
      " 18  return_63d       float64\n",
      " 19  return_1d_lag1   float64\n",
      " 20  return_5d_lag1   float64\n",
      " 21  return_10d_lag1  float64\n",
      " 22  return_21d_lag1  float64\n",
      " 23  return_1d_lag2   float64\n",
      " 24  return_5d_lag2   float64\n",
      " 25  return_10d_lag2  float64\n",
      " 26  return_21d_lag2  float64\n",
      " 27  return_1d_lag3   float64\n",
      " 28  return_5d_lag3   float64\n",
      " 29  return_10d_lag3  float64\n",
      " 30  return_21d_lag3  float64\n",
      " 31  return_1d_lag4   float64\n",
      " 32  return_5d_lag4   float64\n",
      " 33  return_10d_lag4  float64\n",
      " 34  return_21d_lag4  float64\n",
      " 35  return_1d_lag5   float64\n",
      " 36  return_5d_lag5   float64\n",
      " 37  return_10d_lag5  float64\n",
      " 38  return_21d_lag5  float64\n",
      " 39  target_1d        float64\n",
      " 40  target_5d        float64\n",
      " 41  target_10d       float64\n",
      " 42  target_21d       float64\n",
      " 43  sector           object \n",
      " 44  year             int32  \n",
      " 45  month            int32  \n",
      "dtypes: float64(43), int32(2), object(1)\n",
      "memory usage: 1.0+ GB\n"
     ]
    }
   ],
   "source": [
    "prices.info()"
   ]
  },
  {
   "cell_type": "code",
   "execution_count": 57,
   "metadata": {
    "ExecuteTime": {
     "end_time": "2021-04-15T20:00:42.318410Z",
     "start_time": "2021-04-15T20:00:39.942311Z"
    }
   },
   "outputs": [],
   "source": [
    "prices.assign(sector=pd.factorize(prices.sector, sort=True)[0]).to_hdf(\n",
    "    \"data.h5\", \"model_data/no_dummies\"\n",
    ")"
   ]
  },
  {
   "cell_type": "code",
   "execution_count": 58,
   "metadata": {
    "ExecuteTime": {
     "end_time": "2021-04-15T20:00:43.678954Z",
     "start_time": "2021-04-15T20:00:42.319386Z"
    }
   },
   "outputs": [],
   "source": [
    "prices = pd.get_dummies(\n",
    "    prices,\n",
    "    columns=[\"year\", \"month\", \"sector\"],\n",
    "    prefix=[\"year\", \"month\", \"\"],\n",
    "    prefix_sep=[\"_\", \"_\", \"\"],\n",
    "    drop_first=True,\n",
    ")"
   ]
  },
  {
   "cell_type": "code",
   "execution_count": 59,
   "metadata": {
    "ExecuteTime": {
     "end_time": "2021-04-15T20:00:43.906371Z",
     "start_time": "2021-04-15T20:00:43.679790Z"
    },
    "scrolled": false
   },
   "outputs": [
    {
     "name": "stdout",
     "output_type": "stream",
     "text": [
      "<class 'pandas.core.frame.DataFrame'>\n",
      "MultiIndex: 2904233 entries, ('A', Timestamp('2013-01-02 00:00:00')) to ('ZUMZ', Timestamp('2017-12-29 00:00:00'))\n",
      "Data columns (total 69 columns):\n",
      " #   Column                 Dtype  \n",
      "---  ------                 -----  \n",
      " 0   open                   float64\n",
      " 1   close                  float64\n",
      " 2   low                    float64\n",
      " 3   high                   float64\n",
      " 4   volume                 float64\n",
      " 5   dollar_vol             float64\n",
      " 6   dollar_vol_1m          float64\n",
      " 7   dollar_vol_rank        float64\n",
      " 8   rsi                    float64\n",
      " 9   bb_high                float64\n",
      " 10  bb_low                 float64\n",
      " 11  atr                    float64\n",
      " 12  macd                   float64\n",
      " 13  return_1d              float64\n",
      " 14  return_5d              float64\n",
      " 15  return_10d             float64\n",
      " 16  return_21d             float64\n",
      " 17  return_42d             float64\n",
      " 18  return_63d             float64\n",
      " 19  return_1d_lag1         float64\n",
      " 20  return_5d_lag1         float64\n",
      " 21  return_10d_lag1        float64\n",
      " 22  return_21d_lag1        float64\n",
      " 23  return_1d_lag2         float64\n",
      " 24  return_5d_lag2         float64\n",
      " 25  return_10d_lag2        float64\n",
      " 26  return_21d_lag2        float64\n",
      " 27  return_1d_lag3         float64\n",
      " 28  return_5d_lag3         float64\n",
      " 29  return_10d_lag3        float64\n",
      " 30  return_21d_lag3        float64\n",
      " 31  return_1d_lag4         float64\n",
      " 32  return_5d_lag4         float64\n",
      " 33  return_10d_lag4        float64\n",
      " 34  return_21d_lag4        float64\n",
      " 35  return_1d_lag5         float64\n",
      " 36  return_5d_lag5         float64\n",
      " 37  return_10d_lag5        float64\n",
      " 38  return_21d_lag5        float64\n",
      " 39  target_1d              float64\n",
      " 40  target_5d              float64\n",
      " 41  target_10d             float64\n",
      " 42  target_21d             float64\n",
      " 43  year_2014              bool   \n",
      " 44  year_2015              bool   \n",
      " 45  year_2016              bool   \n",
      " 46  year_2017              bool   \n",
      " 47  month_2                bool   \n",
      " 48  month_3                bool   \n",
      " 49  month_4                bool   \n",
      " 50  month_5                bool   \n",
      " 51  month_6                bool   \n",
      " 52  month_7                bool   \n",
      " 53  month_8                bool   \n",
      " 54  month_9                bool   \n",
      " 55  month_10               bool   \n",
      " 56  month_11               bool   \n",
      " 57  month_12               bool   \n",
      " 58  capital_goods          bool   \n",
      " 59  consumer_durables      bool   \n",
      " 60  consumer_non-durables  bool   \n",
      " 61  consumer_services      bool   \n",
      " 62  energy                 bool   \n",
      " 63  finance                bool   \n",
      " 64  health_care            bool   \n",
      " 65  miscellaneous          bool   \n",
      " 66  public_utilities       bool   \n",
      " 67  technology             bool   \n",
      " 68  transportation         bool   \n",
      "dtypes: bool(26), float64(43)\n",
      "memory usage: 1.1+ GB\n"
     ]
    }
   ],
   "source": [
    "prices.info()"
   ]
  },
  {
   "cell_type": "markdown",
   "metadata": {},
   "source": [
    "## Store Model Data\n"
   ]
  },
  {
   "cell_type": "code",
   "execution_count": 60,
   "metadata": {
    "ExecuteTime": {
     "end_time": "2021-04-15T20:00:44.756756Z",
     "start_time": "2021-04-15T20:00:43.907155Z"
    }
   },
   "outputs": [],
   "source": [
    "prices.to_hdf(\"data.h5\", \"model_data\")"
   ]
  },
  {
   "cell_type": "markdown",
   "metadata": {},
   "source": [
    "## Explore Data\n"
   ]
  },
  {
   "cell_type": "markdown",
   "metadata": {},
   "source": [
    "### Plot Factors\n"
   ]
  },
  {
   "cell_type": "code",
   "execution_count": 61,
   "metadata": {
    "ExecuteTime": {
     "end_time": "2021-04-15T20:00:44.795250Z",
     "start_time": "2021-04-15T20:00:44.757588Z"
    }
   },
   "outputs": [],
   "source": [
    "target = \"target_5d\"\n",
    "top100 = prices[prices[\"dollar_vol_rank\"] < 100].copy()"
   ]
  },
  {
   "cell_type": "markdown",
   "metadata": {},
   "source": [
    "### RSI\n"
   ]
  },
  {
   "cell_type": "code",
   "execution_count": 62,
   "metadata": {
    "ExecuteTime": {
     "end_time": "2021-04-15T20:00:45.400364Z",
     "start_time": "2021-04-15T20:00:44.796089Z"
    }
   },
   "outputs": [],
   "source": [
    "top100.loc[:, \"rsi_signal\"] = pd.cut(top100[\"rsi\"], bins=[0, 30, 70, 100])"
   ]
  },
  {
   "cell_type": "code",
   "execution_count": 63,
   "metadata": {
    "ExecuteTime": {
     "end_time": "2021-04-15T20:00:45.422670Z",
     "start_time": "2021-04-15T20:00:45.401187Z"
    }
   },
   "outputs": [
    {
     "data": {
      "text/html": [
       "<div>\n",
       "<style scoped>\n",
       "    .dataframe tbody tr th:only-of-type {\n",
       "        vertical-align: middle;\n",
       "    }\n",
       "\n",
       "    .dataframe tbody tr th {\n",
       "        vertical-align: top;\n",
       "    }\n",
       "\n",
       "    .dataframe thead th {\n",
       "        text-align: right;\n",
       "    }\n",
       "</style>\n",
       "<table border=\"1\" class=\"dataframe\">\n",
       "  <thead>\n",
       "    <tr style=\"text-align: right;\">\n",
       "      <th></th>\n",
       "      <th>count</th>\n",
       "      <th>mean</th>\n",
       "      <th>std</th>\n",
       "      <th>min</th>\n",
       "      <th>25%</th>\n",
       "      <th>50%</th>\n",
       "      <th>75%</th>\n",
       "      <th>max</th>\n",
       "    </tr>\n",
       "    <tr>\n",
       "      <th>rsi_signal</th>\n",
       "      <th></th>\n",
       "      <th></th>\n",
       "      <th></th>\n",
       "      <th></th>\n",
       "      <th></th>\n",
       "      <th></th>\n",
       "      <th></th>\n",
       "      <th></th>\n",
       "    </tr>\n",
       "  </thead>\n",
       "  <tbody>\n",
       "    <tr>\n",
       "      <th>(0, 30]</th>\n",
       "      <td>4209.0</td>\n",
       "      <td>0.001126</td>\n",
       "      <td>0.010457</td>\n",
       "      <td>-0.067138</td>\n",
       "      <td>-0.003606</td>\n",
       "      <td>0.001051</td>\n",
       "      <td>0.006156</td>\n",
       "      <td>0.061889</td>\n",
       "    </tr>\n",
       "    <tr>\n",
       "      <th>(30, 70]</th>\n",
       "      <td>107244.0</td>\n",
       "      <td>0.000446</td>\n",
       "      <td>0.007711</td>\n",
       "      <td>-0.170571</td>\n",
       "      <td>-0.003054</td>\n",
       "      <td>0.000650</td>\n",
       "      <td>0.004246</td>\n",
       "      <td>0.075653</td>\n",
       "    </tr>\n",
       "    <tr>\n",
       "      <th>(70, 100]</th>\n",
       "      <td>10634.0</td>\n",
       "      <td>0.000018</td>\n",
       "      <td>0.006354</td>\n",
       "      <td>-0.087857</td>\n",
       "      <td>-0.002818</td>\n",
       "      <td>0.000145</td>\n",
       "      <td>0.003121</td>\n",
       "      <td>0.058570</td>\n",
       "    </tr>\n",
       "  </tbody>\n",
       "</table>\n",
       "</div>"
      ],
      "text/plain": [
       "               count      mean       std       min       25%       50%  \\\n",
       "rsi_signal                                                               \n",
       "(0, 30]       4209.0  0.001126  0.010457 -0.067138 -0.003606  0.001051   \n",
       "(30, 70]    107244.0  0.000446  0.007711 -0.170571 -0.003054  0.000650   \n",
       "(70, 100]    10634.0  0.000018  0.006354 -0.087857 -0.002818  0.000145   \n",
       "\n",
       "                 75%       max  \n",
       "rsi_signal                      \n",
       "(0, 30]     0.006156  0.061889  \n",
       "(30, 70]    0.004246  0.075653  \n",
       "(70, 100]   0.003121  0.058570  "
      ]
     },
     "execution_count": 63,
     "metadata": {},
     "output_type": "execute_result"
    }
   ],
   "source": [
    "top100.groupby(\"rsi_signal\")[\"target_5d\"].describe()"
   ]
  },
  {
   "cell_type": "markdown",
   "metadata": {},
   "source": [
    "### Bollinger Bands\n"
   ]
  },
  {
   "cell_type": "code",
   "execution_count": 64,
   "metadata": {
    "ExecuteTime": {
     "end_time": "2021-04-15T20:00:47.664961Z",
     "start_time": "2021-04-15T20:00:45.423542Z"
    },
    "scrolled": false
   },
   "outputs": [
    {
     "name": "stdout",
     "output_type": "stream",
     "text": [
      "-2.68% (0.00%)\n"
     ]
    }
   ],
   "source": [
    "metric = \"bb_low\"\n",
    "j = sns.jointplot(x=metric, y=target, data=top100)\n",
    "\n",
    "df = top100[[metric, target]].dropna()\n",
    "r, p = spearmanr(df[metric], df[target])\n",
    "print(f\"{r:,.2%} ({p:.2%})\")"
   ]
  },
  {
   "cell_type": "code",
   "execution_count": 65,
   "metadata": {
    "ExecuteTime": {
     "end_time": "2021-04-15T20:00:49.209737Z",
     "start_time": "2021-04-15T20:00:47.666019Z"
    },
    "scrolled": false
   },
   "outputs": [
    {
     "name": "stdout",
     "output_type": "stream",
     "text": [
      "4.21% (0.00%)\n"
     ]
    }
   ],
   "source": [
    "metric = \"bb_high\"\n",
    "j = sns.jointplot(x=metric, y=target, data=top100)\n",
    "\n",
    "df = top100[[metric, target]].dropna()\n",
    "r, p = spearmanr(df[metric], df[target])\n",
    "print(f\"{r:,.2%} ({p:.2%})\")"
   ]
  },
  {
   "cell_type": "markdown",
   "metadata": {},
   "source": [
    "### ATR\n"
   ]
  },
  {
   "cell_type": "code",
   "execution_count": 66,
   "metadata": {
    "ExecuteTime": {
     "end_time": "2021-04-15T20:00:50.643810Z",
     "start_time": "2021-04-15T20:00:49.210415Z"
    }
   },
   "outputs": [
    {
     "name": "stdout",
     "output_type": "stream",
     "text": [
      "0.07% (80.08%)\n"
     ]
    }
   ],
   "source": [
    "metric = \"atr\"\n",
    "j = sns.jointplot(x=metric, y=target, data=top100)\n",
    "\n",
    "df = top100[[metric, target]].dropna()\n",
    "r, p = spearmanr(df[metric], df[target])\n",
    "print(f\"{r:,.2%} ({p:.2%})\")"
   ]
  },
  {
   "cell_type": "markdown",
   "metadata": {},
   "source": [
    "### MACD\n"
   ]
  },
  {
   "cell_type": "code",
   "execution_count": 67,
   "metadata": {
    "ExecuteTime": {
     "end_time": "2021-04-15T20:00:52.023923Z",
     "start_time": "2021-04-15T20:00:50.644582Z"
    },
    "scrolled": true
   },
   "outputs": [
    {
     "name": "stdout",
     "output_type": "stream",
     "text": [
      "-4.72% (0.00%)\n"
     ]
    }
   ],
   "source": [
    "metric = \"macd\"\n",
    "j = sns.jointplot(x=metric, y=target, data=top100)\n",
    "\n",
    "df = top100[[metric, target]].dropna()\n",
    "r, p = spearmanr(df[metric], df[target])\n",
    "print(f\"{r:,.2%} ({p:.2%})\")"
   ]
  },
  {
   "cell_type": "code",
   "execution_count": null,
   "metadata": {},
   "outputs": [],
   "source": []
  }
 ],
 "metadata": {
  "kernelspec": {
   "display_name": "Python 3",
   "language": "python",
   "name": "python3"
  },
  "language_info": {
   "codemirror_mode": {
    "name": "ipython",
    "version": 3
   },
   "file_extension": ".py",
   "mimetype": "text/x-python",
   "name": "python",
   "nbconvert_exporter": "python",
   "pygments_lexer": "ipython3",
   "version": "3.11.9"
  },
  "toc": {
   "base_numbering": 1,
   "nav_menu": {},
   "number_sections": true,
   "sideBar": true,
   "skip_h1_title": true,
   "title_cell": "Table of Contents",
   "title_sidebar": "Contents",
   "toc_cell": false,
   "toc_position": {},
   "toc_section_display": true,
   "toc_window_display": true
  }
 },
 "nbformat": 4,
 "nbformat_minor": 2
}
