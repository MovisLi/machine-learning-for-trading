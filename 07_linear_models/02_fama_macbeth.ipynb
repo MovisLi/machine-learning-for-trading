{
 "cells": [
  {
   "cell_type": "markdown",
   "metadata": {},
   "source": [
    "# How to build a linear factor model\n"
   ]
  },
  {
   "cell_type": "markdown",
   "metadata": {},
   "source": [
    "Algorithmic trading strategies use linear factor models to quantify the relationship between the return of an asset and the sources of risk that represent the main drivers of these returns. Each factor risk carries a premium, and the total asset return can be expected to correspond to a weighted average of these risk premia.\n"
   ]
  },
  {
   "cell_type": "markdown",
   "metadata": {},
   "source": [
    "There are several practical applications of factor models across the portfolio management process from construction and asset selection to risk management and performance evaluation. The importance of factor models continues to grow as common risk factors are now tradeable:\n",
    "\n",
    "- A summary of the returns of many assets by a much smaller number of factors reduces the amount of data required to estimate the covariance matrix when optimizing a portfolio\n",
    "- An estimate of the exposure of an asset or a portfolio to these factors allows for the management of the resultant risk, for instance by entering suitable hedges when risk factors are themselves traded\n",
    "- A factor model also permits the assessment of the incremental signal content of new alpha factors\n",
    "- A factor model can also help assess whether a manager's performance relative to a benchmark is indeed due to skill in selecting assets and timing the market, or if instead, the performance can be explained by portfolio tilts towards known return drivers that can today be replicated as low-cost, passively managed funds without incurring active management fees\n"
   ]
  },
  {
   "cell_type": "markdown",
   "metadata": {},
   "source": [
    "## Imports & Settings\n"
   ]
  },
  {
   "cell_type": "code",
   "execution_count": 36,
   "metadata": {
    "ExecuteTime": {
     "end_time": "2021-04-15T19:55:07.984117Z",
     "start_time": "2021-04-15T19:55:07.982285Z"
    }
   },
   "outputs": [],
   "source": [
    "import warnings\n",
    "\n",
    "\n",
    "warnings.filterwarnings(\"ignore\")"
   ]
  },
  {
   "cell_type": "code",
   "execution_count": 37,
   "metadata": {
    "ExecuteTime": {
     "end_time": "2021-04-15T19:55:09.073976Z",
     "start_time": "2021-04-15T19:55:08.102748Z"
    }
   },
   "outputs": [],
   "source": [
    "import pandas as pd\n",
    "import numpy as np\n",
    "\n",
    "from statsmodels.api import OLS, add_constant\n",
    "import pandas_datareader.data as web\n",
    "\n",
    "from linearmodels.asset_pricing import LinearFactorModel\n",
    "\n",
    "import matplotlib.pyplot as plt\n",
    "import seaborn as sns"
   ]
  },
  {
   "cell_type": "code",
   "execution_count": 38,
   "metadata": {
    "ExecuteTime": {
     "end_time": "2021-04-15T19:55:09.077317Z",
     "start_time": "2021-04-15T19:55:09.075045Z"
    }
   },
   "outputs": [],
   "source": [
    "%matplotlib inline\n",
    "\n",
    "sns.set_style(\"whitegrid\")"
   ]
  },
  {
   "cell_type": "markdown",
   "metadata": {},
   "source": [
    "## Get Data\n"
   ]
  },
  {
   "cell_type": "markdown",
   "metadata": {},
   "source": [
    "Fama and French make updated risk factor and research portfolio data available through their [website](http://mba.tuck.dartmouth.edu/pages/faculty/ken.french/data_library.html), and you can use the `pandas_datareader` package to obtain the data.\n"
   ]
  },
  {
   "cell_type": "markdown",
   "metadata": {},
   "source": [
    "### Risk Factors\n"
   ]
  },
  {
   "cell_type": "markdown",
   "metadata": {},
   "source": [
    "In particular, we will be using the five Fama—French factors that result from sorting stocks first into three size groups and then into two for each of the remaining three firm-specific factors.\n",
    "\n",
    "Hence, the factors involve three sets of value-weighted portfolios formed as 3 x 2 sorts on size and book-to-market, size and operating profitability, and size and investment. The risk factor values computed as the average returns of the portfolios (PF) as outlined in the following table:\n"
   ]
  },
  {
   "cell_type": "markdown",
   "metadata": {},
   "source": [
    "| Label | Name                          | Description                                                                                                                                                                               |\n",
    "| ----- | ----------------------------- | ----------------------------------------------------------------------------------------------------------------------------------------------------------------------------------------- |\n",
    "| SMB   | Small Minus Big               | Average return on the nine small stock portfolios minus the average return on the nine big stock portfolios                                                                               |\n",
    "| HML   | High Minus Low                | Average return on the two value portfolios minus the average return on the two growth portfolios                                                                                          |\n",
    "| RMW   | Robust minus Weak             | Average return on the two robust operating profitability portfolios minus the average return on the two weak operating profitability portfolios                                           |\n",
    "| CMA   | Conservative Minus Aggressive | Average return on the two conservative investment portfolios minus the average return on the two aggressive investment portfolios                                                         |\n",
    "| Rm-Rf | Excess return on the market   | Value-weight return of all firms incorporated in the US and listed on the NYSE, AMEX, or NASDAQ at the beginning of month t with 'good' data for t minus the one-month Treasury bill rate |\n"
   ]
  },
  {
   "cell_type": "markdown",
   "metadata": {},
   "source": [
    "The Fama-French 5 factors are based on the 6 value-weight portfolios formed on size and book-to-market, the 6 value-weight portfolios formed on size and operating profitability, and the 6 value-weight portfolios formed on size and investment.\n"
   ]
  },
  {
   "cell_type": "markdown",
   "metadata": {},
   "source": [
    "We will use returns at a monthly frequency that we obtain for the period 2010 – 2017 as follows:\n"
   ]
  },
  {
   "cell_type": "code",
   "execution_count": 39,
   "metadata": {
    "ExecuteTime": {
     "end_time": "2021-04-15T19:55:13.367412Z",
     "start_time": "2021-04-15T19:55:13.065455Z"
    }
   },
   "outputs": [
    {
     "name": "stdout",
     "output_type": "stream",
     "text": [
      "<class 'pandas.core.frame.DataFrame'>\n",
      "PeriodIndex: 96 entries, 2010-01 to 2017-12\n",
      "Freq: M\n",
      "Data columns (total 6 columns):\n",
      " #   Column  Non-Null Count  Dtype  \n",
      "---  ------  --------------  -----  \n",
      " 0   Mkt-RF  96 non-null     float64\n",
      " 1   SMB     96 non-null     float64\n",
      " 2   HML     96 non-null     float64\n",
      " 3   RMW     96 non-null     float64\n",
      " 4   CMA     96 non-null     float64\n",
      " 5   RF      96 non-null     float64\n",
      "dtypes: float64(6)\n",
      "memory usage: 5.2 KB\n"
     ]
    }
   ],
   "source": [
    "ff_factor = \"F-F_Research_Data_5_Factors_2x3\"\n",
    "ff_factor_data = web.DataReader(ff_factor, \"famafrench\", start=\"2010\", end=\"2017-12\")[0]\n",
    "ff_factor_data.info()"
   ]
  },
  {
   "cell_type": "code",
   "execution_count": 40,
   "metadata": {},
   "outputs": [
    {
     "data": {
      "text/html": [
       "<div>\n",
       "<style scoped>\n",
       "    .dataframe tbody tr th:only-of-type {\n",
       "        vertical-align: middle;\n",
       "    }\n",
       "\n",
       "    .dataframe tbody tr th {\n",
       "        vertical-align: top;\n",
       "    }\n",
       "\n",
       "    .dataframe thead th {\n",
       "        text-align: right;\n",
       "    }\n",
       "</style>\n",
       "<table border=\"1\" class=\"dataframe\">\n",
       "  <thead>\n",
       "    <tr style=\"text-align: right;\">\n",
       "      <th></th>\n",
       "      <th>Mkt-RF</th>\n",
       "      <th>SMB</th>\n",
       "      <th>HML</th>\n",
       "      <th>RMW</th>\n",
       "      <th>CMA</th>\n",
       "      <th>RF</th>\n",
       "    </tr>\n",
       "    <tr>\n",
       "      <th>Date</th>\n",
       "      <th></th>\n",
       "      <th></th>\n",
       "      <th></th>\n",
       "      <th></th>\n",
       "      <th></th>\n",
       "      <th></th>\n",
       "    </tr>\n",
       "  </thead>\n",
       "  <tbody>\n",
       "    <tr>\n",
       "      <th>2010-01</th>\n",
       "      <td>-3.36</td>\n",
       "      <td>0.34</td>\n",
       "      <td>0.43</td>\n",
       "      <td>-1.27</td>\n",
       "      <td>0.46</td>\n",
       "      <td>0.00</td>\n",
       "    </tr>\n",
       "    <tr>\n",
       "      <th>2010-02</th>\n",
       "      <td>3.40</td>\n",
       "      <td>1.51</td>\n",
       "      <td>3.23</td>\n",
       "      <td>-0.27</td>\n",
       "      <td>1.43</td>\n",
       "      <td>0.00</td>\n",
       "    </tr>\n",
       "    <tr>\n",
       "      <th>2010-03</th>\n",
       "      <td>6.31</td>\n",
       "      <td>1.85</td>\n",
       "      <td>2.21</td>\n",
       "      <td>-0.65</td>\n",
       "      <td>1.69</td>\n",
       "      <td>0.01</td>\n",
       "    </tr>\n",
       "    <tr>\n",
       "      <th>2010-04</th>\n",
       "      <td>2.00</td>\n",
       "      <td>4.98</td>\n",
       "      <td>2.89</td>\n",
       "      <td>0.69</td>\n",
       "      <td>1.72</td>\n",
       "      <td>0.01</td>\n",
       "    </tr>\n",
       "    <tr>\n",
       "      <th>2010-05</th>\n",
       "      <td>-7.89</td>\n",
       "      <td>0.04</td>\n",
       "      <td>-2.44</td>\n",
       "      <td>1.30</td>\n",
       "      <td>-0.21</td>\n",
       "      <td>0.01</td>\n",
       "    </tr>\n",
       "    <tr>\n",
       "      <th>...</th>\n",
       "      <td>...</td>\n",
       "      <td>...</td>\n",
       "      <td>...</td>\n",
       "      <td>...</td>\n",
       "      <td>...</td>\n",
       "      <td>...</td>\n",
       "    </tr>\n",
       "    <tr>\n",
       "      <th>2017-08</th>\n",
       "      <td>0.16</td>\n",
       "      <td>-1.83</td>\n",
       "      <td>-2.10</td>\n",
       "      <td>0.15</td>\n",
       "      <td>-2.38</td>\n",
       "      <td>0.09</td>\n",
       "    </tr>\n",
       "    <tr>\n",
       "      <th>2017-09</th>\n",
       "      <td>2.51</td>\n",
       "      <td>4.77</td>\n",
       "      <td>3.13</td>\n",
       "      <td>-1.50</td>\n",
       "      <td>1.70</td>\n",
       "      <td>0.09</td>\n",
       "    </tr>\n",
       "    <tr>\n",
       "      <th>2017-10</th>\n",
       "      <td>2.25</td>\n",
       "      <td>-1.94</td>\n",
       "      <td>0.20</td>\n",
       "      <td>0.90</td>\n",
       "      <td>-3.27</td>\n",
       "      <td>0.09</td>\n",
       "    </tr>\n",
       "    <tr>\n",
       "      <th>2017-11</th>\n",
       "      <td>3.12</td>\n",
       "      <td>-0.33</td>\n",
       "      <td>-0.03</td>\n",
       "      <td>3.18</td>\n",
       "      <td>-0.06</td>\n",
       "      <td>0.08</td>\n",
       "    </tr>\n",
       "    <tr>\n",
       "      <th>2017-12</th>\n",
       "      <td>1.06</td>\n",
       "      <td>-1.06</td>\n",
       "      <td>0.06</td>\n",
       "      <td>0.75</td>\n",
       "      <td>1.70</td>\n",
       "      <td>0.09</td>\n",
       "    </tr>\n",
       "  </tbody>\n",
       "</table>\n",
       "<p>96 rows × 6 columns</p>\n",
       "</div>"
      ],
      "text/plain": [
       "         Mkt-RF   SMB   HML   RMW   CMA    RF\n",
       "Date                                         \n",
       "2010-01   -3.36  0.34  0.43 -1.27  0.46  0.00\n",
       "2010-02    3.40  1.51  3.23 -0.27  1.43  0.00\n",
       "2010-03    6.31  1.85  2.21 -0.65  1.69  0.01\n",
       "2010-04    2.00  4.98  2.89  0.69  1.72  0.01\n",
       "2010-05   -7.89  0.04 -2.44  1.30 -0.21  0.01\n",
       "...         ...   ...   ...   ...   ...   ...\n",
       "2017-08    0.16 -1.83 -2.10  0.15 -2.38  0.09\n",
       "2017-09    2.51  4.77  3.13 -1.50  1.70  0.09\n",
       "2017-10    2.25 -1.94  0.20  0.90 -3.27  0.09\n",
       "2017-11    3.12 -0.33 -0.03  3.18 -0.06  0.08\n",
       "2017-12    1.06 -1.06  0.06  0.75  1.70  0.09\n",
       "\n",
       "[96 rows x 6 columns]"
      ]
     },
     "execution_count": 40,
     "metadata": {},
     "output_type": "execute_result"
    }
   ],
   "source": [
    "ff_factor_data"
   ]
  },
  {
   "cell_type": "code",
   "execution_count": 41,
   "metadata": {
    "ExecuteTime": {
     "end_time": "2021-04-15T19:55:13.386698Z",
     "start_time": "2021-04-15T19:55:13.368623Z"
    }
   },
   "outputs": [
    {
     "data": {
      "text/html": [
       "<div>\n",
       "<style scoped>\n",
       "    .dataframe tbody tr th:only-of-type {\n",
       "        vertical-align: middle;\n",
       "    }\n",
       "\n",
       "    .dataframe tbody tr th {\n",
       "        vertical-align: top;\n",
       "    }\n",
       "\n",
       "    .dataframe thead th {\n",
       "        text-align: right;\n",
       "    }\n",
       "</style>\n",
       "<table border=\"1\" class=\"dataframe\">\n",
       "  <thead>\n",
       "    <tr style=\"text-align: right;\">\n",
       "      <th></th>\n",
       "      <th>Mkt-RF</th>\n",
       "      <th>SMB</th>\n",
       "      <th>HML</th>\n",
       "      <th>RMW</th>\n",
       "      <th>CMA</th>\n",
       "      <th>RF</th>\n",
       "    </tr>\n",
       "  </thead>\n",
       "  <tbody>\n",
       "    <tr>\n",
       "      <th>count</th>\n",
       "      <td>96.000000</td>\n",
       "      <td>96.000000</td>\n",
       "      <td>96.000000</td>\n",
       "      <td>96.000000</td>\n",
       "      <td>96.000000</td>\n",
       "      <td>96.000000</td>\n",
       "    </tr>\n",
       "    <tr>\n",
       "      <th>mean</th>\n",
       "      <td>1.158542</td>\n",
       "      <td>0.060208</td>\n",
       "      <td>-0.050000</td>\n",
       "      <td>0.128333</td>\n",
       "      <td>0.047917</td>\n",
       "      <td>0.012604</td>\n",
       "    </tr>\n",
       "    <tr>\n",
       "      <th>std</th>\n",
       "      <td>3.580031</td>\n",
       "      <td>2.301908</td>\n",
       "      <td>2.202886</td>\n",
       "      <td>1.582417</td>\n",
       "      <td>1.412333</td>\n",
       "      <td>0.022583</td>\n",
       "    </tr>\n",
       "    <tr>\n",
       "      <th>min</th>\n",
       "      <td>-7.890000</td>\n",
       "      <td>-4.550000</td>\n",
       "      <td>-4.700000</td>\n",
       "      <td>-3.880000</td>\n",
       "      <td>-3.270000</td>\n",
       "      <td>0.000000</td>\n",
       "    </tr>\n",
       "    <tr>\n",
       "      <th>25%</th>\n",
       "      <td>-0.917500</td>\n",
       "      <td>-1.702500</td>\n",
       "      <td>-1.662500</td>\n",
       "      <td>-1.090000</td>\n",
       "      <td>-0.952500</td>\n",
       "      <td>0.000000</td>\n",
       "    </tr>\n",
       "    <tr>\n",
       "      <th>50%</th>\n",
       "      <td>1.235000</td>\n",
       "      <td>0.205000</td>\n",
       "      <td>-0.310000</td>\n",
       "      <td>0.195000</td>\n",
       "      <td>-0.005000</td>\n",
       "      <td>0.000000</td>\n",
       "    </tr>\n",
       "    <tr>\n",
       "      <th>75%</th>\n",
       "      <td>3.197500</td>\n",
       "      <td>1.590000</td>\n",
       "      <td>1.205000</td>\n",
       "      <td>1.197500</td>\n",
       "      <td>0.922500</td>\n",
       "      <td>0.010000</td>\n",
       "    </tr>\n",
       "    <tr>\n",
       "      <th>max</th>\n",
       "      <td>11.350000</td>\n",
       "      <td>7.070000</td>\n",
       "      <td>8.210000</td>\n",
       "      <td>3.480000</td>\n",
       "      <td>3.700000</td>\n",
       "      <td>0.090000</td>\n",
       "    </tr>\n",
       "  </tbody>\n",
       "</table>\n",
       "</div>"
      ],
      "text/plain": [
       "          Mkt-RF        SMB        HML        RMW        CMA         RF\n",
       "count  96.000000  96.000000  96.000000  96.000000  96.000000  96.000000\n",
       "mean    1.158542   0.060208  -0.050000   0.128333   0.047917   0.012604\n",
       "std     3.580031   2.301908   2.202886   1.582417   1.412333   0.022583\n",
       "min    -7.890000  -4.550000  -4.700000  -3.880000  -3.270000   0.000000\n",
       "25%    -0.917500  -1.702500  -1.662500  -1.090000  -0.952500   0.000000\n",
       "50%     1.235000   0.205000  -0.310000   0.195000  -0.005000   0.000000\n",
       "75%     3.197500   1.590000   1.205000   1.197500   0.922500   0.010000\n",
       "max    11.350000   7.070000   8.210000   3.480000   3.700000   0.090000"
      ]
     },
     "execution_count": 41,
     "metadata": {},
     "output_type": "execute_result"
    }
   ],
   "source": [
    "ff_factor_data.describe()"
   ]
  },
  {
   "cell_type": "markdown",
   "metadata": {},
   "source": [
    "### Portfolios\n"
   ]
  },
  {
   "cell_type": "markdown",
   "metadata": {},
   "source": [
    "Fama and French also make available numerous portfolios that we can illustrate the estimation of the factor exposures, as well as the value of the risk premia available in the market for a given time period. We will use a panel of the 17 industry portfolios at a monthly frequency.\n",
    "\n",
    "We will subtract the risk-free rate from the returns because the factor model works with excess returns:\n"
   ]
  },
  {
   "cell_type": "code",
   "execution_count": 42,
   "metadata": {
    "ExecuteTime": {
     "end_time": "2021-04-15T19:55:14.483710Z",
     "start_time": "2021-04-15T19:55:13.388307Z"
    }
   },
   "outputs": [
    {
     "name": "stdout",
     "output_type": "stream",
     "text": [
      "<class 'pandas.core.frame.DataFrame'>\n",
      "PeriodIndex: 96 entries, 2010-01 to 2017-12\n",
      "Freq: M\n",
      "Data columns (total 17 columns):\n",
      " #   Column  Non-Null Count  Dtype  \n",
      "---  ------  --------------  -----  \n",
      " 0   Food    96 non-null     float64\n",
      " 1   Mines   96 non-null     float64\n",
      " 2   Oil     96 non-null     float64\n",
      " 3   Clths   96 non-null     float64\n",
      " 4   Durbl   96 non-null     float64\n",
      " 5   Chems   96 non-null     float64\n",
      " 6   Cnsum   96 non-null     float64\n",
      " 7   Cnstr   96 non-null     float64\n",
      " 8   Steel   96 non-null     float64\n",
      " 9   FabPr   96 non-null     float64\n",
      " 10  Machn   96 non-null     float64\n",
      " 11  Cars    96 non-null     float64\n",
      " 12  Trans   96 non-null     float64\n",
      " 13  Utils   96 non-null     float64\n",
      " 14  Rtail   96 non-null     float64\n",
      " 15  Finan   96 non-null     float64\n",
      " 16  Other   96 non-null     float64\n",
      "dtypes: float64(17)\n",
      "memory usage: 13.5 KB\n"
     ]
    }
   ],
   "source": [
    "ff_portfolio = \"17_Industry_Portfolios\"\n",
    "ff_portfolio_data = web.DataReader(\n",
    "    ff_portfolio, \"famafrench\", start=\"2010\", end=\"2017-12\"\n",
    ")[0]\n",
    "ff_portfolio_data = ff_portfolio_data.sub(ff_factor_data.RF, axis=0)\n",
    "ff_portfolio_data.info()"
   ]
  },
  {
   "cell_type": "code",
   "execution_count": 43,
   "metadata": {},
   "outputs": [
    {
     "data": {
      "text/html": [
       "<div>\n",
       "<style scoped>\n",
       "    .dataframe tbody tr th:only-of-type {\n",
       "        vertical-align: middle;\n",
       "    }\n",
       "\n",
       "    .dataframe tbody tr th {\n",
       "        vertical-align: top;\n",
       "    }\n",
       "\n",
       "    .dataframe thead th {\n",
       "        text-align: right;\n",
       "    }\n",
       "</style>\n",
       "<table border=\"1\" class=\"dataframe\">\n",
       "  <thead>\n",
       "    <tr style=\"text-align: right;\">\n",
       "      <th></th>\n",
       "      <th>Food</th>\n",
       "      <th>Mines</th>\n",
       "      <th>Oil</th>\n",
       "      <th>Clths</th>\n",
       "      <th>Durbl</th>\n",
       "      <th>Chems</th>\n",
       "      <th>Cnsum</th>\n",
       "      <th>Cnstr</th>\n",
       "      <th>Steel</th>\n",
       "      <th>FabPr</th>\n",
       "      <th>Machn</th>\n",
       "      <th>Cars</th>\n",
       "      <th>Trans</th>\n",
       "      <th>Utils</th>\n",
       "      <th>Rtail</th>\n",
       "      <th>Finan</th>\n",
       "      <th>Other</th>\n",
       "    </tr>\n",
       "    <tr>\n",
       "      <th>Date</th>\n",
       "      <th></th>\n",
       "      <th></th>\n",
       "      <th></th>\n",
       "      <th></th>\n",
       "      <th></th>\n",
       "      <th></th>\n",
       "      <th></th>\n",
       "      <th></th>\n",
       "      <th></th>\n",
       "      <th></th>\n",
       "      <th></th>\n",
       "      <th></th>\n",
       "      <th></th>\n",
       "      <th></th>\n",
       "      <th></th>\n",
       "      <th></th>\n",
       "      <th></th>\n",
       "    </tr>\n",
       "  </thead>\n",
       "  <tbody>\n",
       "    <tr>\n",
       "      <th>2010-01</th>\n",
       "      <td>-2.15</td>\n",
       "      <td>-12.94</td>\n",
       "      <td>-4.79</td>\n",
       "      <td>-3.63</td>\n",
       "      <td>-3.50</td>\n",
       "      <td>-4.33</td>\n",
       "      <td>-0.47</td>\n",
       "      <td>-2.88</td>\n",
       "      <td>-12.49</td>\n",
       "      <td>-2.91</td>\n",
       "      <td>-7.34</td>\n",
       "      <td>0.36</td>\n",
       "      <td>-2.13</td>\n",
       "      <td>-4.44</td>\n",
       "      <td>-1.29</td>\n",
       "      <td>-0.65</td>\n",
       "      <td>-3.91</td>\n",
       "    </tr>\n",
       "    <tr>\n",
       "      <th>2010-02</th>\n",
       "      <td>1.75</td>\n",
       "      <td>12.41</td>\n",
       "      <td>2.32</td>\n",
       "      <td>7.18</td>\n",
       "      <td>9.80</td>\n",
       "      <td>5.77</td>\n",
       "      <td>1.33</td>\n",
       "      <td>5.92</td>\n",
       "      <td>4.48</td>\n",
       "      <td>7.35</td>\n",
       "      <td>7.27</td>\n",
       "      <td>6.60</td>\n",
       "      <td>6.16</td>\n",
       "      <td>-0.42</td>\n",
       "      <td>3.69</td>\n",
       "      <td>2.91</td>\n",
       "      <td>2.57</td>\n",
       "    </tr>\n",
       "    <tr>\n",
       "      <th>2010-03</th>\n",
       "      <td>4.96</td>\n",
       "      <td>7.32</td>\n",
       "      <td>3.19</td>\n",
       "      <td>11.23</td>\n",
       "      <td>5.50</td>\n",
       "      <td>7.45</td>\n",
       "      <td>3.24</td>\n",
       "      <td>5.54</td>\n",
       "      <td>11.98</td>\n",
       "      <td>5.32</td>\n",
       "      <td>7.77</td>\n",
       "      <td>8.82</td>\n",
       "      <td>8.98</td>\n",
       "      <td>3.11</td>\n",
       "      <td>6.49</td>\n",
       "      <td>8.30</td>\n",
       "      <td>6.19</td>\n",
       "    </tr>\n",
       "    <tr>\n",
       "      <th>2010-04</th>\n",
       "      <td>-1.36</td>\n",
       "      <td>-0.76</td>\n",
       "      <td>4.30</td>\n",
       "      <td>4.91</td>\n",
       "      <td>6.88</td>\n",
       "      <td>2.55</td>\n",
       "      <td>-1.99</td>\n",
       "      <td>10.80</td>\n",
       "      <td>-2.95</td>\n",
       "      <td>3.42</td>\n",
       "      <td>4.82</td>\n",
       "      <td>6.55</td>\n",
       "      <td>2.91</td>\n",
       "      <td>2.84</td>\n",
       "      <td>1.33</td>\n",
       "      <td>1.12</td>\n",
       "      <td>1.41</td>\n",
       "    </tr>\n",
       "    <tr>\n",
       "      <th>2010-05</th>\n",
       "      <td>-4.86</td>\n",
       "      <td>-8.01</td>\n",
       "      <td>-10.15</td>\n",
       "      <td>-6.29</td>\n",
       "      <td>-5.43</td>\n",
       "      <td>-10.63</td>\n",
       "      <td>-6.25</td>\n",
       "      <td>-8.12</td>\n",
       "      <td>-7.48</td>\n",
       "      <td>-8.97</td>\n",
       "      <td>-8.08</td>\n",
       "      <td>-7.20</td>\n",
       "      <td>-7.56</td>\n",
       "      <td>-6.30</td>\n",
       "      <td>-5.73</td>\n",
       "      <td>-9.11</td>\n",
       "      <td>-8.04</td>\n",
       "    </tr>\n",
       "    <tr>\n",
       "      <th>...</th>\n",
       "      <td>...</td>\n",
       "      <td>...</td>\n",
       "      <td>...</td>\n",
       "      <td>...</td>\n",
       "      <td>...</td>\n",
       "      <td>...</td>\n",
       "      <td>...</td>\n",
       "      <td>...</td>\n",
       "      <td>...</td>\n",
       "      <td>...</td>\n",
       "      <td>...</td>\n",
       "      <td>...</td>\n",
       "      <td>...</td>\n",
       "      <td>...</td>\n",
       "      <td>...</td>\n",
       "      <td>...</td>\n",
       "      <td>...</td>\n",
       "    </tr>\n",
       "    <tr>\n",
       "      <th>2017-08</th>\n",
       "      <td>-1.89</td>\n",
       "      <td>0.70</td>\n",
       "      <td>-5.21</td>\n",
       "      <td>-4.41</td>\n",
       "      <td>-3.85</td>\n",
       "      <td>1.54</td>\n",
       "      <td>0.51</td>\n",
       "      <td>-0.47</td>\n",
       "      <td>1.58</td>\n",
       "      <td>-1.51</td>\n",
       "      <td>1.24</td>\n",
       "      <td>0.77</td>\n",
       "      <td>1.54</td>\n",
       "      <td>2.08</td>\n",
       "      <td>-1.38</td>\n",
       "      <td>-1.38</td>\n",
       "      <td>1.60</td>\n",
       "    </tr>\n",
       "    <tr>\n",
       "      <th>2017-09</th>\n",
       "      <td>-0.36</td>\n",
       "      <td>-1.21</td>\n",
       "      <td>10.89</td>\n",
       "      <td>1.13</td>\n",
       "      <td>4.39</td>\n",
       "      <td>6.97</td>\n",
       "      <td>0.60</td>\n",
       "      <td>7.74</td>\n",
       "      <td>3.64</td>\n",
       "      <td>7.29</td>\n",
       "      <td>5.63</td>\n",
       "      <td>7.44</td>\n",
       "      <td>4.66</td>\n",
       "      <td>-2.04</td>\n",
       "      <td>0.63</td>\n",
       "      <td>5.18</td>\n",
       "      <td>0.16</td>\n",
       "    </tr>\n",
       "    <tr>\n",
       "      <th>2017-10</th>\n",
       "      <td>0.89</td>\n",
       "      <td>1.14</td>\n",
       "      <td>0.32</td>\n",
       "      <td>2.96</td>\n",
       "      <td>-1.73</td>\n",
       "      <td>4.70</td>\n",
       "      <td>-3.72</td>\n",
       "      <td>3.99</td>\n",
       "      <td>2.14</td>\n",
       "      <td>1.67</td>\n",
       "      <td>6.07</td>\n",
       "      <td>1.07</td>\n",
       "      <td>-0.33</td>\n",
       "      <td>2.93</td>\n",
       "      <td>3.98</td>\n",
       "      <td>3.28</td>\n",
       "      <td>2.45</td>\n",
       "    </tr>\n",
       "    <tr>\n",
       "      <th>2017-11</th>\n",
       "      <td>4.17</td>\n",
       "      <td>0.78</td>\n",
       "      <td>2.80</td>\n",
       "      <td>7.22</td>\n",
       "      <td>3.75</td>\n",
       "      <td>2.24</td>\n",
       "      <td>2.62</td>\n",
       "      <td>6.90</td>\n",
       "      <td>-1.47</td>\n",
       "      <td>0.30</td>\n",
       "      <td>2.32</td>\n",
       "      <td>2.44</td>\n",
       "      <td>5.48</td>\n",
       "      <td>2.34</td>\n",
       "      <td>8.78</td>\n",
       "      <td>3.88</td>\n",
       "      <td>1.67</td>\n",
       "    </tr>\n",
       "    <tr>\n",
       "      <th>2017-12</th>\n",
       "      <td>1.21</td>\n",
       "      <td>11.28</td>\n",
       "      <td>5.01</td>\n",
       "      <td>3.72</td>\n",
       "      <td>-2.40</td>\n",
       "      <td>0.48</td>\n",
       "      <td>1.76</td>\n",
       "      <td>3.75</td>\n",
       "      <td>13.12</td>\n",
       "      <td>0.52</td>\n",
       "      <td>0.26</td>\n",
       "      <td>-0.61</td>\n",
       "      <td>3.01</td>\n",
       "      <td>-5.07</td>\n",
       "      <td>1.44</td>\n",
       "      <td>0.94</td>\n",
       "      <td>0.57</td>\n",
       "    </tr>\n",
       "  </tbody>\n",
       "</table>\n",
       "<p>96 rows × 17 columns</p>\n",
       "</div>"
      ],
      "text/plain": [
       "         Food   Mines  Oil    Clths  Durbl  Chems  Cnsum  Cnstr  Steel  FabPr  \\\n",
       "Date                                                                            \n",
       "2010-01  -2.15 -12.94  -4.79  -3.63  -3.50  -4.33  -0.47  -2.88 -12.49  -2.91   \n",
       "2010-02   1.75  12.41   2.32   7.18   9.80   5.77   1.33   5.92   4.48   7.35   \n",
       "2010-03   4.96   7.32   3.19  11.23   5.50   7.45   3.24   5.54  11.98   5.32   \n",
       "2010-04  -1.36  -0.76   4.30   4.91   6.88   2.55  -1.99  10.80  -2.95   3.42   \n",
       "2010-05  -4.86  -8.01 -10.15  -6.29  -5.43 -10.63  -6.25  -8.12  -7.48  -8.97   \n",
       "...        ...    ...    ...    ...    ...    ...    ...    ...    ...    ...   \n",
       "2017-08  -1.89   0.70  -5.21  -4.41  -3.85   1.54   0.51  -0.47   1.58  -1.51   \n",
       "2017-09  -0.36  -1.21  10.89   1.13   4.39   6.97   0.60   7.74   3.64   7.29   \n",
       "2017-10   0.89   1.14   0.32   2.96  -1.73   4.70  -3.72   3.99   2.14   1.67   \n",
       "2017-11   4.17   0.78   2.80   7.22   3.75   2.24   2.62   6.90  -1.47   0.30   \n",
       "2017-12   1.21  11.28   5.01   3.72  -2.40   0.48   1.76   3.75  13.12   0.52   \n",
       "\n",
       "         Machn  Cars   Trans  Utils  Rtail  Finan  Other  \n",
       "Date                                                      \n",
       "2010-01  -7.34   0.36  -2.13  -4.44  -1.29  -0.65  -3.91  \n",
       "2010-02   7.27   6.60   6.16  -0.42   3.69   2.91   2.57  \n",
       "2010-03   7.77   8.82   8.98   3.11   6.49   8.30   6.19  \n",
       "2010-04   4.82   6.55   2.91   2.84   1.33   1.12   1.41  \n",
       "2010-05  -8.08  -7.20  -7.56  -6.30  -5.73  -9.11  -8.04  \n",
       "...        ...    ...    ...    ...    ...    ...    ...  \n",
       "2017-08   1.24   0.77   1.54   2.08  -1.38  -1.38   1.60  \n",
       "2017-09   5.63   7.44   4.66  -2.04   0.63   5.18   0.16  \n",
       "2017-10   6.07   1.07  -0.33   2.93   3.98   3.28   2.45  \n",
       "2017-11   2.32   2.44   5.48   2.34   8.78   3.88   1.67  \n",
       "2017-12   0.26  -0.61   3.01  -5.07   1.44   0.94   0.57  \n",
       "\n",
       "[96 rows x 17 columns]"
      ]
     },
     "execution_count": 43,
     "metadata": {},
     "output_type": "execute_result"
    }
   ],
   "source": [
    "ff_portfolio_data"
   ]
  },
  {
   "cell_type": "code",
   "execution_count": 44,
   "metadata": {
    "ExecuteTime": {
     "end_time": "2021-04-15T19:55:14.519355Z",
     "start_time": "2021-04-15T19:55:14.484749Z"
    }
   },
   "outputs": [
    {
     "data": {
      "text/html": [
       "<div>\n",
       "<style scoped>\n",
       "    .dataframe tbody tr th:only-of-type {\n",
       "        vertical-align: middle;\n",
       "    }\n",
       "\n",
       "    .dataframe tbody tr th {\n",
       "        vertical-align: top;\n",
       "    }\n",
       "\n",
       "    .dataframe thead th {\n",
       "        text-align: right;\n",
       "    }\n",
       "</style>\n",
       "<table border=\"1\" class=\"dataframe\">\n",
       "  <thead>\n",
       "    <tr style=\"text-align: right;\">\n",
       "      <th></th>\n",
       "      <th>Food</th>\n",
       "      <th>Mines</th>\n",
       "      <th>Oil</th>\n",
       "      <th>Clths</th>\n",
       "      <th>Durbl</th>\n",
       "      <th>Chems</th>\n",
       "      <th>Cnsum</th>\n",
       "      <th>Cnstr</th>\n",
       "      <th>Steel</th>\n",
       "      <th>FabPr</th>\n",
       "      <th>Machn</th>\n",
       "      <th>Cars</th>\n",
       "      <th>Trans</th>\n",
       "      <th>Utils</th>\n",
       "      <th>Rtail</th>\n",
       "      <th>Finan</th>\n",
       "      <th>Other</th>\n",
       "    </tr>\n",
       "  </thead>\n",
       "  <tbody>\n",
       "    <tr>\n",
       "      <th>count</th>\n",
       "      <td>96.000000</td>\n",
       "      <td>96.000000</td>\n",
       "      <td>96.000000</td>\n",
       "      <td>96.000000</td>\n",
       "      <td>96.000000</td>\n",
       "      <td>96.000000</td>\n",
       "      <td>96.000000</td>\n",
       "      <td>96.000000</td>\n",
       "      <td>96.000000</td>\n",
       "      <td>96.000000</td>\n",
       "      <td>96.000000</td>\n",
       "      <td>96.000000</td>\n",
       "      <td>96.000000</td>\n",
       "      <td>96.000000</td>\n",
       "      <td>96.000000</td>\n",
       "      <td>96.000000</td>\n",
       "      <td>96.000000</td>\n",
       "    </tr>\n",
       "    <tr>\n",
       "      <th>mean</th>\n",
       "      <td>1.035417</td>\n",
       "      <td>0.210000</td>\n",
       "      <td>0.594896</td>\n",
       "      <td>1.383646</td>\n",
       "      <td>1.141771</td>\n",
       "      <td>1.327604</td>\n",
       "      <td>1.189063</td>\n",
       "      <td>1.734167</td>\n",
       "      <td>0.535521</td>\n",
       "      <td>1.350208</td>\n",
       "      <td>1.219271</td>\n",
       "      <td>1.282292</td>\n",
       "      <td>1.469792</td>\n",
       "      <td>0.894271</td>\n",
       "      <td>1.240417</td>\n",
       "      <td>1.247292</td>\n",
       "      <td>1.286250</td>\n",
       "    </tr>\n",
       "    <tr>\n",
       "      <th>std</th>\n",
       "      <td>2.805824</td>\n",
       "      <td>7.942856</td>\n",
       "      <td>5.504306</td>\n",
       "      <td>5.007997</td>\n",
       "      <td>5.207729</td>\n",
       "      <td>5.585949</td>\n",
       "      <td>3.141205</td>\n",
       "      <td>5.249994</td>\n",
       "      <td>7.424776</td>\n",
       "      <td>4.713899</td>\n",
       "      <td>4.801381</td>\n",
       "      <td>5.757512</td>\n",
       "      <td>4.167801</td>\n",
       "      <td>3.232446</td>\n",
       "      <td>3.519087</td>\n",
       "      <td>4.868399</td>\n",
       "      <td>3.674353</td>\n",
       "    </tr>\n",
       "    <tr>\n",
       "      <th>min</th>\n",
       "      <td>-5.160000</td>\n",
       "      <td>-24.510000</td>\n",
       "      <td>-11.760000</td>\n",
       "      <td>-9.770000</td>\n",
       "      <td>-13.170000</td>\n",
       "      <td>-16.770000</td>\n",
       "      <td>-7.180000</td>\n",
       "      <td>-14.140000</td>\n",
       "      <td>-20.570000</td>\n",
       "      <td>-12.180000</td>\n",
       "      <td>-9.110000</td>\n",
       "      <td>-11.770000</td>\n",
       "      <td>-8.660000</td>\n",
       "      <td>-7.110000</td>\n",
       "      <td>-9.200000</td>\n",
       "      <td>-11.290000</td>\n",
       "      <td>-8.040000</td>\n",
       "    </tr>\n",
       "    <tr>\n",
       "      <th>25%</th>\n",
       "      <td>-0.797500</td>\n",
       "      <td>-5.810000</td>\n",
       "      <td>-3.167500</td>\n",
       "      <td>-1.572500</td>\n",
       "      <td>-2.272500</td>\n",
       "      <td>-1.337500</td>\n",
       "      <td>-0.895000</td>\n",
       "      <td>-2.435000</td>\n",
       "      <td>-4.385000</td>\n",
       "      <td>-1.450000</td>\n",
       "      <td>-2.010000</td>\n",
       "      <td>-1.255000</td>\n",
       "      <td>-0.860000</td>\n",
       "      <td>-0.735000</td>\n",
       "      <td>-0.952500</td>\n",
       "      <td>-1.530000</td>\n",
       "      <td>-1.147500</td>\n",
       "    </tr>\n",
       "    <tr>\n",
       "      <th>50%</th>\n",
       "      <td>0.940000</td>\n",
       "      <td>-0.480000</td>\n",
       "      <td>0.990000</td>\n",
       "      <td>1.155000</td>\n",
       "      <td>1.225000</td>\n",
       "      <td>1.445000</td>\n",
       "      <td>1.465000</td>\n",
       "      <td>2.160000</td>\n",
       "      <td>0.655000</td>\n",
       "      <td>1.500000</td>\n",
       "      <td>1.495000</td>\n",
       "      <td>0.620000</td>\n",
       "      <td>1.520000</td>\n",
       "      <td>1.275000</td>\n",
       "      <td>0.885000</td>\n",
       "      <td>1.790000</td>\n",
       "      <td>1.570000</td>\n",
       "    </tr>\n",
       "    <tr>\n",
       "      <th>75%</th>\n",
       "      <td>3.210000</td>\n",
       "      <td>5.905000</td>\n",
       "      <td>4.195000</td>\n",
       "      <td>3.770000</td>\n",
       "      <td>4.627500</td>\n",
       "      <td>4.437500</td>\n",
       "      <td>3.295000</td>\n",
       "      <td>5.555000</td>\n",
       "      <td>4.270000</td>\n",
       "      <td>3.845000</td>\n",
       "      <td>4.582500</td>\n",
       "      <td>4.815000</td>\n",
       "      <td>4.342500</td>\n",
       "      <td>2.930000</td>\n",
       "      <td>3.367500</td>\n",
       "      <td>4.147500</td>\n",
       "      <td>3.425000</td>\n",
       "    </tr>\n",
       "    <tr>\n",
       "      <th>max</th>\n",
       "      <td>6.680000</td>\n",
       "      <td>22.030000</td>\n",
       "      <td>16.030000</td>\n",
       "      <td>17.320000</td>\n",
       "      <td>16.580000</td>\n",
       "      <td>18.360000</td>\n",
       "      <td>8.280000</td>\n",
       "      <td>15.580000</td>\n",
       "      <td>21.620000</td>\n",
       "      <td>17.870000</td>\n",
       "      <td>14.740000</td>\n",
       "      <td>21.040000</td>\n",
       "      <td>13.030000</td>\n",
       "      <td>7.840000</td>\n",
       "      <td>12.460000</td>\n",
       "      <td>13.500000</td>\n",
       "      <td>10.430000</td>\n",
       "    </tr>\n",
       "  </tbody>\n",
       "</table>\n",
       "</div>"
      ],
      "text/plain": [
       "           Food       Mines      Oil        Clths      Durbl      Chems  \\\n",
       "count  96.000000  96.000000  96.000000  96.000000  96.000000  96.000000   \n",
       "mean    1.035417   0.210000   0.594896   1.383646   1.141771   1.327604   \n",
       "std     2.805824   7.942856   5.504306   5.007997   5.207729   5.585949   \n",
       "min    -5.160000 -24.510000 -11.760000  -9.770000 -13.170000 -16.770000   \n",
       "25%    -0.797500  -5.810000  -3.167500  -1.572500  -2.272500  -1.337500   \n",
       "50%     0.940000  -0.480000   0.990000   1.155000   1.225000   1.445000   \n",
       "75%     3.210000   5.905000   4.195000   3.770000   4.627500   4.437500   \n",
       "max     6.680000  22.030000  16.030000  17.320000  16.580000  18.360000   \n",
       "\n",
       "           Cnsum      Cnstr      Steel      FabPr      Machn      Cars   \\\n",
       "count  96.000000  96.000000  96.000000  96.000000  96.000000  96.000000   \n",
       "mean    1.189063   1.734167   0.535521   1.350208   1.219271   1.282292   \n",
       "std     3.141205   5.249994   7.424776   4.713899   4.801381   5.757512   \n",
       "min    -7.180000 -14.140000 -20.570000 -12.180000  -9.110000 -11.770000   \n",
       "25%    -0.895000  -2.435000  -4.385000  -1.450000  -2.010000  -1.255000   \n",
       "50%     1.465000   2.160000   0.655000   1.500000   1.495000   0.620000   \n",
       "75%     3.295000   5.555000   4.270000   3.845000   4.582500   4.815000   \n",
       "max     8.280000  15.580000  21.620000  17.870000  14.740000  21.040000   \n",
       "\n",
       "           Trans      Utils      Rtail      Finan      Other  \n",
       "count  96.000000  96.000000  96.000000  96.000000  96.000000  \n",
       "mean    1.469792   0.894271   1.240417   1.247292   1.286250  \n",
       "std     4.167801   3.232446   3.519087   4.868399   3.674353  \n",
       "min    -8.660000  -7.110000  -9.200000 -11.290000  -8.040000  \n",
       "25%    -0.860000  -0.735000  -0.952500  -1.530000  -1.147500  \n",
       "50%     1.520000   1.275000   0.885000   1.790000   1.570000  \n",
       "75%     4.342500   2.930000   3.367500   4.147500   3.425000  \n",
       "max    13.030000   7.840000  12.460000  13.500000  10.430000  "
      ]
     },
     "execution_count": 44,
     "metadata": {},
     "output_type": "execute_result"
    }
   ],
   "source": [
    "ff_portfolio_data.describe()"
   ]
  },
  {
   "cell_type": "markdown",
   "metadata": {},
   "source": [
    "### Equity Data\n"
   ]
  },
  {
   "cell_type": "code",
   "execution_count": 45,
   "metadata": {
    "ExecuteTime": {
     "end_time": "2021-04-15T19:55:20.200618Z",
     "start_time": "2021-04-15T19:55:14.520935Z"
    }
   },
   "outputs": [],
   "source": [
    "with pd.HDFStore(\"../data/assets.h5\") as store:\n",
    "    prices = store[\"/quandl/wiki/prices\"].adj_close.unstack().loc[\"2010\":\"2017\"]\n",
    "    equities = store[\"/us_equities/stocks\"].drop_duplicates()"
   ]
  },
  {
   "cell_type": "code",
   "execution_count": 46,
   "metadata": {
    "ExecuteTime": {
     "end_time": "2021-04-15T19:55:20.245270Z",
     "start_time": "2021-04-15T19:55:20.201602Z"
    }
   },
   "outputs": [],
   "source": [
    "sectors = equities.filter(prices.columns, axis=0).sector.to_dict()\n",
    "prices = prices.filter(sectors.keys()).dropna(how=\"all\", axis=1)"
   ]
  },
  {
   "cell_type": "code",
   "execution_count": 47,
   "metadata": {
    "ExecuteTime": {
     "end_time": "2021-04-15T19:55:20.330305Z",
     "start_time": "2021-04-15T19:55:20.246605Z"
    }
   },
   "outputs": [
    {
     "name": "stdout",
     "output_type": "stream",
     "text": [
      "<class 'pandas.core.frame.DataFrame'>\n",
      "PeriodIndex: 95 entries, 2010-02 to 2017-12\n",
      "Freq: M\n",
      "Columns: 1986 entries, A to ZUMZ\n",
      "dtypes: float64(1986)\n",
      "memory usage: 1.4 MB\n"
     ]
    }
   ],
   "source": [
    "returns = prices.resample(\"M\").last().pct_change().mul(100).to_period(\"M\")\n",
    "returns = returns.dropna(how=\"all\").dropna(axis=1)\n",
    "returns.info()"
   ]
  },
  {
   "cell_type": "markdown",
   "metadata": {},
   "source": [
    "### Align data\n"
   ]
  },
  {
   "cell_type": "code",
   "execution_count": 48,
   "metadata": {
    "ExecuteTime": {
     "end_time": "2021-04-15T19:55:20.336370Z",
     "start_time": "2021-04-15T19:55:20.332866Z"
    }
   },
   "outputs": [],
   "source": [
    "ff_factor_data = ff_factor_data.loc[returns.index]\n",
    "ff_portfolio_data = ff_portfolio_data.loc[returns.index]"
   ]
  },
  {
   "cell_type": "code",
   "execution_count": 49,
   "metadata": {
    "ExecuteTime": {
     "end_time": "2021-04-15T19:55:20.370190Z",
     "start_time": "2021-04-15T19:55:20.338297Z"
    }
   },
   "outputs": [
    {
     "data": {
      "text/html": [
       "<div>\n",
       "<style scoped>\n",
       "    .dataframe tbody tr th:only-of-type {\n",
       "        vertical-align: middle;\n",
       "    }\n",
       "\n",
       "    .dataframe tbody tr th {\n",
       "        vertical-align: top;\n",
       "    }\n",
       "\n",
       "    .dataframe thead th {\n",
       "        text-align: right;\n",
       "    }\n",
       "</style>\n",
       "<table border=\"1\" class=\"dataframe\">\n",
       "  <thead>\n",
       "    <tr style=\"text-align: right;\">\n",
       "      <th></th>\n",
       "      <th>Mkt-RF</th>\n",
       "      <th>SMB</th>\n",
       "      <th>HML</th>\n",
       "      <th>RMW</th>\n",
       "      <th>CMA</th>\n",
       "      <th>RF</th>\n",
       "    </tr>\n",
       "  </thead>\n",
       "  <tbody>\n",
       "    <tr>\n",
       "      <th>count</th>\n",
       "      <td>95.000000</td>\n",
       "      <td>95.000000</td>\n",
       "      <td>95.000000</td>\n",
       "      <td>95.000000</td>\n",
       "      <td>95.000000</td>\n",
       "      <td>95.000000</td>\n",
       "    </tr>\n",
       "    <tr>\n",
       "      <th>mean</th>\n",
       "      <td>1.206105</td>\n",
       "      <td>0.057263</td>\n",
       "      <td>-0.055053</td>\n",
       "      <td>0.143053</td>\n",
       "      <td>0.043579</td>\n",
       "      <td>0.012737</td>\n",
       "    </tr>\n",
       "    <tr>\n",
       "      <th>std</th>\n",
       "      <td>3.568400</td>\n",
       "      <td>2.313938</td>\n",
       "      <td>2.214013</td>\n",
       "      <td>1.584191</td>\n",
       "      <td>1.419182</td>\n",
       "      <td>0.022665</td>\n",
       "    </tr>\n",
       "    <tr>\n",
       "      <th>min</th>\n",
       "      <td>-7.890000</td>\n",
       "      <td>-4.550000</td>\n",
       "      <td>-4.700000</td>\n",
       "      <td>-3.880000</td>\n",
       "      <td>-3.270000</td>\n",
       "      <td>0.000000</td>\n",
       "    </tr>\n",
       "    <tr>\n",
       "      <th>25%</th>\n",
       "      <td>-0.565000</td>\n",
       "      <td>-1.705000</td>\n",
       "      <td>-1.665000</td>\n",
       "      <td>-0.925000</td>\n",
       "      <td>-0.965000</td>\n",
       "      <td>0.000000</td>\n",
       "    </tr>\n",
       "    <tr>\n",
       "      <th>50%</th>\n",
       "      <td>1.290000</td>\n",
       "      <td>0.160000</td>\n",
       "      <td>-0.310000</td>\n",
       "      <td>0.240000</td>\n",
       "      <td>-0.010000</td>\n",
       "      <td>0.000000</td>\n",
       "    </tr>\n",
       "    <tr>\n",
       "      <th>75%</th>\n",
       "      <td>3.265000</td>\n",
       "      <td>1.610000</td>\n",
       "      <td>1.220000</td>\n",
       "      <td>1.205000</td>\n",
       "      <td>0.935000</td>\n",
       "      <td>0.010000</td>\n",
       "    </tr>\n",
       "    <tr>\n",
       "      <th>max</th>\n",
       "      <td>11.350000</td>\n",
       "      <td>7.070000</td>\n",
       "      <td>8.210000</td>\n",
       "      <td>3.480000</td>\n",
       "      <td>3.700000</td>\n",
       "      <td>0.090000</td>\n",
       "    </tr>\n",
       "  </tbody>\n",
       "</table>\n",
       "</div>"
      ],
      "text/plain": [
       "          Mkt-RF        SMB        HML        RMW        CMA         RF\n",
       "count  95.000000  95.000000  95.000000  95.000000  95.000000  95.000000\n",
       "mean    1.206105   0.057263  -0.055053   0.143053   0.043579   0.012737\n",
       "std     3.568400   2.313938   2.214013   1.584191   1.419182   0.022665\n",
       "min    -7.890000  -4.550000  -4.700000  -3.880000  -3.270000   0.000000\n",
       "25%    -0.565000  -1.705000  -1.665000  -0.925000  -0.965000   0.000000\n",
       "50%     1.290000   0.160000  -0.310000   0.240000  -0.010000   0.000000\n",
       "75%     3.265000   1.610000   1.220000   1.205000   0.935000   0.010000\n",
       "max    11.350000   7.070000   8.210000   3.480000   3.700000   0.090000"
      ]
     },
     "execution_count": 49,
     "metadata": {},
     "output_type": "execute_result"
    }
   ],
   "source": [
    "ff_factor_data.describe()"
   ]
  },
  {
   "cell_type": "markdown",
   "metadata": {},
   "source": [
    "### Compute excess Returns\n"
   ]
  },
  {
   "cell_type": "code",
   "execution_count": 50,
   "metadata": {
    "ExecuteTime": {
     "end_time": "2021-04-15T19:55:20.493870Z",
     "start_time": "2021-04-15T19:55:20.371460Z"
    }
   },
   "outputs": [
    {
     "name": "stdout",
     "output_type": "stream",
     "text": [
      "<class 'pandas.core.frame.DataFrame'>\n",
      "PeriodIndex: 95 entries, 2010-02 to 2017-12\n",
      "Freq: M\n",
      "Columns: 1986 entries, A to ZUMZ\n",
      "dtypes: float64(1986)\n",
      "memory usage: 1.4 MB\n"
     ]
    }
   ],
   "source": [
    "excess_returns = returns.sub(ff_factor_data.RF, axis=0)\n",
    "excess_returns.info()"
   ]
  },
  {
   "cell_type": "code",
   "execution_count": 51,
   "metadata": {
    "ExecuteTime": {
     "end_time": "2021-04-15T19:55:20.510527Z",
     "start_time": "2021-04-15T19:55:20.495111Z"
    }
   },
   "outputs": [],
   "source": [
    "excess_returns = excess_returns.clip(\n",
    "    lower=np.percentile(excess_returns, 1), upper=np.percentile(excess_returns, 99)\n",
    ")"
   ]
  },
  {
   "cell_type": "markdown",
   "metadata": {},
   "source": [
    "## Fama-Macbeth Regression\n"
   ]
  },
  {
   "cell_type": "markdown",
   "metadata": {},
   "source": [
    "Given data on risk factors and portfolio returns, it is useful to estimate the portfolio's exposure, that is, how much the risk factors drive portfolio returns, as well as how much the exposure to a given factor is worth, that is, the what market's risk factor premium is. The risk premium then permits to estimate the return for any portfolio provided the factor exposure is known or can be assumed.\n"
   ]
  },
  {
   "cell_type": "code",
   "execution_count": 52,
   "metadata": {
    "ExecuteTime": {
     "end_time": "2021-04-15T19:55:20.520870Z",
     "start_time": "2021-04-15T19:55:20.511704Z"
    }
   },
   "outputs": [
    {
     "name": "stdout",
     "output_type": "stream",
     "text": [
      "<class 'pandas.core.frame.DataFrame'>\n",
      "PeriodIndex: 95 entries, 2010-02 to 2017-12\n",
      "Freq: M\n",
      "Data columns (total 17 columns):\n",
      " #   Column  Non-Null Count  Dtype  \n",
      "---  ------  --------------  -----  \n",
      " 0   Food    95 non-null     float64\n",
      " 1   Mines   95 non-null     float64\n",
      " 2   Oil     95 non-null     float64\n",
      " 3   Clths   95 non-null     float64\n",
      " 4   Durbl   95 non-null     float64\n",
      " 5   Chems   95 non-null     float64\n",
      " 6   Cnsum   95 non-null     float64\n",
      " 7   Cnstr   95 non-null     float64\n",
      " 8   Steel   95 non-null     float64\n",
      " 9   FabPr   95 non-null     float64\n",
      " 10  Machn   95 non-null     float64\n",
      " 11  Cars    95 non-null     float64\n",
      " 12  Trans   95 non-null     float64\n",
      " 13  Utils   95 non-null     float64\n",
      " 14  Rtail   95 non-null     float64\n",
      " 15  Finan   95 non-null     float64\n",
      " 16  Other   95 non-null     float64\n",
      "dtypes: float64(17)\n",
      "memory usage: 13.4 KB\n"
     ]
    }
   ],
   "source": [
    "ff_portfolio_data.info()"
   ]
  },
  {
   "cell_type": "code",
   "execution_count": 53,
   "metadata": {
    "ExecuteTime": {
     "end_time": "2021-04-15T19:55:20.538124Z",
     "start_time": "2021-04-15T19:55:20.521998Z"
    }
   },
   "outputs": [
    {
     "name": "stdout",
     "output_type": "stream",
     "text": [
      "<class 'pandas.core.frame.DataFrame'>\n",
      "PeriodIndex: 95 entries, 2010-02 to 2017-12\n",
      "Freq: M\n",
      "Data columns (total 5 columns):\n",
      " #   Column  Non-Null Count  Dtype  \n",
      "---  ------  --------------  -----  \n",
      " 0   Mkt-RF  95 non-null     float64\n",
      " 1   SMB     95 non-null     float64\n",
      " 2   HML     95 non-null     float64\n",
      " 3   RMW     95 non-null     float64\n",
      " 4   CMA     95 non-null     float64\n",
      "dtypes: float64(5)\n",
      "memory usage: 4.5 KB\n"
     ]
    }
   ],
   "source": [
    "ff_factor_data = ff_factor_data.drop(\"RF\", axis=1)\n",
    "ff_factor_data.info()"
   ]
  },
  {
   "cell_type": "markdown",
   "metadata": {},
   "source": [
    "To address the inference problem caused by the correlation of the residuals, Fama and MacBeth proposed a two-step methodology for a cross-sectional regression of returns on factors. The two-stage Fama—Macbeth regression is designed to estimate the premium rewarded for the exposure to a particular risk factor by the market. The two stages consist of:\n",
    "\n",
    "- First stage: N time-series regression, one for each asset or portfolio, of its excess returns on the factors to estimate the factor loadings.\n",
    "\n",
    "- Second stage: T cross-sectional regression, one for each time period, to estimate the risk premium.\n",
    "\n",
    "See corresponding section in Chapter 7 of [Machine Learning for Trading](https://www.amazon.com/Hands-Machine-Learning-Algorithmic-Trading-ebook/dp/B07JLFH7C5/ref=sr_1_2?ie=UTF8&qid=1548455634&sr=8-2&keywords=machine+learning+algorithmic+trading) for details.\n"
   ]
  },
  {
   "cell_type": "markdown",
   "metadata": {},
   "source": [
    "Now we can compute the factor risk premia as the time average and get t-statistic to assess their individual significance, using the assumption that the risk premia estimates are independent over time.\n",
    "\n",
    "If we had a very large and representative data sample on traded risk factors we could use the sample mean as a risk premium estimate. However, we typically do not have a sufficiently long history to and the margin of error around the sample mean could be quite large.\n",
    "\n",
    "The Fama—Macbeth methodology leverages the covariance of the factors with other assets to determine the factor premia. The second moment of asset returns is easier to estimate than the first moment, and obtaining more granular data improves estimation considerably, which is not true of mean estimation.\n"
   ]
  },
  {
   "cell_type": "markdown",
   "metadata": {},
   "source": [
    "### Step 1: Factor Exposures\n"
   ]
  },
  {
   "cell_type": "markdown",
   "metadata": {},
   "source": [
    "We can implement the first stage to obtain the 17 factor loading estimates as follows:\n"
   ]
  },
  {
   "cell_type": "code",
   "execution_count": 54,
   "metadata": {
    "ExecuteTime": {
     "end_time": "2021-04-15T19:55:20.643488Z",
     "start_time": "2021-04-15T19:55:20.539304Z"
    }
   },
   "outputs": [],
   "source": [
    "betas = []\n",
    "for industry in ff_portfolio_data:\n",
    "    step1 = OLS(\n",
    "        endog=ff_portfolio_data.loc[ff_factor_data.index, industry],\n",
    "        exog=add_constant(ff_factor_data),\n",
    "    ).fit()\n",
    "    betas.append(step1.params.drop(\"const\"))"
   ]
  },
  {
   "cell_type": "code",
   "execution_count": 55,
   "metadata": {
    "ExecuteTime": {
     "end_time": "2021-04-15T19:55:20.658189Z",
     "start_time": "2021-04-15T19:55:20.646568Z"
    }
   },
   "outputs": [
    {
     "name": "stdout",
     "output_type": "stream",
     "text": [
      "<class 'pandas.core.frame.DataFrame'>\n",
      "Index: 17 entries, Food  to Other\n",
      "Data columns (total 5 columns):\n",
      " #   Column  Non-Null Count  Dtype  \n",
      "---  ------  --------------  -----  \n",
      " 0   Mkt-RF  17 non-null     float64\n",
      " 1   SMB     17 non-null     float64\n",
      " 2   HML     17 non-null     float64\n",
      " 3   RMW     17 non-null     float64\n",
      " 4   CMA     17 non-null     float64\n",
      "dtypes: float64(5)\n",
      "memory usage: 1.3+ KB\n"
     ]
    }
   ],
   "source": [
    "betas = pd.DataFrame(\n",
    "    betas, columns=ff_factor_data.columns, index=ff_portfolio_data.columns\n",
    ")\n",
    "\n",
    "betas.info()"
   ]
  },
  {
   "cell_type": "markdown",
   "metadata": {},
   "source": [
    "### Step 2: Risk Premia\n"
   ]
  },
  {
   "cell_type": "markdown",
   "metadata": {},
   "source": [
    "For the second stage, we run 96 regressions of the period returns for the cross section of portfolios on the factor loadings\n"
   ]
  },
  {
   "cell_type": "code",
   "execution_count": 56,
   "metadata": {
    "ExecuteTime": {
     "end_time": "2021-04-15T19:55:20.759883Z",
     "start_time": "2021-04-15T19:55:20.659165Z"
    }
   },
   "outputs": [],
   "source": [
    "lambdas = []\n",
    "for period in ff_portfolio_data.index:\n",
    "    step2 = OLS(endog=ff_portfolio_data.loc[period, betas.index], exog=betas).fit()\n",
    "    lambdas.append(step2.params)"
   ]
  },
  {
   "cell_type": "code",
   "execution_count": 57,
   "metadata": {
    "ExecuteTime": {
     "end_time": "2021-04-15T19:55:20.780931Z",
     "start_time": "2021-04-15T19:55:20.760976Z"
    }
   },
   "outputs": [
    {
     "name": "stdout",
     "output_type": "stream",
     "text": [
      "<class 'pandas.core.frame.DataFrame'>\n",
      "PeriodIndex: 95 entries, 2010-02 to 2017-12\n",
      "Freq: M\n",
      "Data columns (total 5 columns):\n",
      " #   Column  Non-Null Count  Dtype  \n",
      "---  ------  --------------  -----  \n",
      " 0   Mkt-RF  95 non-null     float64\n",
      " 1   SMB     95 non-null     float64\n",
      " 2   HML     95 non-null     float64\n",
      " 3   RMW     95 non-null     float64\n",
      " 4   CMA     95 non-null     float64\n",
      "dtypes: float64(5)\n",
      "memory usage: 6.5 KB\n"
     ]
    }
   ],
   "source": [
    "lambdas = pd.DataFrame(\n",
    "    lambdas, index=ff_portfolio_data.index, columns=betas.columns.tolist()\n",
    ")\n",
    "\n",
    "lambdas.info()"
   ]
  },
  {
   "cell_type": "code",
   "execution_count": 58,
   "metadata": {
    "ExecuteTime": {
     "end_time": "2021-04-15T19:55:20.902217Z",
     "start_time": "2021-04-15T19:55:20.781976Z"
    }
   },
   "outputs": [
    {
     "data": {
      "image/png": "[encoded data removed]",
      "text/plain": [
       "<Figure size 1200x400 with 1 Axes>"
      ]
     },
     "metadata": {},
     "output_type": "display_data"
    }
   ],
   "source": [
    "lambdas.mean().sort_values().plot.barh(figsize=(12, 4))\n",
    "sns.despine()\n",
    "plt.tight_layout()\n",
    "plt.show()"
   ]
  },
  {
   "cell_type": "code",
   "execution_count": 59,
   "metadata": {
    "ExecuteTime": {
     "end_time": "2021-04-15T19:55:20.908357Z",
     "start_time": "2021-04-15T19:55:20.903193Z"
    }
   },
   "outputs": [
    {
     "data": {
      "text/plain": [
       "Mkt-RF    1.232239\n",
       "SMB      -0.014996\n",
       "HML      -1.080202\n",
       "RMW      -0.257129\n",
       "CMA      -0.519644\n",
       "dtype: float64"
      ]
     },
     "execution_count": 59,
     "metadata": {},
     "output_type": "execute_result"
    }
   ],
   "source": [
    "lambdas.mean()"
   ]
  },
  {
   "cell_type": "markdown",
   "metadata": {},
   "source": [
    "#### Results\n"
   ]
  },
  {
   "cell_type": "code",
   "execution_count": 60,
   "metadata": {
    "ExecuteTime": {
     "end_time": "2021-04-15T19:55:21.278124Z",
     "start_time": "2021-04-15T19:55:20.909336Z"
    },
    "scrolled": false
   },
   "outputs": [
    {
     "data": {
      "image/png": "[encoded data removed]",
      "text/plain": [
       "<Figure size 1400x500 with 2 Axes>"
      ]
     },
     "metadata": {},
     "output_type": "display_data"
    }
   ],
   "source": [
    "window = 24  # months\n",
    "ax1 = plt.subplot2grid((1, 3), (0, 0))\n",
    "ax2 = plt.subplot2grid((1, 3), (0, 1), colspan=2)\n",
    "lambdas.mean().sort_values().plot.barh(ax=ax1)\n",
    "lambdas.rolling(window).mean().dropna().plot(lw=1, figsize=(14, 5), sharey=True, ax=ax2)\n",
    "sns.despine()\n",
    "plt.tight_layout()\n",
    "plt.show()"
   ]
  },
  {
   "cell_type": "code",
   "execution_count": 61,
   "metadata": {
    "ExecuteTime": {
     "end_time": "2021-04-15T19:55:21.839217Z",
     "start_time": "2021-04-15T19:55:21.279210Z"
    }
   },
   "outputs": [
    {
     "data": {
      "image/png": "[encoded data removed]",
      "text/plain": [
       "<Figure size 1400x700 with 5 Axes>"
      ]
     },
     "metadata": {},
     "output_type": "display_data"
    }
   ],
   "source": [
    "window = 24  # months\n",
    "lambdas.rolling(window).mean().dropna().plot(\n",
    "    lw=2, figsize=(14, 7), subplots=True, sharey=True\n",
    ")\n",
    "sns.despine()\n",
    "plt.tight_layout()\n",
    "plt.show()"
   ]
  },
  {
   "cell_type": "markdown",
   "metadata": {},
   "source": [
    "## Fama-Macbeth with the LinearModels library\n"
   ]
  },
  {
   "cell_type": "markdown",
   "metadata": {},
   "source": [
    "The linear_models library extends statsmodels with various models for panel data and also implements the two-stage Fama—MacBeth procedure:\n"
   ]
  },
  {
   "cell_type": "code",
   "execution_count": 62,
   "metadata": {
    "ExecuteTime": {
     "end_time": "2021-04-15T19:55:21.859424Z",
     "start_time": "2021-04-15T19:55:21.840019Z"
    }
   },
   "outputs": [
    {
     "name": "stdout",
     "output_type": "stream",
     "text": [
      "                      LinearFactorModel Estimation Summary                      \n",
      "================================================================================\n",
      "No. Test Portfolios:                 17   R-squared:                      0.6897\n",
      "No. Factors:                          5   J-statistic:                    15.930\n",
      "No. Observations:                    95   P-value                         0.1944\n",
      "Date:                  Thu, Aug 15 2024   Distribution:                 chi2(12)\n",
      "Time:                          23:31:30                                         \n",
      "Cov. Estimator:                  robust                                         \n",
      "                                                                                \n",
      "                            Risk Premia Estimates                             \n",
      "==============================================================================\n",
      "            Parameter  Std. Err.     T-stat    P-value    Lower CI    Upper CI\n",
      "------------------------------------------------------------------------------\n",
      "Mkt-RF         1.2322     0.4067     3.0298     0.0024      0.4351      2.0294\n",
      "SMB           -0.0150     0.8667    -0.0173     0.9862     -1.7137      1.6837\n",
      "HML           -1.0802     0.6247    -1.7291     0.0838     -2.3046      0.1442\n",
      "RMW           -0.2571     0.8179    -0.3144     0.7532     -1.8602      1.3460\n",
      "CMA           -0.5196     0.5673    -0.9160     0.3597     -1.6315      0.5922\n",
      "==============================================================================\n",
      "\n",
      "Covariance estimator:\n",
      "HeteroskedasticCovariance\n",
      "See full_summary for complete results\n"
     ]
    }
   ],
   "source": [
    "mod = LinearFactorModel(portfolios=ff_portfolio_data, factors=ff_factor_data)\n",
    "res = mod.fit()\n",
    "print(res)"
   ]
  },
  {
   "cell_type": "code",
   "execution_count": 63,
   "metadata": {
    "ExecuteTime": {
     "end_time": "2021-04-15T19:55:21.921756Z",
     "start_time": "2021-04-15T19:55:21.861590Z"
    },
    "scrolled": false
   },
   "outputs": [
    {
     "name": "stdout",
     "output_type": "stream",
     "text": [
      "                      LinearFactorModel Estimation Summary                      \n",
      "================================================================================\n",
      "No. Test Portfolios:                 17   R-squared:                      0.6897\n",
      "No. Factors:                          5   J-statistic:                    15.930\n",
      "No. Observations:                    95   P-value                         0.1944\n",
      "Date:                  Thu, Aug 15 2024   Distribution:                 chi2(12)\n",
      "Time:                          23:31:30                                         \n",
      "Cov. Estimator:                  robust                                         \n",
      "                                                                                \n",
      "                            Risk Premia Estimates                             \n",
      "==============================================================================\n",
      "            Parameter  Std. Err.     T-stat    P-value    Lower CI    Upper CI\n",
      "------------------------------------------------------------------------------\n",
      "Mkt-RF         1.2322     0.4067     3.0298     0.0024      0.4351      2.0294\n",
      "SMB           -0.0150     0.8667    -0.0173     0.9862     -1.7137      1.6837\n",
      "HML           -1.0802     0.6247    -1.7291     0.0838     -2.3046      0.1442\n",
      "RMW           -0.2571     0.8179    -0.3144     0.7532     -1.8602      1.3460\n",
      "CMA           -0.5196     0.5673    -0.9160     0.3597     -1.6315      0.5922\n",
      "\n",
      "\n",
      "                              Food  Coefficients                              \n",
      "==============================================================================\n",
      "            Parameter  Std. Err.     T-stat    P-value    Lower CI    Upper CI\n",
      "------------------------------------------------------------------------------\n",
      "alpha          0.1603     0.2561     0.6261     0.5312     -0.3416      0.6623\n",
      "Mkt-RF         0.6879     0.0474     14.526     0.0000      0.5951      0.7808\n",
      "SMB           -0.3109     0.1154    -2.6928     0.0071     -0.5371     -0.0846\n",
      "HML           -0.3503     0.1370    -2.5566     0.0106     -0.6189     -0.0817\n",
      "RMW            0.3106     0.1283     2.4203     0.0155      0.0591      0.5622\n",
      "CMA            0.4663     0.1602     2.9112     0.0036      0.1524      0.7802\n",
      "\n",
      "\n",
      "                              Mines Coefficients                              \n",
      "==============================================================================\n",
      "alpha         -0.6808     0.5273    -1.2910     0.1967     -1.7143      0.3527\n",
      "Mkt-RF         1.3124     0.1972     6.6565     0.0000      0.9260      1.6988\n",
      "SMB            0.1908     0.3384     0.5638     0.5729     -0.4724      0.8540\n",
      "HML            0.2143     0.3328     0.6439     0.5196     -0.4380      0.8667\n",
      "RMW            0.2302     0.4412     0.5217     0.6019     -0.6345      1.0949\n",
      "CMA            0.5667     0.5567     1.0179     0.3087     -0.5244      1.6577\n",
      "\n",
      "\n",
      "                              Oil   Coefficients                              \n",
      "==============================================================================\n",
      "alpha          0.2463     0.3481     0.7077     0.4791     -0.4359      0.9285\n",
      "Mkt-RF         1.0356     0.1016     10.193     0.0000      0.8365      1.2347\n",
      "SMB            0.1702     0.1900     0.8959     0.3703     -0.2021      0.5425\n",
      "HML            0.6534     0.2036     3.2091     0.0013      0.2543      1.0524\n",
      "RMW           -0.0075     0.2327    -0.0324     0.9742     -0.4637      0.4486\n",
      "CMA            0.3165     0.2821     1.1220     0.2619     -0.2364      0.8693\n",
      "\n",
      "\n",
      "                              Clths Coefficients                              \n",
      "==============================================================================\n",
      "alpha          0.2340     0.3417     0.6849     0.4934     -0.4357      0.9038\n",
      "Mkt-RF         0.9790     0.1206     8.1159     0.0000      0.7426      1.2154\n",
      "SMB            0.3772     0.1950     1.9345     0.0531     -0.0050      0.7594\n",
      "HML           -0.1540     0.2083    -0.7390     0.4599     -0.5623      0.2544\n",
      "RMW            0.6434     0.2638     2.4392     0.0147      0.1264      1.1604\n",
      "CMA           -0.0016     0.3074    -0.0053     0.9958     -0.6042      0.6009\n",
      "\n",
      "\n",
      "                              Durbl Coefficients                              \n",
      "==============================================================================\n",
      "alpha         -0.1159     0.3107    -0.3730     0.7091     -0.7248      0.4930\n",
      "Mkt-RF         1.1755     0.0844     13.927     0.0000      1.0101      1.3409\n",
      "SMB            0.6097     0.1203     5.0681     0.0000      0.3739      0.8455\n",
      "HML            0.0472     0.1509     0.3127     0.7545     -0.2486      0.3430\n",
      "RMW            0.5678     0.1980     2.8685     0.0041      0.1798      0.9558\n",
      "CMA           -0.1235     0.2679    -0.4609     0.6449     -0.6485      0.4016\n",
      "\n",
      "\n",
      "                              Chems Coefficients                              \n",
      "==============================================================================\n",
      "alpha         -0.1494     0.3233    -0.4622     0.6439     -0.7830      0.4841\n",
      "Mkt-RF         1.3510     0.1050     12.864     0.0000      1.1451      1.5568\n",
      "SMB            0.1683     0.1472     1.1436     0.2528     -0.1201      0.4567\n",
      "HML            0.1857     0.1471     1.2625     0.2068     -0.1026      0.4739\n",
      "RMW            0.1419     0.1913     0.7416     0.4583     -0.2331      0.5169\n",
      "CMA           -0.2144     0.2581    -0.8307     0.4061     -0.7202      0.2914\n",
      "\n",
      "\n",
      "                              Cnsum Coefficients                              \n",
      "==============================================================================\n",
      "alpha         -0.0408     0.3680    -0.1108     0.9118     -0.7620      0.6805\n",
      "Mkt-RF         0.7555     0.0581     13.006     0.0000      0.6417      0.8694\n",
      "SMB           -0.3401     0.1027    -3.3127     0.0009     -0.5413     -0.1389\n",
      "HML           -0.5543     0.1203    -4.6071     0.0000     -0.7901     -0.3185\n",
      "RMW           -0.0590     0.1355    -0.4357     0.6630     -0.3246      0.2065\n",
      "CMA            0.5825     0.2190     2.6593     0.0078      0.1532      1.0118\n",
      "\n",
      "\n",
      "                              Cnstr Coefficients                              \n",
      "==============================================================================\n",
      "alpha          0.5859     0.4279     1.3694     0.1709     -0.2527      1.4245\n",
      "Mkt-RF         1.1189     0.0823     13.594     0.0000      0.9576      1.2802\n",
      "SMB            0.4283     0.1335     3.2087     0.0013      0.1667      0.6899\n",
      "HML            0.0871     0.1894     0.4601     0.6455     -0.2840      0.4582\n",
      "RMW           -0.0200     0.2201    -0.0909     0.9276     -0.4514      0.4114\n",
      "CMA            0.1665     0.2387     0.6975     0.4855     -0.3014      0.6344\n",
      "\n",
      "\n",
      "                              Steel Coefficients                              \n",
      "==============================================================================\n",
      "alpha         -0.3975     0.4171    -0.9529     0.3407     -1.2150      0.4201\n",
      "Mkt-RF         1.4754     0.1371     10.759     0.0000      1.2066      1.7442\n",
      "SMB            0.4171     0.2584     1.6144     0.1064     -0.0893      0.9236\n",
      "HML            0.4239     0.2638     1.6072     0.1080     -0.0930      0.9409\n",
      "RMW            0.2047     0.3401     0.6020     0.5472     -0.4618      0.8713\n",
      "CMA            0.4447     0.4187     1.0621     0.2882     -0.3760      1.2654\n",
      "\n",
      "\n",
      "                              FabPr Coefficients                              \n",
      "==============================================================================\n",
      "alpha          0.1821     0.2977     0.6117     0.5408     -0.4014      0.7656\n",
      "Mkt-RF         1.0719     0.0750     14.291     0.0000      0.9249      1.2189\n",
      "SMB            0.4618     0.0993     4.6514     0.0000      0.2672      0.6564\n",
      "HML           -0.0366     0.1135    -0.3228     0.7469     -0.2590      0.1858\n",
      "RMW            0.1637     0.1462     1.1196     0.2629     -0.1229      0.4502\n",
      "CMA            0.1895     0.1919     0.9870     0.3236     -0.1867      0.5656\n",
      "\n",
      "\n",
      "                              Machn Coefficients                              \n",
      "==============================================================================\n",
      "alpha         -0.2958     0.2745    -1.0777     0.2811     -0.8338      0.2421\n",
      "Mkt-RF         1.1891     0.0580     20.501     0.0000      1.0755      1.3028\n",
      "SMB            0.1757     0.1061     1.6560     0.0977     -0.0322      0.3836\n",
      "HML            0.0321     0.1049     0.3059     0.7597     -0.1735      0.2376\n",
      "RMW            0.0522     0.1589     0.3286     0.7425     -0.2593      0.3637\n",
      "CMA           -0.3668     0.1761    -2.0830     0.0372     -0.7119     -0.0217\n",
      "\n",
      "\n",
      "                              Cars  Coefficients                              \n",
      "==============================================================================\n",
      "alpha         -0.1481     0.3979    -0.3721     0.7098     -0.9279      0.6318\n",
      "Mkt-RF         1.2016     0.0999     12.023     0.0000      1.0057      1.3975\n",
      "SMB            0.5929     0.1324     4.4775     0.0000      0.3334      0.8525\n",
      "HML            0.0289     0.1752     0.1649     0.8690     -0.3146      0.3724\n",
      "RMW            0.0380     0.2202     0.1724     0.8631     -0.3937      0.4696\n",
      "CMA           -0.0179     0.3049    -0.0587     0.9532     -0.6154      0.5796\n",
      "\n",
      "\n",
      "                              Trans Coefficients                              \n",
      "==============================================================================\n",
      "alpha          0.4972     0.3217     1.5459     0.1221     -0.1332      1.1277\n",
      "Mkt-RF         1.0229     0.0507     20.168     0.0000      0.9235      1.1223\n",
      "SMB            0.2675     0.1054     2.5390     0.0111      0.0610      0.4740\n",
      "HML           -0.0062     0.1231    -0.0506     0.9597     -0.2475      0.2350\n",
      "RMW            0.3830     0.1634     2.3441     0.0191      0.0628      0.7032\n",
      "CMA            0.2968     0.2018     1.4708     0.1413     -0.0987      0.6923\n",
      "\n",
      "\n",
      "                              Utils Coefficients                              \n",
      "==============================================================================\n",
      "alpha          0.3596     0.3100     1.1601     0.2460     -0.2479      0.9672\n",
      "Mkt-RF         0.4996     0.0903     5.5317     0.0000      0.3226      0.6767\n",
      "SMB           -0.2513     0.1548    -1.6232     0.1045     -0.5548      0.0521\n",
      "HML           -0.2925     0.1770    -1.6529     0.0984     -0.6395      0.0544\n",
      "RMW            0.2301     0.1934     1.1901     0.2340     -0.1489      0.6091\n",
      "CMA            0.5494     0.2995     1.8346     0.0666     -0.0376      1.1364\n",
      "\n",
      "\n",
      "                              Rtail Coefficients                              \n",
      "==============================================================================\n",
      "alpha          0.0261     0.2755     0.0946     0.9246     -0.5139      0.5660\n",
      "Mkt-RF         0.9058     0.0701     12.912     0.0000      0.7683      1.0432\n",
      "SMB            0.1331     0.0998     1.3331     0.1825     -0.0626      0.3287\n",
      "HML           -0.3761     0.1321    -2.8473     0.0044     -0.6349     -0.1172\n",
      "RMW            0.6938     0.1620     4.2814     0.0000      0.3762      1.0114\n",
      "CMA            0.1943     0.1764     1.1012     0.2708     -0.1515      0.5400\n",
      "\n",
      "\n",
      "                              Finan Coefficients                              \n",
      "==============================================================================\n",
      "alpha          0.3991     0.3760     1.0612     0.2886     -0.3379      1.1361\n",
      "Mkt-RF         1.0551     0.0442     23.876     0.0000      0.9685      1.1417\n",
      "SMB            0.0815     0.0894     0.9118     0.3619     -0.0937      0.2568\n",
      "HML            0.7652     0.0912     8.3904     0.0000      0.5865      0.9440\n",
      "RMW           -0.4581     0.1095    -4.1833     0.0000     -0.6728     -0.2435\n",
      "CMA           -0.5352     0.1160    -4.6148     0.0000     -0.7625     -0.3079\n",
      "\n",
      "\n",
      "                              Other Coefficients                              \n",
      "==============================================================================\n",
      "alpha         -0.1935     0.2270    -0.8523     0.3941     -0.6384      0.2515\n",
      "Mkt-RF         1.0327     0.0242     42.645     0.0000      0.9853      1.0802\n",
      "SMB           -0.1208     0.0392    -3.0773     0.0021     -0.1977     -0.0438\n",
      "HML           -0.1985     0.0348    -5.7076     0.0000     -0.2667     -0.1304\n",
      "RMW           -0.0964     0.0618    -1.5609     0.1185     -0.2175      0.0247\n",
      "CMA           -0.0400     0.0623    -0.6426     0.5205     -0.1621      0.0820\n",
      "==============================================================================\n",
      "\n",
      "Covariance estimator:\n",
      "HeteroskedasticCovariance\n",
      "See full_summary for complete results\n"
     ]
    }
   ],
   "source": [
    "print(res.full_summary)"
   ]
  },
  {
   "cell_type": "markdown",
   "metadata": {},
   "source": [
    "This provides us with the same result:\n"
   ]
  },
  {
   "cell_type": "code",
   "execution_count": 64,
   "metadata": {
    "ExecuteTime": {
     "end_time": "2021-04-15T19:55:21.926652Z",
     "start_time": "2021-04-15T19:55:21.922840Z"
    }
   },
   "outputs": [
    {
     "data": {
      "text/plain": [
       "Mkt-RF    1.232239\n",
       "SMB      -0.014996\n",
       "HML      -1.080202\n",
       "RMW      -0.257129\n",
       "CMA      -0.519644\n",
       "dtype: float64"
      ]
     },
     "execution_count": 64,
     "metadata": {},
     "output_type": "execute_result"
    }
   ],
   "source": [
    "lambdas.mean()"
   ]
  },
  {
   "cell_type": "code",
   "execution_count": null,
   "metadata": {},
   "outputs": [],
   "source": []
  }
 ],
 "metadata": {
  "kernelspec": {
   "display_name": "Python 3",
   "language": "python",
   "name": "python3"
  },
  "language_info": {
   "codemirror_mode": {
    "name": "ipython",
    "version": 3
   },
   "file_extension": ".py",
   "mimetype": "text/x-python",
   "name": "python",
   "nbconvert_exporter": "python",
   "pygments_lexer": "ipython3",
   "version": "3.11.9"
  },
  "toc": {
   "base_numbering": 1,
   "nav_menu": {},
   "number_sections": true,
   "sideBar": true,
   "skip_h1_title": true,
   "title_cell": "Table of Contents",
   "title_sidebar": "Contents",
   "toc_cell": false,
   "toc_position": {},
   "toc_section_display": true,
   "toc_window_display": true
  }
 },
 "nbformat": 4,
 "nbformat_minor": 2
}
