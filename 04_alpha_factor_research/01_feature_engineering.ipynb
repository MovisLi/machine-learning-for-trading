{
 "cells": [
  {
   "cell_type": "markdown",
   "metadata": {},
   "source": [
    "# How to transform data into factors\n"
   ]
  },
  {
   "cell_type": "markdown",
   "metadata": {},
   "source": [
    "Based on a conceptual understanding of key factor categories, their rationale and popular metrics, a key task is to identify new factors that may better capture the risks embodied by the return drivers laid out previously, or to find new ones.\n",
    "\n",
    "In either case, it will be important to compare the performance of innovative factors to that of known factors to identify incremental signal gains.\n"
   ]
  },
  {
   "cell_type": "markdown",
   "metadata": {},
   "source": [
    "We create the dataset here and store it in our [data](../data) folder to facilitate reuse in later chapters.\n"
   ]
  },
  {
   "cell_type": "markdown",
   "metadata": {},
   "source": [
    "## Imports & Settings\n"
   ]
  },
  {
   "cell_type": "code",
   "execution_count": 1,
   "metadata": {
    "ExecuteTime": {
     "end_time": "2021-04-15T19:41:03.495850Z",
     "start_time": "2021-04-15T19:41:03.491885Z"
    }
   },
   "outputs": [],
   "source": [
    "import warnings\n",
    "\n",
    "warnings.filterwarnings(\"ignore\")"
   ]
  },
  {
   "cell_type": "code",
   "execution_count": 2,
   "metadata": {
    "ExecuteTime": {
     "end_time": "2021-04-15T19:41:04.376337Z",
     "start_time": "2021-04-15T19:41:03.779408Z"
    }
   },
   "outputs": [],
   "source": [
    "%matplotlib inline\n",
    "\n",
    "from datetime import datetime\n",
    "import pandas as pd\n",
    "import pandas_datareader.data as web\n",
    "\n",
    "# replaces pyfinance.ols.PandasRollingOLS (no longer maintained)\n",
    "from statsmodels.regression.rolling import RollingOLS\n",
    "import statsmodels.api as sm\n",
    "\n",
    "import matplotlib.pyplot as plt\n",
    "import seaborn as sns"
   ]
  },
  {
   "cell_type": "code",
   "execution_count": 3,
   "metadata": {
    "ExecuteTime": {
     "end_time": "2021-04-15T19:41:04.513447Z",
     "start_time": "2021-04-15T19:41:04.510049Z"
    }
   },
   "outputs": [],
   "source": [
    "sns.set_style(\"whitegrid\")\n",
    "idx = pd.IndexSlice"
   ]
  },
  {
   "cell_type": "markdown",
   "metadata": {},
   "source": [
    "## Get Data\n"
   ]
  },
  {
   "cell_type": "markdown",
   "metadata": {},
   "source": [
    "The `assets.h5` store can be generated using the the notebook [create_datasets](../data/create_datasets.ipynb) in the [data](../data) directory in the root directory of this repo for instruction to download the following dataset.\n"
   ]
  },
  {
   "cell_type": "markdown",
   "metadata": {},
   "source": [
    "We load the Quandl stock price datasets covering the US equity markets 2000-18 using `pd.IndexSlice` to perform a slice operation on the `pd.MultiIndex`, select the adjusted close price and unpivot the column to convert the DataFrame to wide format with tickers in the columns and timestamps in the rows:\n"
   ]
  },
  {
   "cell_type": "markdown",
   "metadata": {},
   "source": [
    "Set data store location:\n"
   ]
  },
  {
   "cell_type": "code",
   "execution_count": 4,
   "metadata": {
    "ExecuteTime": {
     "end_time": "2021-04-15T19:42:15.894855Z",
     "start_time": "2021-04-15T19:42:15.892460Z"
    }
   },
   "outputs": [],
   "source": [
    "DATA_STORE = \"../data/assets.h5\""
   ]
  },
  {
   "cell_type": "code",
   "execution_count": 5,
   "metadata": {
    "ExecuteTime": {
     "end_time": "2021-04-15T19:42:15.908751Z",
     "start_time": "2021-04-15T19:42:15.898676Z"
    }
   },
   "outputs": [],
   "source": [
    "START = 2000\n",
    "END = 2018"
   ]
  },
  {
   "cell_type": "code",
   "execution_count": 6,
   "metadata": {
    "ExecuteTime": {
     "end_time": "2021-04-15T19:42:22.923496Z",
     "start_time": "2021-04-15T19:42:15.909916Z"
    }
   },
   "outputs": [],
   "source": [
    "with pd.HDFStore(DATA_STORE) as store:\n",
    "    prices = (\n",
    "        store[\"quandl/wiki/prices\"]\n",
    "        .loc[idx[str(START) : str(END), :], \"adj_close\"]\n",
    "        .unstack(\"ticker\")\n",
    "    )\n",
    "    stocks = store[\"us_equities/stocks\"].loc[:, [\"marketcap\", \"ipoyear\", \"sector\"]]"
   ]
  },
  {
   "cell_type": "code",
   "execution_count": 7,
   "metadata": {
    "ExecuteTime": {
     "end_time": "2021-04-15T19:42:23.001008Z",
     "start_time": "2021-04-15T19:42:22.924508Z"
    }
   },
   "outputs": [
    {
     "data": {
      "text/html": [
       "<div>\n",
       "<style scoped>\n",
       "    .dataframe tbody tr th:only-of-type {\n",
       "        vertical-align: middle;\n",
       "    }\n",
       "\n",
       "    .dataframe tbody tr th {\n",
       "        vertical-align: top;\n",
       "    }\n",
       "\n",
       "    .dataframe thead th {\n",
       "        text-align: right;\n",
       "    }\n",
       "</style>\n",
       "<table border=\"1\" class=\"dataframe\">\n",
       "  <thead>\n",
       "    <tr style=\"text-align: right;\">\n",
       "      <th>ticker</th>\n",
       "      <th>A</th>\n",
       "      <th>AA</th>\n",
       "      <th>AAL</th>\n",
       "      <th>AAMC</th>\n",
       "      <th>AAN</th>\n",
       "      <th>AAOI</th>\n",
       "      <th>AAON</th>\n",
       "      <th>AAP</th>\n",
       "      <th>AAPL</th>\n",
       "      <th>AAT</th>\n",
       "      <th>...</th>\n",
       "      <th>ZIOP</th>\n",
       "      <th>ZIXI</th>\n",
       "      <th>ZLC</th>\n",
       "      <th>ZLTQ</th>\n",
       "      <th>ZMH</th>\n",
       "      <th>ZNGA</th>\n",
       "      <th>ZOES</th>\n",
       "      <th>ZQK</th>\n",
       "      <th>ZTS</th>\n",
       "      <th>ZUMZ</th>\n",
       "    </tr>\n",
       "    <tr>\n",
       "      <th>date</th>\n",
       "      <th></th>\n",
       "      <th></th>\n",
       "      <th></th>\n",
       "      <th></th>\n",
       "      <th></th>\n",
       "      <th></th>\n",
       "      <th></th>\n",
       "      <th></th>\n",
       "      <th></th>\n",
       "      <th></th>\n",
       "      <th></th>\n",
       "      <th></th>\n",
       "      <th></th>\n",
       "      <th></th>\n",
       "      <th></th>\n",
       "      <th></th>\n",
       "      <th></th>\n",
       "      <th></th>\n",
       "      <th></th>\n",
       "      <th></th>\n",
       "      <th></th>\n",
       "    </tr>\n",
       "  </thead>\n",
       "  <tbody>\n",
       "    <tr>\n",
       "      <th>2000-01-03</th>\n",
       "      <td>49.121329</td>\n",
       "      <td>NaN</td>\n",
       "      <td>NaN</td>\n",
       "      <td>NaN</td>\n",
       "      <td>4.975857</td>\n",
       "      <td>NaN</td>\n",
       "      <td>1.025920</td>\n",
       "      <td>NaN</td>\n",
       "      <td>3.596463</td>\n",
       "      <td>NaN</td>\n",
       "      <td>...</td>\n",
       "      <td>NaN</td>\n",
       "      <td>37.06</td>\n",
       "      <td>23.5</td>\n",
       "      <td>NaN</td>\n",
       "      <td>NaN</td>\n",
       "      <td>NaN</td>\n",
       "      <td>NaN</td>\n",
       "      <td>3.7025</td>\n",
       "      <td>NaN</td>\n",
       "      <td>NaN</td>\n",
       "    </tr>\n",
       "    <tr>\n",
       "      <th>2000-01-04</th>\n",
       "      <td>45.369006</td>\n",
       "      <td>NaN</td>\n",
       "      <td>NaN</td>\n",
       "      <td>NaN</td>\n",
       "      <td>4.958913</td>\n",
       "      <td>NaN</td>\n",
       "      <td>1.068476</td>\n",
       "      <td>NaN</td>\n",
       "      <td>3.293170</td>\n",
       "      <td>NaN</td>\n",
       "      <td>...</td>\n",
       "      <td>NaN</td>\n",
       "      <td>36.50</td>\n",
       "      <td>22.5</td>\n",
       "      <td>NaN</td>\n",
       "      <td>NaN</td>\n",
       "      <td>NaN</td>\n",
       "      <td>NaN</td>\n",
       "      <td>3.5475</td>\n",
       "      <td>NaN</td>\n",
       "      <td>NaN</td>\n",
       "    </tr>\n",
       "    <tr>\n",
       "      <th>2000-01-05</th>\n",
       "      <td>41.998737</td>\n",
       "      <td>NaN</td>\n",
       "      <td>NaN</td>\n",
       "      <td>NaN</td>\n",
       "      <td>4.958913</td>\n",
       "      <td>NaN</td>\n",
       "      <td>1.073796</td>\n",
       "      <td>NaN</td>\n",
       "      <td>3.341362</td>\n",
       "      <td>NaN</td>\n",
       "      <td>...</td>\n",
       "      <td>NaN</td>\n",
       "      <td>37.13</td>\n",
       "      <td>23.0</td>\n",
       "      <td>NaN</td>\n",
       "      <td>NaN</td>\n",
       "      <td>NaN</td>\n",
       "      <td>NaN</td>\n",
       "      <td>3.4850</td>\n",
       "      <td>NaN</td>\n",
       "      <td>NaN</td>\n",
       "    </tr>\n",
       "    <tr>\n",
       "      <th>2000-01-06</th>\n",
       "      <td>40.934441</td>\n",
       "      <td>NaN</td>\n",
       "      <td>NaN</td>\n",
       "      <td>NaN</td>\n",
       "      <td>4.958913</td>\n",
       "      <td>NaN</td>\n",
       "      <td>1.082915</td>\n",
       "      <td>NaN</td>\n",
       "      <td>3.052206</td>\n",
       "      <td>NaN</td>\n",
       "      <td>...</td>\n",
       "      <td>NaN</td>\n",
       "      <td>35.25</td>\n",
       "      <td>22.0</td>\n",
       "      <td>NaN</td>\n",
       "      <td>NaN</td>\n",
       "      <td>NaN</td>\n",
       "      <td>NaN</td>\n",
       "      <td>3.4850</td>\n",
       "      <td>NaN</td>\n",
       "      <td>NaN</td>\n",
       "    </tr>\n",
       "    <tr>\n",
       "      <th>2000-01-07</th>\n",
       "      <td>44.345645</td>\n",
       "      <td>NaN</td>\n",
       "      <td>NaN</td>\n",
       "      <td>NaN</td>\n",
       "      <td>4.958913</td>\n",
       "      <td>NaN</td>\n",
       "      <td>1.044918</td>\n",
       "      <td>NaN</td>\n",
       "      <td>3.196784</td>\n",
       "      <td>NaN</td>\n",
       "      <td>...</td>\n",
       "      <td>NaN</td>\n",
       "      <td>38.00</td>\n",
       "      <td>21.5</td>\n",
       "      <td>NaN</td>\n",
       "      <td>NaN</td>\n",
       "      <td>NaN</td>\n",
       "      <td>NaN</td>\n",
       "      <td>3.4850</td>\n",
       "      <td>NaN</td>\n",
       "      <td>NaN</td>\n",
       "    </tr>\n",
       "    <tr>\n",
       "      <th>...</th>\n",
       "      <td>...</td>\n",
       "      <td>...</td>\n",
       "      <td>...</td>\n",
       "      <td>...</td>\n",
       "      <td>...</td>\n",
       "      <td>...</td>\n",
       "      <td>...</td>\n",
       "      <td>...</td>\n",
       "      <td>...</td>\n",
       "      <td>...</td>\n",
       "      <td>...</td>\n",
       "      <td>...</td>\n",
       "      <td>...</td>\n",
       "      <td>...</td>\n",
       "      <td>...</td>\n",
       "      <td>...</td>\n",
       "      <td>...</td>\n",
       "      <td>...</td>\n",
       "      <td>...</td>\n",
       "      <td>...</td>\n",
       "      <td>...</td>\n",
       "    </tr>\n",
       "    <tr>\n",
       "      <th>2018-03-21</th>\n",
       "      <td>69.400000</td>\n",
       "      <td>47.95</td>\n",
       "      <td>54.09</td>\n",
       "      <td>60.80</td>\n",
       "      <td>47.370000</td>\n",
       "      <td>26.71</td>\n",
       "      <td>39.050000</td>\n",
       "      <td>115.24</td>\n",
       "      <td>171.270000</td>\n",
       "      <td>32.46</td>\n",
       "      <td>...</td>\n",
       "      <td>4.28</td>\n",
       "      <td>4.53</td>\n",
       "      <td>NaN</td>\n",
       "      <td>NaN</td>\n",
       "      <td>NaN</td>\n",
       "      <td>3.94</td>\n",
       "      <td>15.66</td>\n",
       "      <td>NaN</td>\n",
       "      <td>84.10</td>\n",
       "      <td>23.95</td>\n",
       "    </tr>\n",
       "    <tr>\n",
       "      <th>2018-03-22</th>\n",
       "      <td>67.470000</td>\n",
       "      <td>44.92</td>\n",
       "      <td>52.31</td>\n",
       "      <td>60.18</td>\n",
       "      <td>45.940000</td>\n",
       "      <td>25.96</td>\n",
       "      <td>38.550000</td>\n",
       "      <td>111.71</td>\n",
       "      <td>168.845000</td>\n",
       "      <td>32.52</td>\n",
       "      <td>...</td>\n",
       "      <td>4.19</td>\n",
       "      <td>4.52</td>\n",
       "      <td>NaN</td>\n",
       "      <td>NaN</td>\n",
       "      <td>NaN</td>\n",
       "      <td>3.81</td>\n",
       "      <td>15.27</td>\n",
       "      <td>NaN</td>\n",
       "      <td>82.06</td>\n",
       "      <td>23.35</td>\n",
       "    </tr>\n",
       "    <tr>\n",
       "      <th>2018-03-23</th>\n",
       "      <td>66.060000</td>\n",
       "      <td>44.71</td>\n",
       "      <td>51.01</td>\n",
       "      <td>58.35</td>\n",
       "      <td>45.300000</td>\n",
       "      <td>25.36</td>\n",
       "      <td>37.200000</td>\n",
       "      <td>110.84</td>\n",
       "      <td>164.940000</td>\n",
       "      <td>31.78</td>\n",
       "      <td>...</td>\n",
       "      <td>4.05</td>\n",
       "      <td>4.40</td>\n",
       "      <td>NaN</td>\n",
       "      <td>NaN</td>\n",
       "      <td>NaN</td>\n",
       "      <td>3.80</td>\n",
       "      <td>15.12</td>\n",
       "      <td>NaN</td>\n",
       "      <td>80.60</td>\n",
       "      <td>23.55</td>\n",
       "    </tr>\n",
       "    <tr>\n",
       "      <th>2018-03-26</th>\n",
       "      <td>68.200000</td>\n",
       "      <td>45.77</td>\n",
       "      <td>51.86</td>\n",
       "      <td>58.60</td>\n",
       "      <td>46.230000</td>\n",
       "      <td>24.53</td>\n",
       "      <td>37.950000</td>\n",
       "      <td>114.77</td>\n",
       "      <td>172.770000</td>\n",
       "      <td>32.22</td>\n",
       "      <td>...</td>\n",
       "      <td>4.27</td>\n",
       "      <td>4.42</td>\n",
       "      <td>NaN</td>\n",
       "      <td>NaN</td>\n",
       "      <td>NaN</td>\n",
       "      <td>3.85</td>\n",
       "      <td>15.10</td>\n",
       "      <td>NaN</td>\n",
       "      <td>83.73</td>\n",
       "      <td>24.65</td>\n",
       "    </tr>\n",
       "    <tr>\n",
       "      <th>2018-03-27</th>\n",
       "      <td>67.000000</td>\n",
       "      <td>44.90</td>\n",
       "      <td>50.90</td>\n",
       "      <td>65.25</td>\n",
       "      <td>45.420000</td>\n",
       "      <td>24.60</td>\n",
       "      <td>38.000000</td>\n",
       "      <td>115.01</td>\n",
       "      <td>168.340000</td>\n",
       "      <td>32.75</td>\n",
       "      <td>...</td>\n",
       "      <td>4.05</td>\n",
       "      <td>4.39</td>\n",
       "      <td>NaN</td>\n",
       "      <td>NaN</td>\n",
       "      <td>NaN</td>\n",
       "      <td>3.70</td>\n",
       "      <td>14.88</td>\n",
       "      <td>NaN</td>\n",
       "      <td>81.86</td>\n",
       "      <td>23.60</td>\n",
       "    </tr>\n",
       "  </tbody>\n",
       "</table>\n",
       "<p>4706 rows × 3199 columns</p>\n",
       "</div>"
      ],
      "text/plain": [
       "ticker              A     AA    AAL   AAMC        AAN   AAOI       AAON  \\\n",
       "date                                                                      \n",
       "2000-01-03  49.121329    NaN    NaN    NaN   4.975857    NaN   1.025920   \n",
       "2000-01-04  45.369006    NaN    NaN    NaN   4.958913    NaN   1.068476   \n",
       "2000-01-05  41.998737    NaN    NaN    NaN   4.958913    NaN   1.073796   \n",
       "2000-01-06  40.934441    NaN    NaN    NaN   4.958913    NaN   1.082915   \n",
       "2000-01-07  44.345645    NaN    NaN    NaN   4.958913    NaN   1.044918   \n",
       "...               ...    ...    ...    ...        ...    ...        ...   \n",
       "2018-03-21  69.400000  47.95  54.09  60.80  47.370000  26.71  39.050000   \n",
       "2018-03-22  67.470000  44.92  52.31  60.18  45.940000  25.96  38.550000   \n",
       "2018-03-23  66.060000  44.71  51.01  58.35  45.300000  25.36  37.200000   \n",
       "2018-03-26  68.200000  45.77  51.86  58.60  46.230000  24.53  37.950000   \n",
       "2018-03-27  67.000000  44.90  50.90  65.25  45.420000  24.60  38.000000   \n",
       "\n",
       "ticker         AAP        AAPL    AAT  ...  ZIOP   ZIXI   ZLC  ZLTQ  ZMH  \\\n",
       "date                                   ...                                 \n",
       "2000-01-03     NaN    3.596463    NaN  ...   NaN  37.06  23.5   NaN  NaN   \n",
       "2000-01-04     NaN    3.293170    NaN  ...   NaN  36.50  22.5   NaN  NaN   \n",
       "2000-01-05     NaN    3.341362    NaN  ...   NaN  37.13  23.0   NaN  NaN   \n",
       "2000-01-06     NaN    3.052206    NaN  ...   NaN  35.25  22.0   NaN  NaN   \n",
       "2000-01-07     NaN    3.196784    NaN  ...   NaN  38.00  21.5   NaN  NaN   \n",
       "...            ...         ...    ...  ...   ...    ...   ...   ...  ...   \n",
       "2018-03-21  115.24  171.270000  32.46  ...  4.28   4.53   NaN   NaN  NaN   \n",
       "2018-03-22  111.71  168.845000  32.52  ...  4.19   4.52   NaN   NaN  NaN   \n",
       "2018-03-23  110.84  164.940000  31.78  ...  4.05   4.40   NaN   NaN  NaN   \n",
       "2018-03-26  114.77  172.770000  32.22  ...  4.27   4.42   NaN   NaN  NaN   \n",
       "2018-03-27  115.01  168.340000  32.75  ...  4.05   4.39   NaN   NaN  NaN   \n",
       "\n",
       "ticker      ZNGA   ZOES     ZQK    ZTS   ZUMZ  \n",
       "date                                           \n",
       "2000-01-03   NaN    NaN  3.7025    NaN    NaN  \n",
       "2000-01-04   NaN    NaN  3.5475    NaN    NaN  \n",
       "2000-01-05   NaN    NaN  3.4850    NaN    NaN  \n",
       "2000-01-06   NaN    NaN  3.4850    NaN    NaN  \n",
       "2000-01-07   NaN    NaN  3.4850    NaN    NaN  \n",
       "...          ...    ...     ...    ...    ...  \n",
       "2018-03-21  3.94  15.66     NaN  84.10  23.95  \n",
       "2018-03-22  3.81  15.27     NaN  82.06  23.35  \n",
       "2018-03-23  3.80  15.12     NaN  80.60  23.55  \n",
       "2018-03-26  3.85  15.10     NaN  83.73  24.65  \n",
       "2018-03-27  3.70  14.88     NaN  81.86  23.60  \n",
       "\n",
       "[4706 rows x 3199 columns]"
      ]
     },
     "execution_count": 7,
     "metadata": {},
     "output_type": "execute_result"
    }
   ],
   "source": [
    "prices"
   ]
  },
  {
   "cell_type": "code",
   "execution_count": 8,
   "metadata": {
    "ExecuteTime": {
     "end_time": "2021-04-15T19:42:23.008893Z",
     "start_time": "2021-04-15T19:42:23.002047Z"
    }
   },
   "outputs": [
    {
     "data": {
      "text/html": [
       "<div>\n",
       "<style scoped>\n",
       "    .dataframe tbody tr th:only-of-type {\n",
       "        vertical-align: middle;\n",
       "    }\n",
       "\n",
       "    .dataframe tbody tr th {\n",
       "        vertical-align: top;\n",
       "    }\n",
       "\n",
       "    .dataframe thead th {\n",
       "        text-align: right;\n",
       "    }\n",
       "</style>\n",
       "<table border=\"1\" class=\"dataframe\">\n",
       "  <thead>\n",
       "    <tr style=\"text-align: right;\">\n",
       "      <th></th>\n",
       "      <th>marketcap</th>\n",
       "      <th>ipoyear</th>\n",
       "      <th>sector</th>\n",
       "    </tr>\n",
       "    <tr>\n",
       "      <th>ticker</th>\n",
       "      <th></th>\n",
       "      <th></th>\n",
       "      <th></th>\n",
       "    </tr>\n",
       "  </thead>\n",
       "  <tbody>\n",
       "    <tr>\n",
       "      <th>PIH</th>\n",
       "      <td>4.309000e+07</td>\n",
       "      <td>2014.0</td>\n",
       "      <td>Finance</td>\n",
       "    </tr>\n",
       "    <tr>\n",
       "      <th>PIHPP</th>\n",
       "      <td>NaN</td>\n",
       "      <td>NaN</td>\n",
       "      <td>Finance</td>\n",
       "    </tr>\n",
       "    <tr>\n",
       "      <th>TURN</th>\n",
       "      <td>7.033000e+07</td>\n",
       "      <td>NaN</td>\n",
       "      <td>Finance</td>\n",
       "    </tr>\n",
       "    <tr>\n",
       "      <th>FLWS</th>\n",
       "      <td>8.333900e+08</td>\n",
       "      <td>1999.0</td>\n",
       "      <td>Consumer Services</td>\n",
       "    </tr>\n",
       "    <tr>\n",
       "      <th>FCCY</th>\n",
       "      <td>1.781400e+08</td>\n",
       "      <td>NaN</td>\n",
       "      <td>Finance</td>\n",
       "    </tr>\n",
       "    <tr>\n",
       "      <th>...</th>\n",
       "      <td>...</td>\n",
       "      <td>...</td>\n",
       "      <td>...</td>\n",
       "    </tr>\n",
       "    <tr>\n",
       "      <th>ZOES</th>\n",
       "      <td>1.974000e+08</td>\n",
       "      <td>2014.0</td>\n",
       "      <td>Consumer Services</td>\n",
       "    </tr>\n",
       "    <tr>\n",
       "      <th>ZTS</th>\n",
       "      <td>4.165000e+10</td>\n",
       "      <td>2013.0</td>\n",
       "      <td>Health Care</td>\n",
       "    </tr>\n",
       "    <tr>\n",
       "      <th>ZTO</th>\n",
       "      <td>1.434000e+10</td>\n",
       "      <td>2016.0</td>\n",
       "      <td>Transportation</td>\n",
       "    </tr>\n",
       "    <tr>\n",
       "      <th>ZUO</th>\n",
       "      <td>3.040000e+09</td>\n",
       "      <td>2018.0</td>\n",
       "      <td>Technology</td>\n",
       "    </tr>\n",
       "    <tr>\n",
       "      <th>ZYME</th>\n",
       "      <td>4.868100e+08</td>\n",
       "      <td>2017.0</td>\n",
       "      <td>Health Care</td>\n",
       "    </tr>\n",
       "  </tbody>\n",
       "</table>\n",
       "<p>6834 rows × 3 columns</p>\n",
       "</div>"
      ],
      "text/plain": [
       "           marketcap  ipoyear             sector\n",
       "ticker                                          \n",
       "PIH     4.309000e+07   2014.0            Finance\n",
       "PIHPP            NaN      NaN            Finance\n",
       "TURN    7.033000e+07      NaN            Finance\n",
       "FLWS    8.333900e+08   1999.0  Consumer Services\n",
       "FCCY    1.781400e+08      NaN            Finance\n",
       "...              ...      ...                ...\n",
       "ZOES    1.974000e+08   2014.0  Consumer Services\n",
       "ZTS     4.165000e+10   2013.0        Health Care\n",
       "ZTO     1.434000e+10   2016.0     Transportation\n",
       "ZUO     3.040000e+09   2018.0         Technology\n",
       "ZYME    4.868100e+08   2017.0        Health Care\n",
       "\n",
       "[6834 rows x 3 columns]"
      ]
     },
     "execution_count": 8,
     "metadata": {},
     "output_type": "execute_result"
    }
   ],
   "source": [
    "stocks"
   ]
  },
  {
   "cell_type": "markdown",
   "metadata": {},
   "source": [
    "### Keep data with stock info\n"
   ]
  },
  {
   "cell_type": "markdown",
   "metadata": {},
   "source": [
    "Remove `stocks` duplicates and align index names for later joining.\n"
   ]
  },
  {
   "cell_type": "code",
   "execution_count": 9,
   "metadata": {
    "ExecuteTime": {
     "end_time": "2021-04-15T19:42:23.018069Z",
     "start_time": "2021-04-15T19:42:23.009732Z"
    }
   },
   "outputs": [],
   "source": [
    "stocks = stocks[~stocks.index.duplicated()]\n",
    "stocks.index.name = \"ticker\""
   ]
  },
  {
   "cell_type": "markdown",
   "metadata": {},
   "source": [
    "Get tickers with both price information and metdata\n"
   ]
  },
  {
   "cell_type": "code",
   "execution_count": 10,
   "metadata": {
    "ExecuteTime": {
     "end_time": "2021-04-15T19:42:23.027293Z",
     "start_time": "2021-04-15T19:42:23.018895Z"
    }
   },
   "outputs": [],
   "source": [
    "shared = prices.columns.intersection(stocks.index)"
   ]
  },
  {
   "cell_type": "code",
   "execution_count": 11,
   "metadata": {
    "ExecuteTime": {
     "end_time": "2021-04-15T19:42:23.043241Z",
     "start_time": "2021-04-15T19:42:23.028490Z"
    }
   },
   "outputs": [
    {
     "name": "stdout",
     "output_type": "stream",
     "text": [
      "<class 'pandas.core.frame.DataFrame'>\n",
      "Index: 2412 entries, A to ZUMZ\n",
      "Data columns (total 3 columns):\n",
      " #   Column     Non-Null Count  Dtype  \n",
      "---  ------     --------------  -----  \n",
      " 0   marketcap  2407 non-null   float64\n",
      " 1   ipoyear    1065 non-null   float64\n",
      " 2   sector     2372 non-null   object \n",
      "dtypes: float64(2), object(1)\n",
      "memory usage: 75.4+ KB\n"
     ]
    }
   ],
   "source": [
    "stocks = stocks.loc[shared, :]\n",
    "stocks.info()"
   ]
  },
  {
   "cell_type": "code",
   "execution_count": 12,
   "metadata": {
    "ExecuteTime": {
     "end_time": "2021-04-15T19:42:23.137083Z",
     "start_time": "2021-04-15T19:42:23.044635Z"
    },
    "scrolled": true
   },
   "outputs": [
    {
     "name": "stdout",
     "output_type": "stream",
     "text": [
      "<class 'pandas.core.frame.DataFrame'>\n",
      "DatetimeIndex: 4706 entries, 2000-01-03 to 2018-03-27\n",
      "Columns: 2412 entries, A to ZUMZ\n",
      "dtypes: float64(2412)\n",
      "memory usage: 86.6 MB\n"
     ]
    }
   ],
   "source": [
    "prices: pd.DataFrame = prices.loc[:, shared]\n",
    "prices.info()"
   ]
  },
  {
   "cell_type": "code",
   "execution_count": 13,
   "metadata": {
    "ExecuteTime": {
     "end_time": "2021-04-15T19:42:23.140088Z",
     "start_time": "2021-04-15T19:42:23.138243Z"
    }
   },
   "outputs": [],
   "source": [
    "assert prices.shape[1] == stocks.shape[0]"
   ]
  },
  {
   "cell_type": "markdown",
   "metadata": {},
   "source": [
    "## Create monthly return series\n"
   ]
  },
  {
   "cell_type": "markdown",
   "metadata": {},
   "source": [
    "To reduce training time and experiment with strategies for longer time horizons, we convert the business-daily data to month-end frequency using the available adjusted close price:\n"
   ]
  },
  {
   "cell_type": "code",
   "execution_count": 14,
   "metadata": {
    "ExecuteTime": {
     "end_time": "2021-04-15T19:42:23.170928Z",
     "start_time": "2021-04-15T19:42:23.141153Z"
    }
   },
   "outputs": [],
   "source": [
    "monthly_prices = prices.resample(\"M\").last()"
   ]
  },
  {
   "cell_type": "markdown",
   "metadata": {},
   "source": [
    "To capture time series dynamics that reflect, for example, momentum patterns, we compute historical returns using the method `.pct_change(n_periods)`, that is, returns over various monthly periods as identified by lags.\n",
    "\n",
    "We then convert the wide result back to long format with the `.stack()` method, use `.pipe()` to apply the `.clip()` method to the resulting `DataFrame`, and winsorize returns at the [1%, 99%] levels; that is, we cap outliers at these percentiles.\n",
    "\n",
    "Finally, we normalize returns using the geometric average. After using `.swaplevel()` to change the order of the `MultiIndex` levels, we obtain compounded monthly returns for six periods ranging from 1 to 12 months:\n"
   ]
  },
  {
   "cell_type": "code",
   "execution_count": 15,
   "metadata": {
    "ExecuteTime": {
     "end_time": "2021-04-15T19:42:23.275075Z",
     "start_time": "2021-04-15T19:42:23.171959Z"
    }
   },
   "outputs": [
    {
     "name": "stdout",
     "output_type": "stream",
     "text": [
      "<class 'pandas.core.frame.DataFrame'>\n",
      "DatetimeIndex: 219 entries, 2000-01-31 to 2018-03-31\n",
      "Freq: ME\n",
      "Columns: 2412 entries, A to ZUMZ\n",
      "dtypes: float64(2412)\n",
      "memory usage: 4.0 MB\n"
     ]
    }
   ],
   "source": [
    "monthly_prices.info()"
   ]
  },
  {
   "cell_type": "code",
   "execution_count": 16,
   "metadata": {
    "ExecuteTime": {
     "end_time": "2021-04-15T19:42:27.496502Z",
     "start_time": "2021-04-15T19:42:23.276017Z"
    }
   },
   "outputs": [
    {
     "name": "stdout",
     "output_type": "stream",
     "text": [
      "<class 'pandas.core.frame.DataFrame'>\n",
      "MultiIndex: 399525 entries, ('A', Timestamp('2001-01-31 00:00:00')) to ('ZUMZ', Timestamp('2018-03-31 00:00:00'))\n",
      "Data columns (total 6 columns):\n",
      " #   Column      Non-Null Count   Dtype  \n",
      "---  ------      --------------   -----  \n",
      " 0   return_1m   399525 non-null  float64\n",
      " 1   return_2m   399525 non-null  float64\n",
      " 2   return_3m   399525 non-null  float64\n",
      " 3   return_6m   399525 non-null  float64\n",
      " 4   return_9m   399525 non-null  float64\n",
      " 5   return_12m  399525 non-null  float64\n",
      "dtypes: float64(6)\n",
      "memory usage: 19.9+ MB\n"
     ]
    }
   ],
   "source": [
    "outlier_cutoff = 0.01\n",
    "data = pd.DataFrame()\n",
    "lags = [1, 2, 3, 6, 9, 12]\n",
    "for lag in lags:\n",
    "    data[f\"return_{lag}m\"] = (\n",
    "        monthly_prices.pct_change(lag)\n",
    "        .stack()\n",
    "        .pipe(\n",
    "            lambda x: x.clip(\n",
    "                lower=x.quantile(outlier_cutoff), upper=x.quantile(1 - outlier_cutoff)\n",
    "            )\n",
    "        )\n",
    "        + 1\n",
    "    ) ** (1 / lag) - 1\n",
    "data = data.swaplevel().dropna()\n",
    "data.info()"
   ]
  },
  {
   "cell_type": "markdown",
   "metadata": {},
   "source": [
    "## Drop stocks with less than 10 yrs of returns\n"
   ]
  },
  {
   "cell_type": "code",
   "execution_count": 17,
   "metadata": {
    "ExecuteTime": {
     "end_time": "2021-04-15T19:42:32.693861Z",
     "start_time": "2021-04-15T19:42:27.497409Z"
    }
   },
   "outputs": [
    {
     "name": "stdout",
     "output_type": "stream",
     "text": [
      "<class 'pandas.core.frame.DataFrame'>\n",
      "MultiIndex: 360752 entries, ('A', Timestamp('2001-01-31 00:00:00')) to ('ZUMZ', Timestamp('2018-03-31 00:00:00'))\n",
      "Data columns (total 6 columns):\n",
      " #   Column      Non-Null Count   Dtype  \n",
      "---  ------      --------------   -----  \n",
      " 0   return_1m   360752 non-null  float64\n",
      " 1   return_2m   360752 non-null  float64\n",
      " 2   return_3m   360752 non-null  float64\n",
      " 3   return_6m   360752 non-null  float64\n",
      " 4   return_9m   360752 non-null  float64\n",
      " 5   return_12m  360752 non-null  float64\n",
      "dtypes: float64(6)\n",
      "memory usage: 18.0+ MB\n"
     ]
    }
   ],
   "source": [
    "min_obs = 120\n",
    "nobs = data.groupby(level=\"ticker\").size()\n",
    "keep = nobs[nobs > min_obs].index\n",
    "\n",
    "data = data.loc[idx[keep, :], :]\n",
    "data.info()"
   ]
  },
  {
   "cell_type": "code",
   "execution_count": 18,
   "metadata": {
    "ExecuteTime": {
     "end_time": "2021-04-15T19:42:32.759315Z",
     "start_time": "2021-04-15T19:42:32.695113Z"
    }
   },
   "outputs": [
    {
     "data": {
      "text/html": [
       "<div>\n",
       "<style scoped>\n",
       "    .dataframe tbody tr th:only-of-type {\n",
       "        vertical-align: middle;\n",
       "    }\n",
       "\n",
       "    .dataframe tbody tr th {\n",
       "        vertical-align: top;\n",
       "    }\n",
       "\n",
       "    .dataframe thead th {\n",
       "        text-align: right;\n",
       "    }\n",
       "</style>\n",
       "<table border=\"1\" class=\"dataframe\">\n",
       "  <thead>\n",
       "    <tr style=\"text-align: right;\">\n",
       "      <th></th>\n",
       "      <th>return_1m</th>\n",
       "      <th>return_2m</th>\n",
       "      <th>return_3m</th>\n",
       "      <th>return_6m</th>\n",
       "      <th>return_9m</th>\n",
       "      <th>return_12m</th>\n",
       "    </tr>\n",
       "  </thead>\n",
       "  <tbody>\n",
       "    <tr>\n",
       "      <th>count</th>\n",
       "      <td>360752.000000</td>\n",
       "      <td>360752.000000</td>\n",
       "      <td>360752.000000</td>\n",
       "      <td>360752.000000</td>\n",
       "      <td>360752.000000</td>\n",
       "      <td>360752.000000</td>\n",
       "    </tr>\n",
       "    <tr>\n",
       "      <th>mean</th>\n",
       "      <td>0.012255</td>\n",
       "      <td>0.009213</td>\n",
       "      <td>0.008181</td>\n",
       "      <td>0.007025</td>\n",
       "      <td>0.006552</td>\n",
       "      <td>0.006296</td>\n",
       "    </tr>\n",
       "    <tr>\n",
       "      <th>std</th>\n",
       "      <td>0.114236</td>\n",
       "      <td>0.081170</td>\n",
       "      <td>0.066584</td>\n",
       "      <td>0.048474</td>\n",
       "      <td>0.039897</td>\n",
       "      <td>0.034792</td>\n",
       "    </tr>\n",
       "    <tr>\n",
       "      <th>min</th>\n",
       "      <td>-0.329564</td>\n",
       "      <td>-0.255452</td>\n",
       "      <td>-0.214783</td>\n",
       "      <td>-0.162063</td>\n",
       "      <td>-0.131996</td>\n",
       "      <td>-0.114283</td>\n",
       "    </tr>\n",
       "    <tr>\n",
       "      <th>25%</th>\n",
       "      <td>-0.046464</td>\n",
       "      <td>-0.030716</td>\n",
       "      <td>-0.023961</td>\n",
       "      <td>-0.014922</td>\n",
       "      <td>-0.011182</td>\n",
       "      <td>-0.009064</td>\n",
       "    </tr>\n",
       "    <tr>\n",
       "      <th>50%</th>\n",
       "      <td>0.009448</td>\n",
       "      <td>0.009748</td>\n",
       "      <td>0.009744</td>\n",
       "      <td>0.009378</td>\n",
       "      <td>0.008982</td>\n",
       "      <td>0.008726</td>\n",
       "    </tr>\n",
       "    <tr>\n",
       "      <th>75%</th>\n",
       "      <td>0.066000</td>\n",
       "      <td>0.049249</td>\n",
       "      <td>0.042069</td>\n",
       "      <td>0.031971</td>\n",
       "      <td>0.027183</td>\n",
       "      <td>0.024615</td>\n",
       "    </tr>\n",
       "    <tr>\n",
       "      <th>max</th>\n",
       "      <td>0.430943</td>\n",
       "      <td>0.281819</td>\n",
       "      <td>0.221789</td>\n",
       "      <td>0.154555</td>\n",
       "      <td>0.124718</td>\n",
       "      <td>0.106371</td>\n",
       "    </tr>\n",
       "  </tbody>\n",
       "</table>\n",
       "</div>"
      ],
      "text/plain": [
       "           return_1m      return_2m      return_3m      return_6m  \\\n",
       "count  360752.000000  360752.000000  360752.000000  360752.000000   \n",
       "mean        0.012255       0.009213       0.008181       0.007025   \n",
       "std         0.114236       0.081170       0.066584       0.048474   \n",
       "min        -0.329564      -0.255452      -0.214783      -0.162063   \n",
       "25%        -0.046464      -0.030716      -0.023961      -0.014922   \n",
       "50%         0.009448       0.009748       0.009744       0.009378   \n",
       "75%         0.066000       0.049249       0.042069       0.031971   \n",
       "max         0.430943       0.281819       0.221789       0.154555   \n",
       "\n",
       "           return_9m     return_12m  \n",
       "count  360752.000000  360752.000000  \n",
       "mean        0.006552       0.006296  \n",
       "std         0.039897       0.034792  \n",
       "min        -0.131996      -0.114283  \n",
       "25%        -0.011182      -0.009064  \n",
       "50%         0.008982       0.008726  \n",
       "75%         0.027183       0.024615  \n",
       "max         0.124718       0.106371  "
      ]
     },
     "execution_count": 18,
     "metadata": {},
     "output_type": "execute_result"
    }
   ],
   "source": [
    "data.describe()"
   ]
  },
  {
   "cell_type": "code",
   "execution_count": 19,
   "metadata": {
    "ExecuteTime": {
     "end_time": "2021-04-15T19:42:33.428516Z",
     "start_time": "2021-04-15T19:42:32.760414Z"
    }
   },
   "outputs": [
    {
     "data": {
      "image/png": "[encoded data removed]",
      "text/plain": [
       "<Figure size 1000x1000 with 4 Axes>"
      ]
     },
     "metadata": {},
     "output_type": "display_data"
    }
   ],
   "source": [
    "# cmap = sns.diverging_palette(10, 220, as_cmap=True)\n",
    "sns.clustermap(data.corr(\"spearman\"), annot=True, center=0, cmap=\"Blues\")\n",
    "plt.show()"
   ]
  },
  {
   "cell_type": "markdown",
   "metadata": {},
   "source": [
    "We are left with 1,838 tickers.\n"
   ]
  },
  {
   "cell_type": "code",
   "execution_count": 20,
   "metadata": {
    "ExecuteTime": {
     "end_time": "2021-04-15T19:42:33.464342Z",
     "start_time": "2021-04-15T19:42:33.429978Z"
    }
   },
   "outputs": [
    {
     "data": {
      "text/plain": [
       "1838"
      ]
     },
     "execution_count": 20,
     "metadata": {},
     "output_type": "execute_result"
    }
   ],
   "source": [
    "data.index.get_level_values(\"ticker\").nunique()"
   ]
  },
  {
   "cell_type": "markdown",
   "metadata": {},
   "source": [
    "## Rolling Factor Betas\n"
   ]
  },
  {
   "cell_type": "markdown",
   "metadata": {},
   "source": [
    "We will introduce the Fama—French data to estimate the exposure of assets to common risk factors using linear regression in [Chapter 9, Time Series Models](../09_time_series_models).\n"
   ]
  },
  {
   "cell_type": "markdown",
   "metadata": {},
   "source": [
    "The five Fama—French factors, namely market risk, size, value, operating profitability, and investment have been shown empirically to explain asset returns and are commonly used to assess the risk/return profile of portfolios. Hence, it is natural to include past factor exposures as financial features in models that aim to predict future returns.\n"
   ]
  },
  {
   "cell_type": "markdown",
   "metadata": {},
   "source": [
    "We can access the historical factor returns using the `pandas-datareader` and estimate historical exposures using the `RollingOLS` rolling linear regression functionality in the `statsmodels` library as follows:\n"
   ]
  },
  {
   "cell_type": "markdown",
   "metadata": {},
   "source": [
    "Use Fama-French research factors to estimate the factor exposures of the stock in the dataset to the 5 factors market risk, size, value, operating profitability and investment.\n"
   ]
  },
  {
   "cell_type": "code",
   "execution_count": 21,
   "metadata": {
    "ExecuteTime": {
     "end_time": "2021-04-15T19:42:33.769036Z",
     "start_time": "2021-04-15T19:42:33.465722Z"
    },
    "scrolled": false
   },
   "outputs": [
    {
     "name": "stdout",
     "output_type": "stream",
     "text": [
      "<class 'pandas.core.frame.DataFrame'>\n",
      "DatetimeIndex: 294 entries, 2000-01-31 to 2024-06-30\n",
      "Freq: ME\n",
      "Data columns (total 5 columns):\n",
      " #   Column  Non-Null Count  Dtype  \n",
      "---  ------  --------------  -----  \n",
      " 0   Mkt-RF  294 non-null    float64\n",
      " 1   SMB     294 non-null    float64\n",
      " 2   HML     294 non-null    float64\n",
      " 3   RMW     294 non-null    float64\n",
      " 4   CMA     294 non-null    float64\n",
      "dtypes: float64(5)\n",
      "memory usage: 13.8 KB\n"
     ]
    }
   ],
   "source": [
    "factors = [\"Mkt-RF\", \"SMB\", \"HML\", \"RMW\", \"CMA\"]\n",
    "factor_data: pd.DataFrame = web.DataReader(\n",
    "    \"F-F_Research_Data_5_Factors_2x3\", \"famafrench\", start=\"2000\"\n",
    ")[0].drop(\"RF\", axis=1)\n",
    "factor_data.index = factor_data.index.to_timestamp()\n",
    "factor_data = factor_data.resample(\"M\").last().div(100)\n",
    "factor_data.index.name = \"date\"\n",
    "factor_data.info()"
   ]
  },
  {
   "cell_type": "code",
   "execution_count": 22,
   "metadata": {},
   "outputs": [
    {
     "data": {
      "text/html": [
       "<div>\n",
       "<style scoped>\n",
       "    .dataframe tbody tr th:only-of-type {\n",
       "        vertical-align: middle;\n",
       "    }\n",
       "\n",
       "    .dataframe tbody tr th {\n",
       "        vertical-align: top;\n",
       "    }\n",
       "\n",
       "    .dataframe thead th {\n",
       "        text-align: right;\n",
       "    }\n",
       "</style>\n",
       "<table border=\"1\" class=\"dataframe\">\n",
       "  <thead>\n",
       "    <tr style=\"text-align: right;\">\n",
       "      <th></th>\n",
       "      <th>Mkt-RF</th>\n",
       "      <th>SMB</th>\n",
       "      <th>HML</th>\n",
       "      <th>RMW</th>\n",
       "      <th>CMA</th>\n",
       "    </tr>\n",
       "    <tr>\n",
       "      <th>date</th>\n",
       "      <th></th>\n",
       "      <th></th>\n",
       "      <th></th>\n",
       "      <th></th>\n",
       "      <th></th>\n",
       "    </tr>\n",
       "  </thead>\n",
       "  <tbody>\n",
       "    <tr>\n",
       "      <th>2000-01-31</th>\n",
       "      <td>-0.0474</td>\n",
       "      <td>0.0442</td>\n",
       "      <td>-0.0188</td>\n",
       "      <td>-0.0629</td>\n",
       "      <td>0.0472</td>\n",
       "    </tr>\n",
       "    <tr>\n",
       "      <th>2000-02-29</th>\n",
       "      <td>0.0245</td>\n",
       "      <td>0.1828</td>\n",
       "      <td>-0.0959</td>\n",
       "      <td>-0.1865</td>\n",
       "      <td>-0.0048</td>\n",
       "    </tr>\n",
       "    <tr>\n",
       "      <th>2000-03-31</th>\n",
       "      <td>0.0520</td>\n",
       "      <td>-0.1532</td>\n",
       "      <td>0.0813</td>\n",
       "      <td>0.1179</td>\n",
       "      <td>-0.0159</td>\n",
       "    </tr>\n",
       "    <tr>\n",
       "      <th>2000-04-30</th>\n",
       "      <td>-0.0640</td>\n",
       "      <td>-0.0501</td>\n",
       "      <td>0.0726</td>\n",
       "      <td>0.0766</td>\n",
       "      <td>0.0565</td>\n",
       "    </tr>\n",
       "    <tr>\n",
       "      <th>2000-05-31</th>\n",
       "      <td>-0.0442</td>\n",
       "      <td>-0.0381</td>\n",
       "      <td>0.0475</td>\n",
       "      <td>0.0413</td>\n",
       "      <td>0.0137</td>\n",
       "    </tr>\n",
       "    <tr>\n",
       "      <th>...</th>\n",
       "      <td>...</td>\n",
       "      <td>...</td>\n",
       "      <td>...</td>\n",
       "      <td>...</td>\n",
       "      <td>...</td>\n",
       "    </tr>\n",
       "    <tr>\n",
       "      <th>2024-02-29</th>\n",
       "      <td>0.0506</td>\n",
       "      <td>-0.0067</td>\n",
       "      <td>-0.0354</td>\n",
       "      <td>-0.0178</td>\n",
       "      <td>-0.0215</td>\n",
       "    </tr>\n",
       "    <tr>\n",
       "      <th>2024-03-31</th>\n",
       "      <td>0.0283</td>\n",
       "      <td>-0.0114</td>\n",
       "      <td>0.0416</td>\n",
       "      <td>0.0152</td>\n",
       "      <td>0.0118</td>\n",
       "    </tr>\n",
       "    <tr>\n",
       "      <th>2024-04-30</th>\n",
       "      <td>-0.0467</td>\n",
       "      <td>-0.0249</td>\n",
       "      <td>-0.0054</td>\n",
       "      <td>0.0160</td>\n",
       "      <td>-0.0036</td>\n",
       "    </tr>\n",
       "    <tr>\n",
       "      <th>2024-05-31</th>\n",
       "      <td>0.0434</td>\n",
       "      <td>0.0069</td>\n",
       "      <td>-0.0137</td>\n",
       "      <td>0.0339</td>\n",
       "      <td>-0.0295</td>\n",
       "    </tr>\n",
       "    <tr>\n",
       "      <th>2024-06-30</th>\n",
       "      <td>0.0278</td>\n",
       "      <td>-0.0433</td>\n",
       "      <td>-0.0331</td>\n",
       "      <td>0.0049</td>\n",
       "      <td>-0.0182</td>\n",
       "    </tr>\n",
       "  </tbody>\n",
       "</table>\n",
       "<p>294 rows × 5 columns</p>\n",
       "</div>"
      ],
      "text/plain": [
       "            Mkt-RF     SMB     HML     RMW     CMA\n",
       "date                                              \n",
       "2000-01-31 -0.0474  0.0442 -0.0188 -0.0629  0.0472\n",
       "2000-02-29  0.0245  0.1828 -0.0959 -0.1865 -0.0048\n",
       "2000-03-31  0.0520 -0.1532  0.0813  0.1179 -0.0159\n",
       "2000-04-30 -0.0640 -0.0501  0.0726  0.0766  0.0565\n",
       "2000-05-31 -0.0442 -0.0381  0.0475  0.0413  0.0137\n",
       "...            ...     ...     ...     ...     ...\n",
       "2024-02-29  0.0506 -0.0067 -0.0354 -0.0178 -0.0215\n",
       "2024-03-31  0.0283 -0.0114  0.0416  0.0152  0.0118\n",
       "2024-04-30 -0.0467 -0.0249 -0.0054  0.0160 -0.0036\n",
       "2024-05-31  0.0434  0.0069 -0.0137  0.0339 -0.0295\n",
       "2024-06-30  0.0278 -0.0433 -0.0331  0.0049 -0.0182\n",
       "\n",
       "[294 rows x 5 columns]"
      ]
     },
     "execution_count": 22,
     "metadata": {},
     "output_type": "execute_result"
    }
   ],
   "source": [
    "factor_data"
   ]
  },
  {
   "cell_type": "code",
   "execution_count": 23,
   "metadata": {
    "ExecuteTime": {
     "end_time": "2021-04-15T19:42:33.816362Z",
     "start_time": "2021-04-15T19:42:33.769871Z"
    },
    "scrolled": true
   },
   "outputs": [
    {
     "name": "stdout",
     "output_type": "stream",
     "text": [
      "<class 'pandas.core.frame.DataFrame'>\n",
      "MultiIndex: 360752 entries, ('A', Timestamp('2001-01-31 00:00:00')) to ('ZUMZ', Timestamp('2018-03-31 00:00:00'))\n",
      "Data columns (total 6 columns):\n",
      " #   Column     Non-Null Count   Dtype  \n",
      "---  ------     --------------   -----  \n",
      " 0   Mkt-RF     360752 non-null  float64\n",
      " 1   SMB        360752 non-null  float64\n",
      " 2   HML        360752 non-null  float64\n",
      " 3   RMW        360752 non-null  float64\n",
      " 4   CMA        360752 non-null  float64\n",
      " 5   return_1m  360752 non-null  float64\n",
      "dtypes: float64(6)\n",
      "memory usage: 18.0+ MB\n"
     ]
    }
   ],
   "source": [
    "factor_data = factor_data.join(data[\"return_1m\"]).sort_index()\n",
    "factor_data.info()"
   ]
  },
  {
   "cell_type": "code",
   "execution_count": 24,
   "metadata": {},
   "outputs": [
    {
     "data": {
      "text/html": [
       "<div>\n",
       "<style scoped>\n",
       "    .dataframe tbody tr th:only-of-type {\n",
       "        vertical-align: middle;\n",
       "    }\n",
       "\n",
       "    .dataframe tbody tr th {\n",
       "        vertical-align: top;\n",
       "    }\n",
       "\n",
       "    .dataframe thead th {\n",
       "        text-align: right;\n",
       "    }\n",
       "</style>\n",
       "<table border=\"1\" class=\"dataframe\">\n",
       "  <thead>\n",
       "    <tr style=\"text-align: right;\">\n",
       "      <th></th>\n",
       "      <th></th>\n",
       "      <th>Mkt-RF</th>\n",
       "      <th>SMB</th>\n",
       "      <th>HML</th>\n",
       "      <th>RMW</th>\n",
       "      <th>CMA</th>\n",
       "      <th>return_1m</th>\n",
       "    </tr>\n",
       "    <tr>\n",
       "      <th>ticker</th>\n",
       "      <th>date</th>\n",
       "      <th></th>\n",
       "      <th></th>\n",
       "      <th></th>\n",
       "      <th></th>\n",
       "      <th></th>\n",
       "      <th></th>\n",
       "    </tr>\n",
       "  </thead>\n",
       "  <tbody>\n",
       "    <tr>\n",
       "      <th rowspan=\"5\" valign=\"top\">A</th>\n",
       "      <th>2001-01-31</th>\n",
       "      <td>0.0313</td>\n",
       "      <td>0.0548</td>\n",
       "      <td>-0.0507</td>\n",
       "      <td>-0.0469</td>\n",
       "      <td>-0.0503</td>\n",
       "      <td>-0.003653</td>\n",
       "    </tr>\n",
       "    <tr>\n",
       "      <th>2001-02-28</th>\n",
       "      <td>-0.1005</td>\n",
       "      <td>0.0283</td>\n",
       "      <td>0.1247</td>\n",
       "      <td>0.0910</td>\n",
       "      <td>0.0907</td>\n",
       "      <td>-0.329564</td>\n",
       "    </tr>\n",
       "    <tr>\n",
       "      <th>2001-03-31</th>\n",
       "      <td>-0.0726</td>\n",
       "      <td>0.0233</td>\n",
       "      <td>0.0642</td>\n",
       "      <td>0.0335</td>\n",
       "      <td>0.0392</td>\n",
       "      <td>-0.146389</td>\n",
       "    </tr>\n",
       "    <tr>\n",
       "      <th>2001-04-30</th>\n",
       "      <td>0.0794</td>\n",
       "      <td>-0.0086</td>\n",
       "      <td>-0.0467</td>\n",
       "      <td>-0.0306</td>\n",
       "      <td>-0.0320</td>\n",
       "      <td>0.269444</td>\n",
       "    </tr>\n",
       "    <tr>\n",
       "      <th>2001-05-31</th>\n",
       "      <td>0.0072</td>\n",
       "      <td>0.0360</td>\n",
       "      <td>0.0336</td>\n",
       "      <td>0.0025</td>\n",
       "      <td>0.0191</td>\n",
       "      <td>-0.140220</td>\n",
       "    </tr>\n",
       "    <tr>\n",
       "      <th>...</th>\n",
       "      <th>...</th>\n",
       "      <td>...</td>\n",
       "      <td>...</td>\n",
       "      <td>...</td>\n",
       "      <td>...</td>\n",
       "      <td>...</td>\n",
       "      <td>...</td>\n",
       "    </tr>\n",
       "    <tr>\n",
       "      <th rowspan=\"5\" valign=\"top\">ZUMZ</th>\n",
       "      <th>2017-11-30</th>\n",
       "      <td>0.0312</td>\n",
       "      <td>-0.0033</td>\n",
       "      <td>-0.0003</td>\n",
       "      <td>0.0318</td>\n",
       "      <td>-0.0006</td>\n",
       "      <td>0.235127</td>\n",
       "    </tr>\n",
       "    <tr>\n",
       "      <th>2017-12-31</th>\n",
       "      <td>0.0106</td>\n",
       "      <td>-0.0106</td>\n",
       "      <td>0.0006</td>\n",
       "      <td>0.0075</td>\n",
       "      <td>0.0170</td>\n",
       "      <td>-0.044725</td>\n",
       "    </tr>\n",
       "    <tr>\n",
       "      <th>2018-01-31</th>\n",
       "      <td>0.0557</td>\n",
       "      <td>-0.0317</td>\n",
       "      <td>-0.0129</td>\n",
       "      <td>-0.0075</td>\n",
       "      <td>-0.0091</td>\n",
       "      <td>-0.003601</td>\n",
       "    </tr>\n",
       "    <tr>\n",
       "      <th>2018-02-28</th>\n",
       "      <td>-0.0365</td>\n",
       "      <td>0.0032</td>\n",
       "      <td>-0.0104</td>\n",
       "      <td>0.0048</td>\n",
       "      <td>-0.0228</td>\n",
       "      <td>-0.050602</td>\n",
       "    </tr>\n",
       "    <tr>\n",
       "      <th>2018-03-31</th>\n",
       "      <td>-0.0235</td>\n",
       "      <td>0.0360</td>\n",
       "      <td>-0.0021</td>\n",
       "      <td>-0.0043</td>\n",
       "      <td>-0.0002</td>\n",
       "      <td>0.197970</td>\n",
       "    </tr>\n",
       "  </tbody>\n",
       "</table>\n",
       "<p>360752 rows × 6 columns</p>\n",
       "</div>"
      ],
      "text/plain": [
       "                   Mkt-RF     SMB     HML     RMW     CMA  return_1m\n",
       "ticker date                                                         \n",
       "A      2001-01-31  0.0313  0.0548 -0.0507 -0.0469 -0.0503  -0.003653\n",
       "       2001-02-28 -0.1005  0.0283  0.1247  0.0910  0.0907  -0.329564\n",
       "       2001-03-31 -0.0726  0.0233  0.0642  0.0335  0.0392  -0.146389\n",
       "       2001-04-30  0.0794 -0.0086 -0.0467 -0.0306 -0.0320   0.269444\n",
       "       2001-05-31  0.0072  0.0360  0.0336  0.0025  0.0191  -0.140220\n",
       "...                   ...     ...     ...     ...     ...        ...\n",
       "ZUMZ   2017-11-30  0.0312 -0.0033 -0.0003  0.0318 -0.0006   0.235127\n",
       "       2017-12-31  0.0106 -0.0106  0.0006  0.0075  0.0170  -0.044725\n",
       "       2018-01-31  0.0557 -0.0317 -0.0129 -0.0075 -0.0091  -0.003601\n",
       "       2018-02-28 -0.0365  0.0032 -0.0104  0.0048 -0.0228  -0.050602\n",
       "       2018-03-31 -0.0235  0.0360 -0.0021 -0.0043 -0.0002   0.197970\n",
       "\n",
       "[360752 rows x 6 columns]"
      ]
     },
     "execution_count": 24,
     "metadata": {},
     "output_type": "execute_result"
    }
   ],
   "source": [
    "factor_data"
   ]
  },
  {
   "cell_type": "code",
   "execution_count": 25,
   "metadata": {
    "ExecuteTime": {
     "end_time": "2021-04-15T19:42:45.008104Z",
     "start_time": "2021-04-15T19:42:33.817495Z"
    }
   },
   "outputs": [],
   "source": [
    "T = 24\n",
    "betas = factor_data.groupby(level=\"ticker\", group_keys=False).apply(\n",
    "    lambda x: RollingOLS(\n",
    "        endog=x[\"return_1m\"],\n",
    "        exog=sm.add_constant(x.drop(\"return_1m\", axis=1)),\n",
    "        window=min(T, x.shape[0] - 1),\n",
    "    )\n",
    "    .fit(params_only=True)\n",
    "    .params.drop(\"const\", axis=1)\n",
    ")"
   ]
  },
  {
   "cell_type": "code",
   "execution_count": 26,
   "metadata": {
    "ExecuteTime": {
     "end_time": "2021-04-15T19:42:45.092905Z",
     "start_time": "2021-04-15T19:42:45.009169Z"
    }
   },
   "outputs": [
    {
     "data": {
      "text/html": [
       "<div>\n",
       "<style scoped>\n",
       "    .dataframe tbody tr th:only-of-type {\n",
       "        vertical-align: middle;\n",
       "    }\n",
       "\n",
       "    .dataframe tbody tr th {\n",
       "        vertical-align: top;\n",
       "    }\n",
       "\n",
       "    .dataframe thead th {\n",
       "        text-align: right;\n",
       "    }\n",
       "</style>\n",
       "<table border=\"1\" class=\"dataframe\">\n",
       "  <thead>\n",
       "    <tr style=\"text-align: right;\">\n",
       "      <th></th>\n",
       "      <th>Mkt-RF</th>\n",
       "      <th>SMB</th>\n",
       "      <th>HML</th>\n",
       "      <th>RMW</th>\n",
       "      <th>CMA</th>\n",
       "      <th>total</th>\n",
       "    </tr>\n",
       "  </thead>\n",
       "  <tbody>\n",
       "    <tr>\n",
       "      <th>count</th>\n",
       "      <td>318478.000000</td>\n",
       "      <td>318478.000000</td>\n",
       "      <td>318478.000000</td>\n",
       "      <td>318478.000000</td>\n",
       "      <td>318478.000000</td>\n",
       "      <td>360752.000000</td>\n",
       "    </tr>\n",
       "    <tr>\n",
       "      <th>mean</th>\n",
       "      <td>0.979361</td>\n",
       "      <td>0.626599</td>\n",
       "      <td>0.122625</td>\n",
       "      <td>-0.062080</td>\n",
       "      <td>0.016703</td>\n",
       "      <td>1.485965</td>\n",
       "    </tr>\n",
       "    <tr>\n",
       "      <th>std</th>\n",
       "      <td>0.918088</td>\n",
       "      <td>1.254233</td>\n",
       "      <td>1.603502</td>\n",
       "      <td>1.908346</td>\n",
       "      <td>2.158859</td>\n",
       "      <td>3.306464</td>\n",
       "    </tr>\n",
       "    <tr>\n",
       "      <th>min</th>\n",
       "      <td>-9.805604</td>\n",
       "      <td>-10.407516</td>\n",
       "      <td>-15.382504</td>\n",
       "      <td>-23.159702</td>\n",
       "      <td>-18.406854</td>\n",
       "      <td>-33.499590</td>\n",
       "    </tr>\n",
       "    <tr>\n",
       "      <th>25%</th>\n",
       "      <td>0.463756</td>\n",
       "      <td>-0.118712</td>\n",
       "      <td>-0.707764</td>\n",
       "      <td>-0.973586</td>\n",
       "      <td>-1.071669</td>\n",
       "      <td>0.000000</td>\n",
       "    </tr>\n",
       "    <tr>\n",
       "      <th>50%</th>\n",
       "      <td>0.928914</td>\n",
       "      <td>0.541627</td>\n",
       "      <td>0.095329</td>\n",
       "      <td>0.037606</td>\n",
       "      <td>0.040528</td>\n",
       "      <td>1.213522</td>\n",
       "    </tr>\n",
       "    <tr>\n",
       "      <th>75%</th>\n",
       "      <td>1.444897</td>\n",
       "      <td>1.304416</td>\n",
       "      <td>0.946774</td>\n",
       "      <td>0.950267</td>\n",
       "      <td>1.135540</td>\n",
       "      <td>3.147226</td>\n",
       "    </tr>\n",
       "    <tr>\n",
       "      <th>max</th>\n",
       "      <td>10.855709</td>\n",
       "      <td>10.297453</td>\n",
       "      <td>15.038572</td>\n",
       "      <td>17.079472</td>\n",
       "      <td>16.671709</td>\n",
       "      <td>34.259432</td>\n",
       "    </tr>\n",
       "  </tbody>\n",
       "</table>\n",
       "</div>"
      ],
      "text/plain": [
       "              Mkt-RF            SMB            HML            RMW  \\\n",
       "count  318478.000000  318478.000000  318478.000000  318478.000000   \n",
       "mean        0.979361       0.626599       0.122625      -0.062080   \n",
       "std         0.918088       1.254233       1.603502       1.908346   \n",
       "min        -9.805604     -10.407516     -15.382504     -23.159702   \n",
       "25%         0.463756      -0.118712      -0.707764      -0.973586   \n",
       "50%         0.928914       0.541627       0.095329       0.037606   \n",
       "75%         1.444897       1.304416       0.946774       0.950267   \n",
       "max        10.855709      10.297453      15.038572      17.079472   \n",
       "\n",
       "                 CMA          total  \n",
       "count  318478.000000  360752.000000  \n",
       "mean        0.016703       1.485965  \n",
       "std         2.158859       3.306464  \n",
       "min       -18.406854     -33.499590  \n",
       "25%        -1.071669       0.000000  \n",
       "50%         0.040528       1.213522  \n",
       "75%         1.135540       3.147226  \n",
       "max        16.671709      34.259432  "
      ]
     },
     "execution_count": 26,
     "metadata": {},
     "output_type": "execute_result"
    }
   ],
   "source": [
    "betas.describe().join(betas.sum(1).describe().to_frame(\"total\"))"
   ]
  },
  {
   "cell_type": "code",
   "execution_count": 27,
   "metadata": {},
   "outputs": [
    {
     "data": {
      "text/html": [
       "<div>\n",
       "<style scoped>\n",
       "    .dataframe tbody tr th:only-of-type {\n",
       "        vertical-align: middle;\n",
       "    }\n",
       "\n",
       "    .dataframe tbody tr th {\n",
       "        vertical-align: top;\n",
       "    }\n",
       "\n",
       "    .dataframe thead th {\n",
       "        text-align: right;\n",
       "    }\n",
       "</style>\n",
       "<table border=\"1\" class=\"dataframe\">\n",
       "  <thead>\n",
       "    <tr style=\"text-align: right;\">\n",
       "      <th></th>\n",
       "      <th></th>\n",
       "      <th>Mkt-RF</th>\n",
       "      <th>SMB</th>\n",
       "      <th>HML</th>\n",
       "      <th>RMW</th>\n",
       "      <th>CMA</th>\n",
       "    </tr>\n",
       "    <tr>\n",
       "      <th>ticker</th>\n",
       "      <th>date</th>\n",
       "      <th></th>\n",
       "      <th></th>\n",
       "      <th></th>\n",
       "      <th></th>\n",
       "      <th></th>\n",
       "    </tr>\n",
       "  </thead>\n",
       "  <tbody>\n",
       "    <tr>\n",
       "      <th rowspan=\"5\" valign=\"top\">A</th>\n",
       "      <th>2001-01-31</th>\n",
       "      <td>NaN</td>\n",
       "      <td>NaN</td>\n",
       "      <td>NaN</td>\n",
       "      <td>NaN</td>\n",
       "      <td>NaN</td>\n",
       "    </tr>\n",
       "    <tr>\n",
       "      <th>2001-02-28</th>\n",
       "      <td>NaN</td>\n",
       "      <td>NaN</td>\n",
       "      <td>NaN</td>\n",
       "      <td>NaN</td>\n",
       "      <td>NaN</td>\n",
       "    </tr>\n",
       "    <tr>\n",
       "      <th>2001-03-31</th>\n",
       "      <td>NaN</td>\n",
       "      <td>NaN</td>\n",
       "      <td>NaN</td>\n",
       "      <td>NaN</td>\n",
       "      <td>NaN</td>\n",
       "    </tr>\n",
       "    <tr>\n",
       "      <th>2001-04-30</th>\n",
       "      <td>NaN</td>\n",
       "      <td>NaN</td>\n",
       "      <td>NaN</td>\n",
       "      <td>NaN</td>\n",
       "      <td>NaN</td>\n",
       "    </tr>\n",
       "    <tr>\n",
       "      <th>2001-05-31</th>\n",
       "      <td>NaN</td>\n",
       "      <td>NaN</td>\n",
       "      <td>NaN</td>\n",
       "      <td>NaN</td>\n",
       "      <td>NaN</td>\n",
       "    </tr>\n",
       "    <tr>\n",
       "      <th>...</th>\n",
       "      <th>...</th>\n",
       "      <td>...</td>\n",
       "      <td>...</td>\n",
       "      <td>...</td>\n",
       "      <td>...</td>\n",
       "      <td>...</td>\n",
       "    </tr>\n",
       "    <tr>\n",
       "      <th rowspan=\"5\" valign=\"top\">ZUMZ</th>\n",
       "      <th>2017-11-30</th>\n",
       "      <td>-0.762338</td>\n",
       "      <td>1.308379</td>\n",
       "      <td>1.329555</td>\n",
       "      <td>3.443895</td>\n",
       "      <td>1.008053</td>\n",
       "    </tr>\n",
       "    <tr>\n",
       "      <th>2017-12-31</th>\n",
       "      <td>-0.959715</td>\n",
       "      <td>1.642217</td>\n",
       "      <td>1.525496</td>\n",
       "      <td>3.623014</td>\n",
       "      <td>0.354294</td>\n",
       "    </tr>\n",
       "    <tr>\n",
       "      <th>2018-01-31</th>\n",
       "      <td>0.067594</td>\n",
       "      <td>1.149559</td>\n",
       "      <td>1.314299</td>\n",
       "      <td>2.955945</td>\n",
       "      <td>0.666182</td>\n",
       "    </tr>\n",
       "    <tr>\n",
       "      <th>2018-02-28</th>\n",
       "      <td>0.325006</td>\n",
       "      <td>1.017501</td>\n",
       "      <td>1.343026</td>\n",
       "      <td>2.691300</td>\n",
       "      <td>0.684598</td>\n",
       "    </tr>\n",
       "    <tr>\n",
       "      <th>2018-03-31</th>\n",
       "      <td>0.224467</td>\n",
       "      <td>1.653699</td>\n",
       "      <td>1.172986</td>\n",
       "      <td>2.929039</td>\n",
       "      <td>0.523164</td>\n",
       "    </tr>\n",
       "  </tbody>\n",
       "</table>\n",
       "<p>360752 rows × 5 columns</p>\n",
       "</div>"
      ],
      "text/plain": [
       "                     Mkt-RF       SMB       HML       RMW       CMA\n",
       "ticker date                                                        \n",
       "A      2001-01-31       NaN       NaN       NaN       NaN       NaN\n",
       "       2001-02-28       NaN       NaN       NaN       NaN       NaN\n",
       "       2001-03-31       NaN       NaN       NaN       NaN       NaN\n",
       "       2001-04-30       NaN       NaN       NaN       NaN       NaN\n",
       "       2001-05-31       NaN       NaN       NaN       NaN       NaN\n",
       "...                     ...       ...       ...       ...       ...\n",
       "ZUMZ   2017-11-30 -0.762338  1.308379  1.329555  3.443895  1.008053\n",
       "       2017-12-31 -0.959715  1.642217  1.525496  3.623014  0.354294\n",
       "       2018-01-31  0.067594  1.149559  1.314299  2.955945  0.666182\n",
       "       2018-02-28  0.325006  1.017501  1.343026  2.691300  0.684598\n",
       "       2018-03-31  0.224467  1.653699  1.172986  2.929039  0.523164\n",
       "\n",
       "[360752 rows x 5 columns]"
      ]
     },
     "execution_count": 27,
     "metadata": {},
     "output_type": "execute_result"
    }
   ],
   "source": [
    "betas"
   ]
  },
  {
   "cell_type": "code",
   "execution_count": 28,
   "metadata": {
    "ExecuteTime": {
     "end_time": "2021-04-15T19:42:45.366245Z",
     "start_time": "2021-04-15T19:42:45.093829Z"
    }
   },
   "outputs": [
    {
     "data": {
      "image/png": "[encoded data removed]",
      "text/plain": [
       "<Figure size 1000x1000 with 4 Axes>"
      ]
     },
     "metadata": {},
     "output_type": "display_data"
    }
   ],
   "source": [
    "cmap = sns.diverging_palette(10, 220, as_cmap=True)\n",
    "sns.clustermap(betas.corr(), annot=True, cmap=cmap, center=0)\n",
    "plt.show()"
   ]
  },
  {
   "cell_type": "code",
   "execution_count": 29,
   "metadata": {
    "ExecuteTime": {
     "end_time": "2021-04-15T19:42:45.456467Z",
     "start_time": "2021-04-15T19:42:45.367374Z"
    },
    "scrolled": true
   },
   "outputs": [
    {
     "name": "stdout",
     "output_type": "stream",
     "text": [
      "<class 'pandas.core.frame.DataFrame'>\n",
      "MultiIndex: 360752 entries, ('A', Timestamp('2001-01-31 00:00:00')) to ('ZUMZ', Timestamp('2018-03-31 00:00:00'))\n",
      "Data columns (total 11 columns):\n",
      " #   Column      Non-Null Count   Dtype  \n",
      "---  ------      --------------   -----  \n",
      " 0   return_1m   360752 non-null  float64\n",
      " 1   return_2m   360752 non-null  float64\n",
      " 2   return_3m   360752 non-null  float64\n",
      " 3   return_6m   360752 non-null  float64\n",
      " 4   return_9m   360752 non-null  float64\n",
      " 5   return_12m  360752 non-null  float64\n",
      " 6   Mkt-RF      316640 non-null  float64\n",
      " 7   SMB         316640 non-null  float64\n",
      " 8   HML         316640 non-null  float64\n",
      " 9   RMW         316640 non-null  float64\n",
      " 10  CMA         316640 non-null  float64\n",
      "dtypes: float64(11)\n",
      "memory usage: 39.8+ MB\n"
     ]
    }
   ],
   "source": [
    "data = data.join(betas.groupby(level=\"ticker\").shift())\n",
    "data.info()"
   ]
  },
  {
   "cell_type": "markdown",
   "metadata": {},
   "source": [
    "### Impute mean for missing factor betas\n"
   ]
  },
  {
   "cell_type": "code",
   "execution_count": 30,
   "metadata": {},
   "outputs": [
    {
     "data": {
      "text/plain": [
       "['Mkt-RF', 'SMB', 'HML', 'RMW', 'CMA']"
      ]
     },
     "execution_count": 30,
     "metadata": {},
     "output_type": "execute_result"
    }
   ],
   "source": [
    "factors"
   ]
  },
  {
   "cell_type": "code",
   "execution_count": 31,
   "metadata": {
    "ExecuteTime": {
     "end_time": "2021-04-15T19:42:47.627665Z",
     "start_time": "2021-04-15T19:42:45.458880Z"
    }
   },
   "outputs": [
    {
     "name": "stdout",
     "output_type": "stream",
     "text": [
      "<class 'pandas.core.frame.DataFrame'>\n",
      "MultiIndex: 360752 entries, ('A', Timestamp('2001-01-31 00:00:00')) to ('ZUMZ', Timestamp('2018-03-31 00:00:00'))\n",
      "Data columns (total 11 columns):\n",
      " #   Column      Non-Null Count   Dtype  \n",
      "---  ------      --------------   -----  \n",
      " 0   return_1m   360752 non-null  float64\n",
      " 1   return_2m   360752 non-null  float64\n",
      " 2   return_3m   360752 non-null  float64\n",
      " 3   return_6m   360752 non-null  float64\n",
      " 4   return_9m   360752 non-null  float64\n",
      " 5   return_12m  360752 non-null  float64\n",
      " 6   Mkt-RF      360752 non-null  float64\n",
      " 7   SMB         360752 non-null  float64\n",
      " 8   HML         360752 non-null  float64\n",
      " 9   RMW         360752 non-null  float64\n",
      " 10  CMA         360752 non-null  float64\n",
      "dtypes: float64(11)\n",
      "memory usage: 39.8+ MB\n"
     ]
    }
   ],
   "source": [
    "data.loc[:, factors] = (\n",
    "    data.groupby(\"ticker\")[factors]\n",
    "    .apply(lambda x: x.fillna(x.mean()))\n",
    "    .reset_index(level=0, drop=True)\n",
    ")\n",
    "data.info()"
   ]
  },
  {
   "cell_type": "markdown",
   "metadata": {},
   "source": [
    "## Momentum factors\n"
   ]
  },
  {
   "cell_type": "markdown",
   "metadata": {},
   "source": [
    "We can use these results to compute momentum factors based on the difference between returns over longer periods and the most recent monthly return, as well as for the difference between 3 and 12 month returns as follows:\n"
   ]
  },
  {
   "cell_type": "code",
   "execution_count": 32,
   "metadata": {
    "ExecuteTime": {
     "end_time": "2021-04-15T19:42:47.637631Z",
     "start_time": "2021-04-15T19:42:47.628920Z"
    }
   },
   "outputs": [],
   "source": [
    "for lag in [2, 3, 6, 9, 12]:\n",
    "    data[f\"momentum_{lag}\"] = data[f\"return_{lag}m\"] - data[\"return_1m\"]\n",
    "data[f\"momentum_3_12\"] = data[f\"return_12m\"] - data[\"return_3m\"]"
   ]
  },
  {
   "cell_type": "markdown",
   "metadata": {},
   "source": [
    "## Date Indicators\n"
   ]
  },
  {
   "cell_type": "code",
   "execution_count": 33,
   "metadata": {
    "ExecuteTime": {
     "end_time": "2021-04-15T19:42:47.684155Z",
     "start_time": "2021-04-15T19:42:47.638459Z"
    }
   },
   "outputs": [],
   "source": [
    "dates = data.index.get_level_values(\"date\")\n",
    "data[\"year\"] = dates.year\n",
    "data[\"month\"] = dates.month"
   ]
  },
  {
   "cell_type": "markdown",
   "metadata": {},
   "source": [
    "## Lagged returns\n"
   ]
  },
  {
   "cell_type": "markdown",
   "metadata": {},
   "source": [
    "To use lagged values as input variables or features associated with the current observations, we use the .shift() method to move historical returns up to the current period:\n"
   ]
  },
  {
   "cell_type": "code",
   "execution_count": 34,
   "metadata": {
    "ExecuteTime": {
     "end_time": "2021-04-15T19:42:47.833744Z",
     "start_time": "2021-04-15T19:42:47.685024Z"
    }
   },
   "outputs": [
    {
     "name": "stdout",
     "output_type": "stream",
     "text": [
      "<class 'pandas.core.frame.DataFrame'>\n",
      "MultiIndex: 360752 entries, ('A', Timestamp('2001-01-31 00:00:00')) to ('ZUMZ', Timestamp('2018-03-31 00:00:00'))\n",
      "Data columns (total 25 columns):\n",
      " #   Column         Non-Null Count   Dtype  \n",
      "---  ------         --------------   -----  \n",
      " 0   return_1m      360752 non-null  float64\n",
      " 1   return_2m      360752 non-null  float64\n",
      " 2   return_3m      360752 non-null  float64\n",
      " 3   return_6m      360752 non-null  float64\n",
      " 4   return_9m      360752 non-null  float64\n",
      " 5   return_12m     360752 non-null  float64\n",
      " 6   Mkt-RF         360752 non-null  float64\n",
      " 7   SMB            360752 non-null  float64\n",
      " 8   HML            360752 non-null  float64\n",
      " 9   RMW            360752 non-null  float64\n",
      " 10  CMA            360752 non-null  float64\n",
      " 11  momentum_2     360752 non-null  float64\n",
      " 12  momentum_3     360752 non-null  float64\n",
      " 13  momentum_6     360752 non-null  float64\n",
      " 14  momentum_9     360752 non-null  float64\n",
      " 15  momentum_12    360752 non-null  float64\n",
      " 16  momentum_3_12  360752 non-null  float64\n",
      " 17  year           360752 non-null  int32  \n",
      " 18  month          360752 non-null  int32  \n",
      " 19  return_1m_t-1  358914 non-null  float64\n",
      " 20  return_1m_t-2  357076 non-null  float64\n",
      " 21  return_1m_t-3  355238 non-null  float64\n",
      " 22  return_1m_t-4  353400 non-null  float64\n",
      " 23  return_1m_t-5  351562 non-null  float64\n",
      " 24  return_1m_t-6  349724 non-null  float64\n",
      "dtypes: float64(23), int32(2)\n",
      "memory usage: 75.6+ MB\n"
     ]
    }
   ],
   "source": [
    "for t in range(1, 7):\n",
    "    data[f\"return_1m_t-{t}\"] = data.groupby(level=\"ticker\").return_1m.shift(t)\n",
    "data.info()"
   ]
  },
  {
   "cell_type": "markdown",
   "metadata": {},
   "source": [
    "## Target: Holding Period Returns\n"
   ]
  },
  {
   "cell_type": "markdown",
   "metadata": {},
   "source": [
    "Similarly, to compute returns for various holding periods, we use the normalized period returns computed previously and shift them back to align them with the current financial features\n"
   ]
  },
  {
   "cell_type": "code",
   "execution_count": 35,
   "metadata": {
    "ExecuteTime": {
     "end_time": "2021-04-15T19:42:47.945813Z",
     "start_time": "2021-04-15T19:42:47.834603Z"
    }
   },
   "outputs": [],
   "source": [
    "for t in [1, 2, 3, 6, 12]:\n",
    "    data[f\"target_{t}m\"] = data.groupby(level=\"ticker\")[f\"return_{t}m\"].shift(-t)"
   ]
  },
  {
   "cell_type": "code",
   "execution_count": 36,
   "metadata": {
    "ExecuteTime": {
     "end_time": "2021-04-15T19:42:48.020064Z",
     "start_time": "2021-04-15T19:42:47.946666Z"
    }
   },
   "outputs": [
    {
     "data": {
      "text/html": [
       "<div>\n",
       "<style scoped>\n",
       "    .dataframe tbody tr th:only-of-type {\n",
       "        vertical-align: middle;\n",
       "    }\n",
       "\n",
       "    .dataframe tbody tr th {\n",
       "        vertical-align: top;\n",
       "    }\n",
       "\n",
       "    .dataframe thead th {\n",
       "        text-align: right;\n",
       "    }\n",
       "</style>\n",
       "<table border=\"1\" class=\"dataframe\">\n",
       "  <thead>\n",
       "    <tr style=\"text-align: right;\">\n",
       "      <th></th>\n",
       "      <th></th>\n",
       "      <th>target_1m</th>\n",
       "      <th>target_2m</th>\n",
       "      <th>target_3m</th>\n",
       "      <th>return_1m</th>\n",
       "      <th>return_2m</th>\n",
       "      <th>return_3m</th>\n",
       "      <th>return_1m_t-1</th>\n",
       "      <th>return_1m_t-2</th>\n",
       "      <th>return_1m_t-3</th>\n",
       "    </tr>\n",
       "    <tr>\n",
       "      <th>ticker</th>\n",
       "      <th>date</th>\n",
       "      <th></th>\n",
       "      <th></th>\n",
       "      <th></th>\n",
       "      <th></th>\n",
       "      <th></th>\n",
       "      <th></th>\n",
       "      <th></th>\n",
       "      <th></th>\n",
       "      <th></th>\n",
       "    </tr>\n",
       "  </thead>\n",
       "  <tbody>\n",
       "    <tr>\n",
       "      <th rowspan=\"10\" valign=\"top\">A</th>\n",
       "      <th>2001-04-30</th>\n",
       "      <td>-0.140220</td>\n",
       "      <td>-0.087246</td>\n",
       "      <td>-0.098192</td>\n",
       "      <td>0.269444</td>\n",
       "      <td>0.040966</td>\n",
       "      <td>-0.105747</td>\n",
       "      <td>-0.146389</td>\n",
       "      <td>-0.329564</td>\n",
       "      <td>-0.003653</td>\n",
       "    </tr>\n",
       "    <tr>\n",
       "      <th>2001-05-31</th>\n",
       "      <td>-0.031008</td>\n",
       "      <td>-0.076414</td>\n",
       "      <td>-0.075527</td>\n",
       "      <td>-0.140220</td>\n",
       "      <td>0.044721</td>\n",
       "      <td>-0.023317</td>\n",
       "      <td>0.269444</td>\n",
       "      <td>-0.146389</td>\n",
       "      <td>-0.329564</td>\n",
       "    </tr>\n",
       "    <tr>\n",
       "      <th>2001-06-30</th>\n",
       "      <td>-0.119692</td>\n",
       "      <td>-0.097014</td>\n",
       "      <td>-0.155847</td>\n",
       "      <td>-0.031008</td>\n",
       "      <td>-0.087246</td>\n",
       "      <td>0.018842</td>\n",
       "      <td>-0.140220</td>\n",
       "      <td>0.269444</td>\n",
       "      <td>-0.146389</td>\n",
       "    </tr>\n",
       "    <tr>\n",
       "      <th>2001-07-31</th>\n",
       "      <td>-0.073750</td>\n",
       "      <td>-0.173364</td>\n",
       "      <td>-0.080114</td>\n",
       "      <td>-0.119692</td>\n",
       "      <td>-0.076414</td>\n",
       "      <td>-0.098192</td>\n",
       "      <td>-0.031008</td>\n",
       "      <td>-0.140220</td>\n",
       "      <td>0.269444</td>\n",
       "    </tr>\n",
       "    <tr>\n",
       "      <th>2001-08-31</th>\n",
       "      <td>-0.262264</td>\n",
       "      <td>-0.083279</td>\n",
       "      <td>0.009593</td>\n",
       "      <td>-0.073750</td>\n",
       "      <td>-0.097014</td>\n",
       "      <td>-0.075527</td>\n",
       "      <td>-0.119692</td>\n",
       "      <td>-0.031008</td>\n",
       "      <td>-0.140220</td>\n",
       "    </tr>\n",
       "    <tr>\n",
       "      <th>2001-09-30</th>\n",
       "      <td>0.139130</td>\n",
       "      <td>0.181052</td>\n",
       "      <td>0.134010</td>\n",
       "      <td>-0.262264</td>\n",
       "      <td>-0.173364</td>\n",
       "      <td>-0.155847</td>\n",
       "      <td>-0.073750</td>\n",
       "      <td>-0.119692</td>\n",
       "      <td>-0.031008</td>\n",
       "    </tr>\n",
       "    <tr>\n",
       "      <th>2001-10-31</th>\n",
       "      <td>0.224517</td>\n",
       "      <td>0.131458</td>\n",
       "      <td>0.108697</td>\n",
       "      <td>0.139130</td>\n",
       "      <td>-0.083279</td>\n",
       "      <td>-0.080114</td>\n",
       "      <td>-0.262264</td>\n",
       "      <td>-0.073750</td>\n",
       "      <td>-0.119692</td>\n",
       "    </tr>\n",
       "    <tr>\n",
       "      <th>2001-11-30</th>\n",
       "      <td>0.045471</td>\n",
       "      <td>0.054962</td>\n",
       "      <td>0.045340</td>\n",
       "      <td>0.224517</td>\n",
       "      <td>0.181052</td>\n",
       "      <td>0.009593</td>\n",
       "      <td>0.139130</td>\n",
       "      <td>-0.262264</td>\n",
       "      <td>-0.073750</td>\n",
       "    </tr>\n",
       "    <tr>\n",
       "      <th>2001-12-31</th>\n",
       "      <td>0.064539</td>\n",
       "      <td>0.045275</td>\n",
       "      <td>0.070347</td>\n",
       "      <td>0.045471</td>\n",
       "      <td>0.131458</td>\n",
       "      <td>0.134010</td>\n",
       "      <td>0.224517</td>\n",
       "      <td>0.139130</td>\n",
       "      <td>-0.262264</td>\n",
       "    </tr>\n",
       "    <tr>\n",
       "      <th>2002-01-31</th>\n",
       "      <td>0.026359</td>\n",
       "      <td>0.073264</td>\n",
       "      <td>-0.003306</td>\n",
       "      <td>0.064539</td>\n",
       "      <td>0.054962</td>\n",
       "      <td>0.108697</td>\n",
       "      <td>0.045471</td>\n",
       "      <td>0.224517</td>\n",
       "      <td>0.139130</td>\n",
       "    </tr>\n",
       "  </tbody>\n",
       "</table>\n",
       "</div>"
      ],
      "text/plain": [
       "                   target_1m  target_2m  target_3m  return_1m  return_2m  \\\n",
       "ticker date                                                                \n",
       "A      2001-04-30  -0.140220  -0.087246  -0.098192   0.269444   0.040966   \n",
       "       2001-05-31  -0.031008  -0.076414  -0.075527  -0.140220   0.044721   \n",
       "       2001-06-30  -0.119692  -0.097014  -0.155847  -0.031008  -0.087246   \n",
       "       2001-07-31  -0.073750  -0.173364  -0.080114  -0.119692  -0.076414   \n",
       "       2001-08-31  -0.262264  -0.083279   0.009593  -0.073750  -0.097014   \n",
       "       2001-09-30   0.139130   0.181052   0.134010  -0.262264  -0.173364   \n",
       "       2001-10-31   0.224517   0.131458   0.108697   0.139130  -0.083279   \n",
       "       2001-11-30   0.045471   0.054962   0.045340   0.224517   0.181052   \n",
       "       2001-12-31   0.064539   0.045275   0.070347   0.045471   0.131458   \n",
       "       2002-01-31   0.026359   0.073264  -0.003306   0.064539   0.054962   \n",
       "\n",
       "                   return_3m  return_1m_t-1  return_1m_t-2  return_1m_t-3  \n",
       "ticker date                                                                \n",
       "A      2001-04-30  -0.105747      -0.146389      -0.329564      -0.003653  \n",
       "       2001-05-31  -0.023317       0.269444      -0.146389      -0.329564  \n",
       "       2001-06-30   0.018842      -0.140220       0.269444      -0.146389  \n",
       "       2001-07-31  -0.098192      -0.031008      -0.140220       0.269444  \n",
       "       2001-08-31  -0.075527      -0.119692      -0.031008      -0.140220  \n",
       "       2001-09-30  -0.155847      -0.073750      -0.119692      -0.031008  \n",
       "       2001-10-31  -0.080114      -0.262264      -0.073750      -0.119692  \n",
       "       2001-11-30   0.009593       0.139130      -0.262264      -0.073750  \n",
       "       2001-12-31   0.134010       0.224517       0.139130      -0.262264  \n",
       "       2002-01-31   0.108697       0.045471       0.224517       0.139130  "
      ]
     },
     "execution_count": 36,
     "metadata": {},
     "output_type": "execute_result"
    }
   ],
   "source": [
    "cols = [\n",
    "    \"target_1m\",\n",
    "    \"target_2m\",\n",
    "    \"target_3m\",\n",
    "    \"return_1m\",\n",
    "    \"return_2m\",\n",
    "    \"return_3m\",\n",
    "    \"return_1m_t-1\",\n",
    "    \"return_1m_t-2\",\n",
    "    \"return_1m_t-3\",\n",
    "]\n",
    "\n",
    "data[cols].dropna().sort_index().head(10)"
   ]
  },
  {
   "cell_type": "code",
   "execution_count": 37,
   "metadata": {
    "ExecuteTime": {
     "end_time": "2021-04-15T19:42:48.040307Z",
     "start_time": "2021-04-15T19:42:48.020850Z"
    }
   },
   "outputs": [
    {
     "name": "stdout",
     "output_type": "stream",
     "text": [
      "<class 'pandas.core.frame.DataFrame'>\n",
      "MultiIndex: 360752 entries, ('A', Timestamp('2001-01-31 00:00:00')) to ('ZUMZ', Timestamp('2018-03-31 00:00:00'))\n",
      "Data columns (total 30 columns):\n",
      " #   Column         Non-Null Count   Dtype  \n",
      "---  ------         --------------   -----  \n",
      " 0   return_1m      360752 non-null  float64\n",
      " 1   return_2m      360752 non-null  float64\n",
      " 2   return_3m      360752 non-null  float64\n",
      " 3   return_6m      360752 non-null  float64\n",
      " 4   return_9m      360752 non-null  float64\n",
      " 5   return_12m     360752 non-null  float64\n",
      " 6   Mkt-RF         360752 non-null  float64\n",
      " 7   SMB            360752 non-null  float64\n",
      " 8   HML            360752 non-null  float64\n",
      " 9   RMW            360752 non-null  float64\n",
      " 10  CMA            360752 non-null  float64\n",
      " 11  momentum_2     360752 non-null  float64\n",
      " 12  momentum_3     360752 non-null  float64\n",
      " 13  momentum_6     360752 non-null  float64\n",
      " 14  momentum_9     360752 non-null  float64\n",
      " 15  momentum_12    360752 non-null  float64\n",
      " 16  momentum_3_12  360752 non-null  float64\n",
      " 17  year           360752 non-null  int32  \n",
      " 18  month          360752 non-null  int32  \n",
      " 19  return_1m_t-1  358914 non-null  float64\n",
      " 20  return_1m_t-2  357076 non-null  float64\n",
      " 21  return_1m_t-3  355238 non-null  float64\n",
      " 22  return_1m_t-4  353400 non-null  float64\n",
      " 23  return_1m_t-5  351562 non-null  float64\n",
      " 24  return_1m_t-6  349724 non-null  float64\n",
      " 25  target_1m      358914 non-null  float64\n",
      " 26  target_2m      357076 non-null  float64\n",
      " 27  target_3m      355238 non-null  float64\n",
      " 28  target_6m      349724 non-null  float64\n",
      " 29  target_12m     338696 non-null  float64\n",
      "dtypes: float64(28), int32(2)\n",
      "memory usage: 89.3+ MB\n"
     ]
    }
   ],
   "source": [
    "data.info()"
   ]
  },
  {
   "cell_type": "markdown",
   "metadata": {},
   "source": [
    "## Create age proxy\n"
   ]
  },
  {
   "cell_type": "markdown",
   "metadata": {},
   "source": [
    "We use quintiles of IPO year as a proxy for company age.\n"
   ]
  },
  {
   "cell_type": "code",
   "execution_count": 38,
   "metadata": {
    "ExecuteTime": {
     "end_time": "2021-04-15T19:42:48.061542Z",
     "start_time": "2021-04-15T19:42:48.041100Z"
    }
   },
   "outputs": [],
   "source": [
    "data = data.join(\n",
    "    pd.qcut(stocks[\"ipoyear\"], q=5, labels=list(range(1, 6)))\n",
    "    .astype(float)\n",
    "    .fillna(0)\n",
    "    .astype(int)\n",
    "    .to_frame(\"age\")\n",
    ")\n",
    "data[\"age\"] = data[\"age\"].fillna(-1)"
   ]
  },
  {
   "cell_type": "markdown",
   "metadata": {},
   "source": [
    "## Create dynamic size proxy\n"
   ]
  },
  {
   "cell_type": "markdown",
   "metadata": {},
   "source": [
    "We use the marketcap information from the NASDAQ ticker info to create a size proxy.\n"
   ]
  },
  {
   "cell_type": "code",
   "execution_count": 39,
   "metadata": {
    "ExecuteTime": {
     "end_time": "2021-04-15T19:42:48.067917Z",
     "start_time": "2021-04-15T19:42:48.062397Z"
    }
   },
   "outputs": [
    {
     "name": "stdout",
     "output_type": "stream",
     "text": [
      "<class 'pandas.core.frame.DataFrame'>\n",
      "Index: 2412 entries, A to ZUMZ\n",
      "Data columns (total 3 columns):\n",
      " #   Column     Non-Null Count  Dtype  \n",
      "---  ------     --------------  -----  \n",
      " 0   marketcap  2407 non-null   float64\n",
      " 1   ipoyear    1065 non-null   float64\n",
      " 2   sector     2372 non-null   object \n",
      "dtypes: float64(2), object(1)\n",
      "memory usage: 139.9+ KB\n"
     ]
    }
   ],
   "source": [
    "stocks.info()"
   ]
  },
  {
   "cell_type": "markdown",
   "metadata": {},
   "source": [
    "Market cap information is tied to currrent prices. We create an adjustment factor to have the values reflect lower historical prices for each individual stock:\n"
   ]
  },
  {
   "cell_type": "code",
   "execution_count": 40,
   "metadata": {
    "ExecuteTime": {
     "end_time": "2021-04-15T19:42:48.144287Z",
     "start_time": "2021-04-15T19:42:48.068650Z"
    }
   },
   "outputs": [
    {
     "name": "stdout",
     "output_type": "stream",
     "text": [
      "<class 'pandas.core.frame.DataFrame'>\n",
      "DatetimeIndex: 207 entries, 2018-03-31 to 2001-01-31\n",
      "Columns: 1838 entries, A to ZUMZ\n",
      "dtypes: float64(1838)\n",
      "memory usage: 2.9 MB\n"
     ]
    }
   ],
   "source": [
    "size_factor: pd.DataFrame = (\n",
    "    monthly_prices.loc[\n",
    "        data.index.get_level_values(\"date\").unique(),\n",
    "        data.index.get_level_values(\"ticker\").unique(),\n",
    "    ]\n",
    "    .sort_index(ascending=False)\n",
    "    .pct_change()\n",
    "    .fillna(0)\n",
    "    .add(1)\n",
    "    .cumprod()\n",
    ")\n",
    "size_factor.info()"
   ]
  },
  {
   "cell_type": "code",
   "execution_count": 41,
   "metadata": {
    "ExecuteTime": {
     "end_time": "2021-04-15T19:42:48.153203Z",
     "start_time": "2021-04-15T19:42:48.145309Z"
    }
   },
   "outputs": [],
   "source": [
    "msize = (size_factor.mul(stocks.loc[size_factor.columns, \"marketcap\"])).dropna(\n",
    "    axis=1, how=\"all\"\n",
    ")"
   ]
  },
  {
   "cell_type": "markdown",
   "metadata": {},
   "source": [
    "### Create Size indicator as deciles per period\n"
   ]
  },
  {
   "cell_type": "markdown",
   "metadata": {},
   "source": [
    "Compute size deciles per month:\n"
   ]
  },
  {
   "cell_type": "code",
   "execution_count": 42,
   "metadata": {
    "ExecuteTime": {
     "end_time": "2021-04-15T19:42:49.795031Z",
     "start_time": "2021-04-15T19:42:48.154005Z"
    }
   },
   "outputs": [],
   "source": [
    "data[\"msize\"] = (\n",
    "    msize.apply(\n",
    "        lambda x: pd.qcut(x, q=10, labels=list(range(1, 11))).astype(int), axis=1\n",
    "    )\n",
    "    .stack()\n",
    "    .swaplevel()\n",
    ")\n",
    "data[\"msize\"] = data[\"msize\"].fillna(-1)"
   ]
  },
  {
   "cell_type": "markdown",
   "metadata": {},
   "source": [
    "## Combine data\n"
   ]
  },
  {
   "cell_type": "code",
   "execution_count": 43,
   "metadata": {
    "ExecuteTime": {
     "end_time": "2021-04-15T19:42:49.832155Z",
     "start_time": "2021-04-15T19:42:49.795874Z"
    }
   },
   "outputs": [],
   "source": [
    "data = data.join(stocks[[\"sector\"]])\n",
    "data[\"sector\"] = data[\"sector\"].fillna(\"Unknown\")"
   ]
  },
  {
   "cell_type": "code",
   "execution_count": 44,
   "metadata": {
    "ExecuteTime": {
     "end_time": "2021-04-15T19:42:49.863430Z",
     "start_time": "2021-04-15T19:42:49.833060Z"
    },
    "scrolled": false
   },
   "outputs": [
    {
     "name": "stdout",
     "output_type": "stream",
     "text": [
      "<class 'pandas.core.frame.DataFrame'>\n",
      "MultiIndex: 360752 entries, ('A', Timestamp('2001-01-31 00:00:00')) to ('ZUMZ', Timestamp('2018-03-31 00:00:00'))\n",
      "Data columns (total 33 columns):\n",
      " #   Column         Non-Null Count   Dtype  \n",
      "---  ------         --------------   -----  \n",
      " 0   return_1m      360752 non-null  float64\n",
      " 1   return_2m      360752 non-null  float64\n",
      " 2   return_3m      360752 non-null  float64\n",
      " 3   return_6m      360752 non-null  float64\n",
      " 4   return_9m      360752 non-null  float64\n",
      " 5   return_12m     360752 non-null  float64\n",
      " 6   Mkt-RF         360752 non-null  float64\n",
      " 7   SMB            360752 non-null  float64\n",
      " 8   HML            360752 non-null  float64\n",
      " 9   RMW            360752 non-null  float64\n",
      " 10  CMA            360752 non-null  float64\n",
      " 11  momentum_2     360752 non-null  float64\n",
      " 12  momentum_3     360752 non-null  float64\n",
      " 13  momentum_6     360752 non-null  float64\n",
      " 14  momentum_9     360752 non-null  float64\n",
      " 15  momentum_12    360752 non-null  float64\n",
      " 16  momentum_3_12  360752 non-null  float64\n",
      " 17  year           360752 non-null  int32  \n",
      " 18  month          360752 non-null  int32  \n",
      " 19  return_1m_t-1  358914 non-null  float64\n",
      " 20  return_1m_t-2  357076 non-null  float64\n",
      " 21  return_1m_t-3  355238 non-null  float64\n",
      " 22  return_1m_t-4  353400 non-null  float64\n",
      " 23  return_1m_t-5  351562 non-null  float64\n",
      " 24  return_1m_t-6  349724 non-null  float64\n",
      " 25  target_1m      358914 non-null  float64\n",
      " 26  target_2m      357076 non-null  float64\n",
      " 27  target_3m      355238 non-null  float64\n",
      " 28  target_6m      349724 non-null  float64\n",
      " 29  target_12m     338696 non-null  float64\n",
      " 30  age            360752 non-null  int32  \n",
      " 31  msize          360752 non-null  float64\n",
      " 32  sector         360752 non-null  object \n",
      "dtypes: float64(29), int32(3), object(1)\n",
      "memory usage: 96.2+ MB\n"
     ]
    }
   ],
   "source": [
    "data.info()"
   ]
  },
  {
   "cell_type": "markdown",
   "metadata": {},
   "source": [
    "## Store data\n"
   ]
  },
  {
   "cell_type": "markdown",
   "metadata": {},
   "source": [
    "We will use the data again in several later chapters, starting in [Chapter 7 on Linear Models](../07_linear_models).\n"
   ]
  },
  {
   "cell_type": "code",
   "execution_count": 45,
   "metadata": {
    "ExecuteTime": {
     "end_time": "2021-04-15T19:42:50.165429Z",
     "start_time": "2021-04-15T19:42:49.864236Z"
    },
    "scrolled": false
   },
   "outputs": [
    {
     "name": "stdout",
     "output_type": "stream",
     "text": [
      "<class 'pandas.io.pytables.HDFStore'>\n",
      "File path: ../data/assets.h5\n",
      "/engineered_features                        frame        (shape->[358914,33])                                                               \n",
      "/fred/assets                                frame        (shape->[6419,4])                                                                  \n",
      "/quandl/wiki/prices                         frame        (shape->[15389314,12])                                                             \n",
      "/quandl/wiki/stocks                         frame        (shape->[1,2])                                                                     \n",
      "/sp500/fred                                 frame        (shape->[2610,1])                                                                  \n",
      "/sp500/stocks                               frame        (shape->[503,7])                                                                   \n",
      "/sp500/stooq                                frame        (shape->[17602,5])                                                                 \n",
      "/stooq/jp/tse/stocks/prices                 frame_table  (typ->appendable_multi,nrows->9514419,ncols->7,indexers->[index],dc->[date,ticker])\n",
      "/stooq/jp/tse/stocks/tickers                frame_table  (typ->appendable,nrows->3885,ncols->2,indexers->[index],dc->[])                    \n",
      "/stooq/us/nasdaq/etfs/prices                frame_table  (typ->appendable_multi,nrows->533930,ncols->7,indexers->[index],dc->[date,ticker]) \n",
      "/stooq/us/nasdaq/etfs/tickers               frame_table  (typ->appendable,nrows->353,ncols->2,indexers->[index],dc->[])                     \n",
      "/stooq/us/nasdaq/stocks/prices              frame_table  (typ->appendable_multi,nrows->4921671,ncols->7,indexers->[index],dc->[date,ticker])\n",
      "/stooq/us/nasdaq/stocks/tickers             frame_table  (typ->appendable,nrows->4609,ncols->2,indexers->[index],dc->[])                    \n",
      "/stooq/us/nyse/etfs/prices                  frame_table  (typ->appendable_multi,nrows->2654338,ncols->7,indexers->[index],dc->[date,ticker])\n",
      "/stooq/us/nyse/etfs/tickers                 frame_table  (typ->appendable,nrows->2865,ncols->2,indexers->[index],dc->[])                    \n",
      "/stooq/us/nyse/stocks/prices                frame_table  (typ->appendable_multi,nrows->6024720,ncols->7,indexers->[index],dc->[date,ticker])\n",
      "/stooq/us/nyse/stocks/tickers               frame_table  (typ->appendable,nrows->3014,ncols->2,indexers->[index],dc->[])                    \n",
      "/stooq/us/nysemkt/stocks/prices             frame_table  (typ->appendable_multi,nrows->569654,ncols->7,indexers->[index],dc->[date,ticker]) \n",
      "/stooq/us/nysemkt/stocks/tickers            frame_table  (typ->appendable,nrows->323,ncols->2,indexers->[index],dc->[])                     \n",
      "/us_equities/stocks                         frame        (shape->[6834,6])                                                                  \n"
     ]
    }
   ],
   "source": [
    "with pd.HDFStore(DATA_STORE) as store:\n",
    "    store.put(\n",
    "        \"engineered_features\", data.sort_index().loc[idx[:, : datetime(2018, 3, 1)], :]\n",
    "    )\n",
    "    print(store.info())"
   ]
  },
  {
   "cell_type": "markdown",
   "metadata": {},
   "source": [
    "## Create Dummy variables\n"
   ]
  },
  {
   "cell_type": "markdown",
   "metadata": {},
   "source": [
    "For most models, we need to encode categorical variables as 'dummies' (one-hot encoding):\n"
   ]
  },
  {
   "cell_type": "code",
   "execution_count": 46,
   "metadata": {
    "ExecuteTime": {
     "end_time": "2021-04-15T19:42:50.404583Z",
     "start_time": "2021-04-15T19:42:50.166383Z"
    },
    "scrolled": false
   },
   "outputs": [
    {
     "name": "stdout",
     "output_type": "stream",
     "text": [
      "<class 'pandas.core.frame.DataFrame'>\n",
      "MultiIndex: 360752 entries, ('A', Timestamp('2001-01-31 00:00:00')) to ('ZUMZ', Timestamp('2018-03-31 00:00:00'))\n",
      "Data columns (total 88 columns):\n",
      " #   Column                 Non-Null Count   Dtype  \n",
      "---  ------                 --------------   -----  \n",
      " 0   return_1m              360752 non-null  float64\n",
      " 1   return_2m              360752 non-null  float64\n",
      " 2   return_3m              360752 non-null  float64\n",
      " 3   return_6m              360752 non-null  float64\n",
      " 4   return_9m              360752 non-null  float64\n",
      " 5   return_12m             360752 non-null  float64\n",
      " 6   Mkt-RF                 360752 non-null  float64\n",
      " 7   SMB                    360752 non-null  float64\n",
      " 8   HML                    360752 non-null  float64\n",
      " 9   RMW                    360752 non-null  float64\n",
      " 10  CMA                    360752 non-null  float64\n",
      " 11  momentum_2             360752 non-null  float64\n",
      " 12  momentum_3             360752 non-null  float64\n",
      " 13  momentum_6             360752 non-null  float64\n",
      " 14  momentum_9             360752 non-null  float64\n",
      " 15  momentum_12            360752 non-null  float64\n",
      " 16  momentum_3_12          360752 non-null  float64\n",
      " 17  return_1m_t-1          358914 non-null  float64\n",
      " 18  return_1m_t-2          357076 non-null  float64\n",
      " 19  return_1m_t-3          355238 non-null  float64\n",
      " 20  return_1m_t-4          353400 non-null  float64\n",
      " 21  return_1m_t-5          351562 non-null  float64\n",
      " 22  return_1m_t-6          349724 non-null  float64\n",
      " 23  target_1m              358914 non-null  float64\n",
      " 24  target_2m              357076 non-null  float64\n",
      " 25  target_3m              355238 non-null  float64\n",
      " 26  target_6m              349724 non-null  float64\n",
      " 27  target_12m             338696 non-null  float64\n",
      " 28  year_2001              360752 non-null  bool   \n",
      " 29  year_2002              360752 non-null  bool   \n",
      " 30  year_2003              360752 non-null  bool   \n",
      " 31  year_2004              360752 non-null  bool   \n",
      " 32  year_2005              360752 non-null  bool   \n",
      " 33  year_2006              360752 non-null  bool   \n",
      " 34  year_2007              360752 non-null  bool   \n",
      " 35  year_2008              360752 non-null  bool   \n",
      " 36  year_2009              360752 non-null  bool   \n",
      " 37  year_2010              360752 non-null  bool   \n",
      " 38  year_2011              360752 non-null  bool   \n",
      " 39  year_2012              360752 non-null  bool   \n",
      " 40  year_2013              360752 non-null  bool   \n",
      " 41  year_2014              360752 non-null  bool   \n",
      " 42  year_2015              360752 non-null  bool   \n",
      " 43  year_2016              360752 non-null  bool   \n",
      " 44  year_2017              360752 non-null  bool   \n",
      " 45  year_2018              360752 non-null  bool   \n",
      " 46  month_1                360752 non-null  bool   \n",
      " 47  month_2                360752 non-null  bool   \n",
      " 48  month_3                360752 non-null  bool   \n",
      " 49  month_4                360752 non-null  bool   \n",
      " 50  month_5                360752 non-null  bool   \n",
      " 51  month_6                360752 non-null  bool   \n",
      " 52  month_7                360752 non-null  bool   \n",
      " 53  month_8                360752 non-null  bool   \n",
      " 54  month_9                360752 non-null  bool   \n",
      " 55  month_10               360752 non-null  bool   \n",
      " 56  month_11               360752 non-null  bool   \n",
      " 57  month_12               360752 non-null  bool   \n",
      " 58  msize_-1               360752 non-null  bool   \n",
      " 59  msize_1                360752 non-null  bool   \n",
      " 60  msize_2                360752 non-null  bool   \n",
      " 61  msize_3                360752 non-null  bool   \n",
      " 62  msize_4                360752 non-null  bool   \n",
      " 63  msize_5                360752 non-null  bool   \n",
      " 64  msize_6                360752 non-null  bool   \n",
      " 65  msize_7                360752 non-null  bool   \n",
      " 66  msize_8                360752 non-null  bool   \n",
      " 67  msize_9                360752 non-null  bool   \n",
      " 68  msize_10               360752 non-null  bool   \n",
      " 69  age_0                  360752 non-null  bool   \n",
      " 70  age_1                  360752 non-null  bool   \n",
      " 71  age_2                  360752 non-null  bool   \n",
      " 72  age_3                  360752 non-null  bool   \n",
      " 73  age_4                  360752 non-null  bool   \n",
      " 74  age_5                  360752 non-null  bool   \n",
      " 75  Basic Industries       360752 non-null  bool   \n",
      " 76  Capital Goods          360752 non-null  bool   \n",
      " 77  Consumer Durables      360752 non-null  bool   \n",
      " 78  Consumer Non-Durables  360752 non-null  bool   \n",
      " 79  Consumer Services      360752 non-null  bool   \n",
      " 80  Energy                 360752 non-null  bool   \n",
      " 81  Finance                360752 non-null  bool   \n",
      " 82  Health Care            360752 non-null  bool   \n",
      " 83  Miscellaneous          360752 non-null  bool   \n",
      " 84  Public Utilities       360752 non-null  bool   \n",
      " 85  Technology             360752 non-null  bool   \n",
      " 86  Transportation         360752 non-null  bool   \n",
      " 87  Unknown                360752 non-null  bool   \n",
      "dtypes: bool(60), float64(28)\n",
      "memory usage: 107.2+ MB\n"
     ]
    }
   ],
   "source": [
    "dummy_data = pd.get_dummies(\n",
    "    data,\n",
    "    columns=[\"year\", \"month\", \"msize\", \"age\", \"sector\"],\n",
    "    prefix=[\"year\", \"month\", \"msize\", \"age\", \"\"],\n",
    "    prefix_sep=[\"_\", \"_\", \"_\", \"_\", \"\"],\n",
    ")\n",
    "dummy_data = dummy_data.rename(\n",
    "    columns={c: c.replace(\".0\", \"\") for c in dummy_data.columns}\n",
    ")\n",
    "dummy_data.info()"
   ]
  }
 ],
 "metadata": {
  "kernelspec": {
   "display_name": "Python 3",
   "language": "python",
   "name": "python3"
  },
  "language_info": {
   "codemirror_mode": {
    "name": "ipython",
    "version": 3
   },
   "file_extension": ".py",
   "mimetype": "text/x-python",
   "name": "python",
   "nbconvert_exporter": "python",
   "pygments_lexer": "ipython3",
   "version": "3.11.9"
  },
  "toc": {
   "base_numbering": 1,
   "nav_menu": {},
   "number_sections": true,
   "sideBar": true,
   "skip_h1_title": true,
   "title_cell": "Table of Contents",
   "title_sidebar": "Contents",
   "toc_cell": false,
   "toc_position": {
    "height": "calc(100% - 180px)",
    "left": "10px",
    "top": "150px",
    "width": "230.355px"
   },
   "toc_section_display": true,
   "toc_window_display": true
  }
 },
 "nbformat": 4,
 "nbformat_minor": 2
}
