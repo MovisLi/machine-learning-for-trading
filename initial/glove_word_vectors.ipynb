{
 "cells": [
  {
   "cell_type": "markdown",
   "metadata": {},
   "source": [
    "# Download Pre-Trained Global Vectors (GloVe) for Word Representation\n"
   ]
  },
  {
   "cell_type": "markdown",
   "metadata": {},
   "source": [
    "We use a dataset that contains 1.6 million training and 350 test tweets from 2009 with algorithmically assigned binary positive and negative sentiment scores that are fairly evenly split.\n"
   ]
  },
  {
   "cell_type": "markdown",
   "metadata": {},
   "source": [
    "## Imports & Settings\n"
   ]
  },
  {
   "cell_type": "code",
   "execution_count": 1,
   "metadata": {
    "ExecuteTime": {
     "end_time": "2021-02-23T05:06:46.301154Z",
     "start_time": "2021-02-23T05:06:46.265026Z"
    }
   },
   "outputs": [],
   "source": [
    "from pathlib import Path\n",
    "import requests\n",
    "from io import BytesIO\n",
    "from zipfile import ZipFile\n",
    "from tqdm import tqdm"
   ]
  },
  {
   "cell_type": "markdown",
   "metadata": {},
   "source": [
    "## Download and unzip\n"
   ]
  },
  {
   "cell_type": "markdown",
   "metadata": {},
   "source": [
    "You can learn more about the data and manually download them from [here](https://nlp.stanford.edu/projects/glove/).\n"
   ]
  },
  {
   "cell_type": "code",
   "execution_count": 2,
   "metadata": {
    "ExecuteTime": {
     "end_time": "2021-02-23T05:06:46.303974Z",
     "start_time": "2021-02-23T05:06:46.302216Z"
    }
   },
   "outputs": [],
   "source": [
    "path = Path(\"../data/glove\")\n",
    "if not path.exists():\n",
    "    path.mkdir()"
   ]
  },
  {
   "cell_type": "code",
   "execution_count": 7,
   "metadata": {
    "ExecuteTime": {
     "end_time": "2021-02-23T05:06:46.333523Z",
     "start_time": "2021-02-23T05:06:46.305049Z"
    }
   },
   "outputs": [],
   "source": [
    "URLs = [\n",
    "    \"../data/glove/glove.6B.zip\",\n",
    "    \"../data/glove/glove.twitter.27B.zip\",\n",
    "    \"../data/glove/glove.840B.300d.zip\",\n",
    "]"
   ]
  },
  {
   "cell_type": "code",
   "execution_count": 8,
   "metadata": {
    "ExecuteTime": {
     "end_time": "2021-02-23T05:06:46.345288Z",
     "start_time": "2021-02-23T05:06:46.334383Z"
    }
   },
   "outputs": [],
   "source": [
    "all_targets = [\n",
    "    (\"glove.6B.100d.txt\", \"glove.6B.300d.txt\"),\n",
    "    (\"glove.twitter.27B.200d.txt\",),\n",
    "    (\"glove.840B.300d.txt\",),\n",
    "]"
   ]
  },
  {
   "cell_type": "markdown",
   "metadata": {},
   "source": [
    "Downloads can take 10-20 min per target or longer, dpending on your connection. You can paste one of the urls in a browser do check download speed & time estimate.\n"
   ]
  },
  {
   "cell_type": "markdown",
   "metadata": {},
   "source": [
    "网速慢建议手动下\n"
   ]
  },
  {
   "cell_type": "code",
   "execution_count": 9,
   "metadata": {
    "ExecuteTime": {
     "end_time": "2021-02-23T05:44:32.843649Z",
     "start_time": "2021-02-23T05:06:46.346247Z"
    }
   },
   "outputs": [
    {
     "name": "stderr",
     "output_type": "stream",
     "text": [
      "100%|██████████| 4/4 [00:07<00:00,  1.90s/it]\n",
      "100%|██████████| 4/4 [00:11<00:00,  2.82s/it]\n",
      "100%|██████████| 1/1 [00:32<00:00, 32.28s/it]\n"
     ]
    }
   ],
   "source": [
    "for url, targets in zip(URLs, all_targets):\n",
    "    with ZipFile(file=url) as zip_file:\n",
    "        for file in tqdm(zip_file.namelist()):\n",
    "            if file in targets:\n",
    "                local_file = path / file\n",
    "                if not local_file.exists():\n",
    "                    with local_file.open(\"wb\") as output:\n",
    "                        for line in zip_file.open(file).readlines():\n",
    "                            output.write(line)"
   ]
  },
  {
   "cell_type": "code",
   "execution_count": null,
   "metadata": {},
   "outputs": [],
   "source": []
  }
 ],
 "metadata": {
  "kernelspec": {
   "display_name": "ml4t",
   "language": "python",
   "name": "python3"
  },
  "language_info": {
   "codemirror_mode": {
    "name": "ipython",
    "version": 3
   },
   "file_extension": ".py",
   "mimetype": "text/x-python",
   "name": "python",
   "nbconvert_exporter": "python",
   "pygments_lexer": "ipython3",
   "version": "3.11.9"
  },
  "toc": {
   "base_numbering": 1,
   "nav_menu": {},
   "number_sections": true,
   "sideBar": true,
   "skip_h1_title": true,
   "title_cell": "Table of Contents",
   "title_sidebar": "Contents",
   "toc_cell": false,
   "toc_position": {},
   "toc_section_display": true,
   "toc_window_display": true
  }
 },
 "nbformat": 4,
 "nbformat_minor": 4
}
